{
  "nbformat": 4,
  "nbformat_minor": 0,
  "metadata": {
    "colab": {
      "provenance": [],
      "toc_visible": true
    },
    "kernelspec": {
      "name": "python3",
      "display_name": "Python 3"
    },
    "language_info": {
      "name": "python"
    },
    "widgets": {
      "application/vnd.jupyter.widget-state+json": {
        "011d0c410ec6409fb08d0de95c36dee8": {
          "model_module": "jupyter-leaflet",
          "model_name": "LeafletMapModel",
          "model_module_version": "^0.17",
          "state": {
            "_dom_classes": [],
            "_model_module": "jupyter-leaflet",
            "_model_module_version": "^0.17",
            "_model_name": "LeafletMapModel",
            "_view_count": null,
            "_view_module": "jupyter-leaflet",
            "_view_module_version": "^0.17",
            "_view_name": "LeafletMapView",
            "bottom": 29540,
            "bounce_at_zoom_limits": true,
            "box_zoom": true,
            "center": [
              19.02057711096681,
              -98.62152099609376
            ],
            "close_popup_on_click": true,
            "controls": [
              "IPY_MODEL_9c1bc9f234644165967dfc418496baf7",
              "IPY_MODEL_291b400d985546089fd11c52434ac115",
              "IPY_MODEL_21dfbead135d40a6ad3e9a34dc5675b7",
              "IPY_MODEL_5ec9b6a93f704b95a7fbb039c81598b9",
              "IPY_MODEL_a12353b178764105b162d5d6ea5da1d6",
              "IPY_MODEL_e33a02564a7a41d8b22eba31bd3ebf8a",
              "IPY_MODEL_1e9f47fc95704f4fb5b92047816649ad",
              "IPY_MODEL_916ee9a15a2c49b3afd4bd1268e788e5",
              "IPY_MODEL_55b0b97193bf4d398e8e6f9643d61655"
            ],
            "crs": {
              "name": "EPSG3857",
              "custom": false
            },
            "default_style": "IPY_MODEL_773cba482f4c48dcbb5031ac247afb5f",
            "double_click_zoom": true,
            "dragging": true,
            "dragging_style": "IPY_MODEL_bb59497555ad44dab170d4a13afc39f7",
            "east": -95.83923339843751,
            "fullscreen": false,
            "inertia": true,
            "inertia_deceleration": 3000,
            "inertia_max_speed": 1500,
            "interpolation": "bilinear",
            "keyboard": true,
            "keyboard_pan_offset": 80,
            "keyboard_zoom_offset": 1,
            "layers": [
              "IPY_MODEL_2548cfbd32564482ba43b973673c120b",
              "IPY_MODEL_3661240d87cf4a669dd398fc3a28707a",
              "IPY_MODEL_e39cc054e20f4414a58d3a72f529913b"
            ],
            "layout": "IPY_MODEL_59347d07081248e99bd9b44b8ec1cc56",
            "left": 14308,
            "max_zoom": 24,
            "min_zoom": null,
            "modisdate": "2023-11-26",
            "north": 20.571081893508193,
            "options": [
              "bounce_at_zoom_limits",
              "box_zoom",
              "center",
              "close_popup_on_click",
              "double_click_zoom",
              "dragging",
              "fullscreen",
              "inertia",
              "inertia_deceleration",
              "inertia_max_speed",
              "interpolation",
              "keyboard",
              "keyboard_pan_offset",
              "keyboard_zoom_offset",
              "max_zoom",
              "min_zoom",
              "prefer_canvas",
              "scroll_wheel_zoom",
              "tap",
              "tap_tolerance",
              "touch_zoom",
              "world_copy_jump",
              "zoom",
              "zoom_animation_threshold",
              "zoom_delta",
              "zoom_snap"
            ],
            "panes": {},
            "prefer_canvas": false,
            "right": 15321,
            "scroll_wheel_zoom": true,
            "south": 17.45547257997284,
            "style": "IPY_MODEL_773cba482f4c48dcbb5031ac247afb5f",
            "tap": true,
            "tap_tolerance": 15,
            "top": 28940,
            "touch_zoom": true,
            "west": -101.40380859375001,
            "window_url": "https://n5jxog92otj-496ff2e9c6d22116-0-colab.googleusercontent.com/outputframe.html?vrz=colab_20231121-060051_RC00_584295192",
            "world_copy_jump": false,
            "zoom": 8,
            "zoom_animation_threshold": 4,
            "zoom_delta": 1,
            "zoom_snap": 1
          }
        },
        "9c1bc9f234644165967dfc418496baf7": {
          "model_module": "jupyter-leaflet",
          "model_name": "LeafletWidgetControlModel",
          "model_module_version": "^0.17",
          "state": {
            "_model_module": "jupyter-leaflet",
            "_model_module_version": "^0.17",
            "_model_name": "LeafletWidgetControlModel",
            "_view_count": null,
            "_view_module": "jupyter-leaflet",
            "_view_module_version": "^0.17",
            "_view_name": "LeafletWidgetControlView",
            "max_height": null,
            "max_width": null,
            "min_height": null,
            "min_width": null,
            "options": [
              "position",
              "transparent_bg"
            ],
            "position": "topleft",
            "transparent_bg": false,
            "widget": "IPY_MODEL_5f4858f9224d4907b20676b1d7182710"
          }
        },
        "291b400d985546089fd11c52434ac115": {
          "model_module": "jupyter-leaflet",
          "model_name": "LeafletZoomControlModel",
          "model_module_version": "^0.17",
          "state": {
            "_model_module": "jupyter-leaflet",
            "_model_module_version": "^0.17",
            "_model_name": "LeafletZoomControlModel",
            "_view_count": null,
            "_view_module": "jupyter-leaflet",
            "_view_module_version": "^0.17",
            "_view_name": "LeafletZoomControlView",
            "options": [
              "position",
              "zoom_in_text",
              "zoom_in_title",
              "zoom_out_text",
              "zoom_out_title"
            ],
            "position": "topleft",
            "zoom_in_text": "+",
            "zoom_in_title": "Zoom in",
            "zoom_out_text": "-",
            "zoom_out_title": "Zoom out"
          }
        },
        "21dfbead135d40a6ad3e9a34dc5675b7": {
          "model_module": "jupyter-leaflet",
          "model_name": "LeafletFullScreenControlModel",
          "model_module_version": "^0.17",
          "state": {
            "_model_module": "jupyter-leaflet",
            "_model_module_version": "^0.17",
            "_model_name": "LeafletFullScreenControlModel",
            "_view_count": null,
            "_view_module": "jupyter-leaflet",
            "_view_module_version": "^0.17",
            "_view_name": "LeafletFullScreenControlView",
            "options": [
              "position"
            ],
            "position": "topleft"
          }
        },
        "5ec9b6a93f704b95a7fbb039c81598b9": {
          "model_module": "jupyter-leaflet",
          "model_name": "LeafletDrawControlModel",
          "model_module_version": "^0.17",
          "state": {
            "_model_module": "jupyter-leaflet",
            "_model_module_version": "^0.17",
            "_model_name": "LeafletDrawControlModel",
            "_view_count": null,
            "_view_module": "jupyter-leaflet",
            "_view_module_version": "^0.17",
            "_view_name": "LeafletDrawControlView",
            "circle": {},
            "circlemarker": {},
            "data": [],
            "edit": true,
            "marker": {
              "shapeOptions": {
                "color": "#3388ff"
              }
            },
            "options": [
              "position"
            ],
            "polygon": {
              "shapeOptions": {}
            },
            "polyline": {
              "shapeOptions": {}
            },
            "position": "topleft",
            "rectangle": {
              "shapeOptions": {
                "color": "#3388ff"
              }
            },
            "remove": true
          }
        },
        "a12353b178764105b162d5d6ea5da1d6": {
          "model_module": "jupyter-leaflet",
          "model_name": "LeafletScaleControlModel",
          "model_module_version": "^0.17",
          "state": {
            "_model_module": "jupyter-leaflet",
            "_model_module_version": "^0.17",
            "_model_name": "LeafletScaleControlModel",
            "_view_count": null,
            "_view_module": "jupyter-leaflet",
            "_view_module_version": "^0.17",
            "_view_name": "LeafletScaleControlView",
            "imperial": true,
            "max_width": 100,
            "metric": true,
            "options": [
              "imperial",
              "max_width",
              "metric",
              "position",
              "update_when_idle"
            ],
            "position": "bottomleft",
            "update_when_idle": false
          }
        },
        "e33a02564a7a41d8b22eba31bd3ebf8a": {
          "model_module": "jupyter-leaflet",
          "model_name": "LeafletMeasureControlModel",
          "model_module_version": "^0.17",
          "state": {
            "_custom_units": {},
            "_model_module": "jupyter-leaflet",
            "_model_module_version": "^0.17",
            "_model_name": "LeafletMeasureControlModel",
            "_view_count": null,
            "_view_module": "jupyter-leaflet",
            "_view_module_version": "^0.17",
            "_view_name": "LeafletMeasureControlView",
            "active_color": "orange",
            "capture_z_index": 10000,
            "completed_color": "#C8F2BE",
            "options": [
              "active_color",
              "capture_z_index",
              "completed_color",
              "popup_options",
              "position",
              "primary_area_unit",
              "primary_length_unit",
              "secondary_area_unit",
              "secondary_length_unit"
            ],
            "popup_options": {
              "className": "leaflet-measure-resultpopup",
              "autoPanPadding": [
                10,
                10
              ]
            },
            "position": "bottomleft",
            "primary_area_unit": "acres",
            "primary_length_unit": "kilometers",
            "secondary_area_unit": null,
            "secondary_length_unit": null
          }
        },
        "1e9f47fc95704f4fb5b92047816649ad": {
          "model_module": "jupyter-leaflet",
          "model_name": "LeafletWidgetControlModel",
          "model_module_version": "^0.17",
          "state": {
            "_model_module": "jupyter-leaflet",
            "_model_module_version": "^0.17",
            "_model_name": "LeafletWidgetControlModel",
            "_view_count": null,
            "_view_module": "jupyter-leaflet",
            "_view_module_version": "^0.17",
            "_view_name": "LeafletWidgetControlView",
            "max_height": null,
            "max_width": null,
            "min_height": null,
            "min_width": null,
            "options": [
              "position",
              "transparent_bg"
            ],
            "position": "topright",
            "transparent_bg": false,
            "widget": "IPY_MODEL_15d7de4c7f4b4164b018b8fd40565b2e"
          }
        },
        "916ee9a15a2c49b3afd4bd1268e788e5": {
          "model_module": "jupyter-leaflet",
          "model_name": "LeafletAttributionControlModel",
          "model_module_version": "^0.17",
          "state": {
            "_model_module": "jupyter-leaflet",
            "_model_module_version": "^0.17",
            "_model_name": "LeafletAttributionControlModel",
            "_view_count": null,
            "_view_module": "jupyter-leaflet",
            "_view_module_version": "^0.17",
            "_view_name": "LeafletAttributionControlView",
            "options": [
              "position",
              "prefix"
            ],
            "position": "bottomright",
            "prefix": "ipyleaflet"
          }
        },
        "773cba482f4c48dcbb5031ac247afb5f": {
          "model_module": "jupyter-leaflet",
          "model_name": "LeafletMapStyleModel",
          "model_module_version": "^0.17",
          "state": {
            "_model_module": "jupyter-leaflet",
            "_model_module_version": "^0.17",
            "_model_name": "LeafletMapStyleModel",
            "_view_count": null,
            "_view_module": "@jupyter-widgets/base",
            "_view_module_version": "1.2.0",
            "_view_name": "StyleView",
            "cursor": "grab"
          }
        },
        "bb59497555ad44dab170d4a13afc39f7": {
          "model_module": "jupyter-leaflet",
          "model_name": "LeafletMapStyleModel",
          "model_module_version": "^0.17",
          "state": {
            "_model_module": "jupyter-leaflet",
            "_model_module_version": "^0.17",
            "_model_name": "LeafletMapStyleModel",
            "_view_count": null,
            "_view_module": "@jupyter-widgets/base",
            "_view_module_version": "1.2.0",
            "_view_name": "StyleView",
            "cursor": "move"
          }
        },
        "2548cfbd32564482ba43b973673c120b": {
          "model_module": "jupyter-leaflet",
          "model_name": "LeafletTileLayerModel",
          "model_module_version": "^0.17",
          "state": {
            "_model_module": "jupyter-leaflet",
            "_model_module_version": "^0.17",
            "_model_name": "LeafletTileLayerModel",
            "_view_count": null,
            "_view_module": "jupyter-leaflet",
            "_view_module_version": "^0.17",
            "_view_name": "LeafletTileLayerView",
            "attribution": "&copy; <a href=\"https://www.openstreetmap.org/copyright\">OpenStreetMap</a> contributors",
            "base": true,
            "bottom": true,
            "bounds": null,
            "detect_retina": false,
            "loading": false,
            "max_native_zoom": null,
            "max_zoom": 19,
            "min_native_zoom": null,
            "min_zoom": 1,
            "name": "OpenStreetMap.Mapnik",
            "no_wrap": false,
            "opacity": 1,
            "options": [
              "attribution",
              "bounds",
              "detect_retina",
              "max_native_zoom",
              "max_zoom",
              "min_native_zoom",
              "min_zoom",
              "no_wrap",
              "tile_size",
              "tms",
              "zoom_offset"
            ],
            "pane": "",
            "popup": null,
            "popup_max_height": null,
            "popup_max_width": 300,
            "popup_min_width": 50,
            "show_loading": false,
            "subitems": [],
            "tile_size": 256,
            "tms": false,
            "url": "https://tile.openstreetmap.org/{z}/{x}/{y}.png",
            "visible": true,
            "zoom_offset": 0
          }
        },
        "3661240d87cf4a669dd398fc3a28707a": {
          "model_module": "jupyter-leaflet",
          "model_name": "LeafletTileLayerModel",
          "model_module_version": "^0.17",
          "state": {
            "_model_module": "jupyter-leaflet",
            "_model_module_version": "^0.17",
            "_model_name": "LeafletTileLayerModel",
            "_view_count": null,
            "_view_module": "jupyter-leaflet",
            "_view_module_version": "^0.17",
            "_view_name": "LeafletTileLayerView",
            "attribution": "Google Earth Engine",
            "base": false,
            "bottom": true,
            "bounds": null,
            "detect_retina": false,
            "loading": false,
            "max_native_zoom": null,
            "max_zoom": 24,
            "min_native_zoom": null,
            "min_zoom": 0,
            "name": "Imagen RGB",
            "no_wrap": false,
            "opacity": 1,
            "options": [
              "attribution",
              "bounds",
              "detect_retina",
              "max_native_zoom",
              "max_zoom",
              "min_native_zoom",
              "min_zoom",
              "no_wrap",
              "tile_size",
              "tms",
              "zoom_offset"
            ],
            "pane": "",
            "popup": null,
            "popup_max_height": null,
            "popup_max_width": 300,
            "popup_min_width": 50,
            "show_loading": false,
            "subitems": [],
            "tile_size": 256,
            "tms": false,
            "url": "https://earthengine.googleapis.com/v1/projects/earthengine-legacy/maps/f7f21e40fc2e2831bdaa456890147ec2-27fd2878edff68aa24605bd1751cd406/tiles/{z}/{x}/{y}",
            "visible": true,
            "zoom_offset": 0
          }
        },
        "e39cc054e20f4414a58d3a72f529913b": {
          "model_module": "jupyter-leaflet",
          "model_name": "LeafletTileLayerModel",
          "model_module_version": "^0.17",
          "state": {
            "_model_module": "jupyter-leaflet",
            "_model_module_version": "^0.17",
            "_model_name": "LeafletTileLayerModel",
            "_view_count": null,
            "_view_module": "jupyter-leaflet",
            "_view_module_version": "^0.17",
            "_view_name": "LeafletTileLayerView",
            "attribution": "Google Earth Engine",
            "base": false,
            "bottom": true,
            "bounds": null,
            "detect_retina": false,
            "loading": false,
            "max_native_zoom": null,
            "max_zoom": 24,
            "min_native_zoom": null,
            "min_zoom": 0,
            "name": "Outline",
            "no_wrap": false,
            "opacity": 1,
            "options": [
              "attribution",
              "bounds",
              "detect_retina",
              "max_native_zoom",
              "max_zoom",
              "min_native_zoom",
              "min_zoom",
              "no_wrap",
              "tile_size",
              "tms",
              "zoom_offset"
            ],
            "pane": "",
            "popup": null,
            "popup_max_height": null,
            "popup_max_width": 300,
            "popup_min_width": 50,
            "show_loading": false,
            "subitems": [],
            "tile_size": 256,
            "tms": false,
            "url": "https://earthengine.googleapis.com/v1/projects/earthengine-legacy/maps/6aca0fdf2aab0d0bdeef7e24e516fd74-0e1be489bc49d4636b4090da49ef8833/tiles/{z}/{x}/{y}",
            "visible": true,
            "zoom_offset": 0
          }
        },
        "59347d07081248e99bd9b44b8ec1cc56": {
          "model_module": "@jupyter-widgets/base",
          "model_name": "LayoutModel",
          "model_module_version": "1.2.0",
          "state": {
            "_model_module": "@jupyter-widgets/base",
            "_model_module_version": "1.2.0",
            "_model_name": "LayoutModel",
            "_view_count": null,
            "_view_module": "@jupyter-widgets/base",
            "_view_module_version": "1.2.0",
            "_view_name": "LayoutView",
            "align_content": null,
            "align_items": null,
            "align_self": null,
            "border": null,
            "bottom": null,
            "display": null,
            "flex": null,
            "flex_flow": null,
            "grid_area": null,
            "grid_auto_columns": null,
            "grid_auto_flow": null,
            "grid_auto_rows": null,
            "grid_column": null,
            "grid_gap": null,
            "grid_row": null,
            "grid_template_areas": null,
            "grid_template_columns": null,
            "grid_template_rows": null,
            "height": "600px",
            "justify_content": null,
            "justify_items": null,
            "left": null,
            "margin": null,
            "max_height": null,
            "max_width": null,
            "min_height": null,
            "min_width": null,
            "object_fit": null,
            "object_position": null,
            "order": null,
            "overflow": null,
            "overflow_x": null,
            "overflow_y": null,
            "padding": null,
            "right": null,
            "top": null,
            "visibility": null,
            "width": null
          }
        },
        "d9fca917ac674446b248419db1063f9f": {
          "model_module": "jupyter-leaflet",
          "model_name": "LeafletMapStyleModel",
          "model_module_version": "^0.17",
          "state": {
            "_model_module": "jupyter-leaflet",
            "_model_module_version": "^0.17",
            "_model_name": "LeafletMapStyleModel",
            "_view_count": null,
            "_view_module": "@jupyter-widgets/base",
            "_view_module_version": "1.2.0",
            "_view_name": "StyleView",
            "cursor": "grab"
          }
        },
        "5f4858f9224d4907b20676b1d7182710": {
          "model_module": "@jupyter-widgets/controls",
          "model_name": "HBoxModel",
          "model_module_version": "1.5.0",
          "state": {
            "_dom_classes": [
              "geemap-colab"
            ],
            "_model_module": "@jupyter-widgets/controls",
            "_model_module_version": "1.5.0",
            "_model_name": "HBoxModel",
            "_view_count": null,
            "_view_module": "@jupyter-widgets/controls",
            "_view_module_version": "1.5.0",
            "_view_name": "HBoxView",
            "box_style": "",
            "children": [
              "IPY_MODEL_a981be42f454418a8c683bb7d29e0b44"
            ],
            "layout": "IPY_MODEL_0c617ce9ca4f400cb4428db09add7354"
          }
        },
        "15d7de4c7f4b4164b018b8fd40565b2e": {
          "model_module": "@jupyter-widgets/controls",
          "model_name": "VBoxModel",
          "model_module_version": "1.5.0",
          "state": {
            "_dom_classes": [
              "geemap-colab"
            ],
            "_model_module": "@jupyter-widgets/controls",
            "_model_module_version": "1.5.0",
            "_model_name": "VBoxModel",
            "_view_count": null,
            "_view_module": "@jupyter-widgets/controls",
            "_view_module_version": "1.5.0",
            "_view_name": "VBoxView",
            "box_style": "",
            "children": [
              "IPY_MODEL_f882857d07b24f32b13a1488d78ba011"
            ],
            "layout": "IPY_MODEL_dc4c72d34a63443c9fc26ecafce8e0fe"
          }
        },
        "a981be42f454418a8c683bb7d29e0b44": {
          "model_module": "@jupyter-widgets/controls",
          "model_name": "ToggleButtonModel",
          "model_module_version": "1.5.0",
          "state": {
            "_dom_classes": [],
            "_model_module": "@jupyter-widgets/controls",
            "_model_module_version": "1.5.0",
            "_model_name": "ToggleButtonModel",
            "_view_count": null,
            "_view_module": "@jupyter-widgets/controls",
            "_view_module_version": "1.5.0",
            "_view_name": "ToggleButtonView",
            "button_style": "",
            "description": "",
            "description_tooltip": null,
            "disabled": false,
            "icon": "globe",
            "layout": "IPY_MODEL_157269df01b6433890b1b4af127e999c",
            "style": "IPY_MODEL_4f4c27cb95364e9f85c5f80d4a00a1a5",
            "tooltip": "Search location/data",
            "value": false
          }
        },
        "0c617ce9ca4f400cb4428db09add7354": {
          "model_module": "@jupyter-widgets/base",
          "model_name": "LayoutModel",
          "model_module_version": "1.2.0",
          "state": {
            "_model_module": "@jupyter-widgets/base",
            "_model_module_version": "1.2.0",
            "_model_name": "LayoutModel",
            "_view_count": null,
            "_view_module": "@jupyter-widgets/base",
            "_view_module_version": "1.2.0",
            "_view_name": "LayoutView",
            "align_content": null,
            "align_items": null,
            "align_self": null,
            "border": null,
            "bottom": null,
            "display": null,
            "flex": null,
            "flex_flow": null,
            "grid_area": null,
            "grid_auto_columns": null,
            "grid_auto_flow": null,
            "grid_auto_rows": null,
            "grid_column": null,
            "grid_gap": null,
            "grid_row": null,
            "grid_template_areas": null,
            "grid_template_columns": null,
            "grid_template_rows": null,
            "height": null,
            "justify_content": null,
            "justify_items": null,
            "left": null,
            "margin": null,
            "max_height": null,
            "max_width": null,
            "min_height": null,
            "min_width": null,
            "object_fit": null,
            "object_position": null,
            "order": null,
            "overflow": null,
            "overflow_x": null,
            "overflow_y": null,
            "padding": null,
            "right": null,
            "top": null,
            "visibility": null,
            "width": null
          }
        },
        "f882857d07b24f32b13a1488d78ba011": {
          "model_module": "@jupyter-widgets/controls",
          "model_name": "ToggleButtonModel",
          "model_module_version": "1.5.0",
          "state": {
            "_dom_classes": [],
            "_model_module": "@jupyter-widgets/controls",
            "_model_module_version": "1.5.0",
            "_model_name": "ToggleButtonModel",
            "_view_count": null,
            "_view_module": "@jupyter-widgets/controls",
            "_view_module_version": "1.5.0",
            "_view_name": "ToggleButtonView",
            "button_style": "",
            "description": "",
            "description_tooltip": null,
            "disabled": false,
            "icon": "wrench",
            "layout": "IPY_MODEL_f0bb9a9a09c241a082571b477afbcf88",
            "style": "IPY_MODEL_c5736667aa874ee599abc58f8cb579e6",
            "tooltip": "Toolbar",
            "value": false
          }
        },
        "dc4c72d34a63443c9fc26ecafce8e0fe": {
          "model_module": "@jupyter-widgets/base",
          "model_name": "LayoutModel",
          "model_module_version": "1.2.0",
          "state": {
            "_model_module": "@jupyter-widgets/base",
            "_model_module_version": "1.2.0",
            "_model_name": "LayoutModel",
            "_view_count": null,
            "_view_module": "@jupyter-widgets/base",
            "_view_module_version": "1.2.0",
            "_view_name": "LayoutView",
            "align_content": null,
            "align_items": null,
            "align_self": null,
            "border": null,
            "bottom": null,
            "display": null,
            "flex": null,
            "flex_flow": null,
            "grid_area": null,
            "grid_auto_columns": null,
            "grid_auto_flow": null,
            "grid_auto_rows": null,
            "grid_column": null,
            "grid_gap": null,
            "grid_row": null,
            "grid_template_areas": null,
            "grid_template_columns": null,
            "grid_template_rows": null,
            "height": null,
            "justify_content": null,
            "justify_items": null,
            "left": null,
            "margin": null,
            "max_height": null,
            "max_width": null,
            "min_height": null,
            "min_width": null,
            "object_fit": null,
            "object_position": null,
            "order": null,
            "overflow": null,
            "overflow_x": null,
            "overflow_y": null,
            "padding": null,
            "right": null,
            "top": null,
            "visibility": null,
            "width": null
          }
        },
        "157269df01b6433890b1b4af127e999c": {
          "model_module": "@jupyter-widgets/base",
          "model_name": "LayoutModel",
          "model_module_version": "1.2.0",
          "state": {
            "_model_module": "@jupyter-widgets/base",
            "_model_module_version": "1.2.0",
            "_model_name": "LayoutModel",
            "_view_count": null,
            "_view_module": "@jupyter-widgets/base",
            "_view_module_version": "1.2.0",
            "_view_name": "LayoutView",
            "align_content": null,
            "align_items": null,
            "align_self": null,
            "border": null,
            "bottom": null,
            "display": null,
            "flex": null,
            "flex_flow": null,
            "grid_area": null,
            "grid_auto_columns": null,
            "grid_auto_flow": null,
            "grid_auto_rows": null,
            "grid_column": null,
            "grid_gap": null,
            "grid_row": null,
            "grid_template_areas": null,
            "grid_template_columns": null,
            "grid_template_rows": null,
            "height": "28px",
            "justify_content": null,
            "justify_items": null,
            "left": null,
            "margin": null,
            "max_height": null,
            "max_width": null,
            "min_height": null,
            "min_width": null,
            "object_fit": null,
            "object_position": null,
            "order": null,
            "overflow": null,
            "overflow_x": null,
            "overflow_y": null,
            "padding": "0px 0px 0px 4px",
            "right": null,
            "top": null,
            "visibility": null,
            "width": "28px"
          }
        },
        "4f4c27cb95364e9f85c5f80d4a00a1a5": {
          "model_module": "@jupyter-widgets/controls",
          "model_name": "DescriptionStyleModel",
          "model_module_version": "1.5.0",
          "state": {
            "_model_module": "@jupyter-widgets/controls",
            "_model_module_version": "1.5.0",
            "_model_name": "DescriptionStyleModel",
            "_view_count": null,
            "_view_module": "@jupyter-widgets/base",
            "_view_module_version": "1.2.0",
            "_view_name": "StyleView",
            "description_width": ""
          }
        },
        "f0bb9a9a09c241a082571b477afbcf88": {
          "model_module": "@jupyter-widgets/base",
          "model_name": "LayoutModel",
          "model_module_version": "1.2.0",
          "state": {
            "_model_module": "@jupyter-widgets/base",
            "_model_module_version": "1.2.0",
            "_model_name": "LayoutModel",
            "_view_count": null,
            "_view_module": "@jupyter-widgets/base",
            "_view_module_version": "1.2.0",
            "_view_name": "LayoutView",
            "align_content": null,
            "align_items": null,
            "align_self": null,
            "border": null,
            "bottom": null,
            "display": null,
            "flex": null,
            "flex_flow": null,
            "grid_area": null,
            "grid_auto_columns": null,
            "grid_auto_flow": null,
            "grid_auto_rows": null,
            "grid_column": null,
            "grid_gap": null,
            "grid_row": null,
            "grid_template_areas": null,
            "grid_template_columns": null,
            "grid_template_rows": null,
            "height": "28px",
            "justify_content": null,
            "justify_items": null,
            "left": null,
            "margin": null,
            "max_height": null,
            "max_width": null,
            "min_height": null,
            "min_width": null,
            "object_fit": null,
            "object_position": null,
            "order": null,
            "overflow": null,
            "overflow_x": null,
            "overflow_y": null,
            "padding": "0px 0px 0px 4px",
            "right": null,
            "top": null,
            "visibility": null,
            "width": "28px"
          }
        },
        "c5736667aa874ee599abc58f8cb579e6": {
          "model_module": "@jupyter-widgets/controls",
          "model_name": "DescriptionStyleModel",
          "model_module_version": "1.5.0",
          "state": {
            "_model_module": "@jupyter-widgets/controls",
            "_model_module_version": "1.5.0",
            "_model_name": "DescriptionStyleModel",
            "_view_count": null,
            "_view_module": "@jupyter-widgets/base",
            "_view_module_version": "1.2.0",
            "_view_name": "StyleView",
            "description_width": ""
          }
        },
        "55b0b97193bf4d398e8e6f9643d61655": {
          "model_module": "jupyter-leaflet",
          "model_name": "LeafletLayersControlModel",
          "model_module_version": "^0.17",
          "state": {
            "_model_module": "jupyter-leaflet",
            "_model_module_version": "^0.17",
            "_model_name": "LeafletLayersControlModel",
            "_view_count": null,
            "_view_module": "jupyter-leaflet",
            "_view_module_version": "^0.17",
            "_view_name": "LeafletLayersControlView",
            "options": [
              "position"
            ],
            "position": "topright"
          }
        },
        "f80cf98b64554e3197bf89cfd98a7e82": {
          "model_module": "jupyter-leaflet",
          "model_name": "LeafletMapModel",
          "model_module_version": "^0.17",
          "state": {
            "_dom_classes": [],
            "_model_module": "jupyter-leaflet",
            "_model_module_version": "^0.17",
            "_model_name": "LeafletMapModel",
            "_view_count": null,
            "_view_module": "jupyter-leaflet",
            "_view_module_version": "^0.17",
            "_view_name": "LeafletMapView",
            "bottom": 29540,
            "bounce_at_zoom_limits": true,
            "box_zoom": true,
            "center": [
              19.02057711096681,
              -98.62152099609376
            ],
            "close_popup_on_click": true,
            "controls": [
              "IPY_MODEL_b711c836f6f94d43ba0d0342536a8c37",
              "IPY_MODEL_32a7a4e576db48188d88b4a95d3aac70",
              "IPY_MODEL_e5be67a2f2f74b3aa8dab706d5c607ca",
              "IPY_MODEL_731808d800ea48c6ad30c8fcf853a50c",
              "IPY_MODEL_514b7d444760473cbd9c56a89fa98979",
              "IPY_MODEL_98048a352ad442148c6f273db05a9147",
              "IPY_MODEL_fddec47d68c244d1ac9977b6064e9f94",
              "IPY_MODEL_c757ccdb94aa48a888696aa544968fba"
            ],
            "crs": {
              "name": "EPSG3857",
              "custom": false
            },
            "default_style": "IPY_MODEL_380172ff51d14422b833216ad26b4bfa",
            "double_click_zoom": true,
            "dragging": true,
            "dragging_style": "IPY_MODEL_19b96764f5404369b743748576b444df",
            "east": -95.83923339843751,
            "fullscreen": false,
            "inertia": true,
            "inertia_deceleration": 3000,
            "inertia_max_speed": 1500,
            "interpolation": "bilinear",
            "keyboard": true,
            "keyboard_pan_offset": 80,
            "keyboard_zoom_offset": 1,
            "layers": [
              "IPY_MODEL_47ec217859fc407a90ec2954422a9128",
              "IPY_MODEL_0c9d0363c86e44c38860f9d7297bd313",
              "IPY_MODEL_d863e1477d1f48458e0efbcddf795f35",
              "IPY_MODEL_86e73000ecb9451cbb6cf991a8cee228"
            ],
            "layout": "IPY_MODEL_99c0dfe45efb4d31a818ed26959c23bd",
            "left": 14308,
            "max_zoom": 24,
            "min_zoom": null,
            "modisdate": "2023-11-26",
            "north": 20.571081893508193,
            "options": [
              "bounce_at_zoom_limits",
              "box_zoom",
              "center",
              "close_popup_on_click",
              "double_click_zoom",
              "dragging",
              "fullscreen",
              "inertia",
              "inertia_deceleration",
              "inertia_max_speed",
              "interpolation",
              "keyboard",
              "keyboard_pan_offset",
              "keyboard_zoom_offset",
              "max_zoom",
              "min_zoom",
              "prefer_canvas",
              "scroll_wheel_zoom",
              "tap",
              "tap_tolerance",
              "touch_zoom",
              "world_copy_jump",
              "zoom",
              "zoom_animation_threshold",
              "zoom_delta",
              "zoom_snap"
            ],
            "panes": {},
            "prefer_canvas": false,
            "right": 15321,
            "scroll_wheel_zoom": true,
            "south": 17.45547257997284,
            "style": "IPY_MODEL_380172ff51d14422b833216ad26b4bfa",
            "tap": true,
            "tap_tolerance": 15,
            "top": 28940,
            "touch_zoom": true,
            "west": -101.40380859375001,
            "window_url": "https://n5jxog92otj-496ff2e9c6d22116-0-colab.googleusercontent.com/outputframe.html?vrz=colab_20231121-060051_RC00_584295192",
            "world_copy_jump": false,
            "zoom": 8,
            "zoom_animation_threshold": 4,
            "zoom_delta": 1,
            "zoom_snap": 1
          }
        },
        "b711c836f6f94d43ba0d0342536a8c37": {
          "model_module": "jupyter-leaflet",
          "model_name": "LeafletWidgetControlModel",
          "model_module_version": "^0.17",
          "state": {
            "_model_module": "jupyter-leaflet",
            "_model_module_version": "^0.17",
            "_model_name": "LeafletWidgetControlModel",
            "_view_count": null,
            "_view_module": "jupyter-leaflet",
            "_view_module_version": "^0.17",
            "_view_name": "LeafletWidgetControlView",
            "max_height": null,
            "max_width": null,
            "min_height": null,
            "min_width": null,
            "options": [
              "position",
              "transparent_bg"
            ],
            "position": "topleft",
            "transparent_bg": false,
            "widget": "IPY_MODEL_8544f10dc73b42e8a90d73e795755ccd"
          }
        },
        "32a7a4e576db48188d88b4a95d3aac70": {
          "model_module": "jupyter-leaflet",
          "model_name": "LeafletZoomControlModel",
          "model_module_version": "^0.17",
          "state": {
            "_model_module": "jupyter-leaflet",
            "_model_module_version": "^0.17",
            "_model_name": "LeafletZoomControlModel",
            "_view_count": null,
            "_view_module": "jupyter-leaflet",
            "_view_module_version": "^0.17",
            "_view_name": "LeafletZoomControlView",
            "options": [
              "position",
              "zoom_in_text",
              "zoom_in_title",
              "zoom_out_text",
              "zoom_out_title"
            ],
            "position": "topleft",
            "zoom_in_text": "+",
            "zoom_in_title": "Zoom in",
            "zoom_out_text": "-",
            "zoom_out_title": "Zoom out"
          }
        },
        "e5be67a2f2f74b3aa8dab706d5c607ca": {
          "model_module": "jupyter-leaflet",
          "model_name": "LeafletFullScreenControlModel",
          "model_module_version": "^0.17",
          "state": {
            "_model_module": "jupyter-leaflet",
            "_model_module_version": "^0.17",
            "_model_name": "LeafletFullScreenControlModel",
            "_view_count": null,
            "_view_module": "jupyter-leaflet",
            "_view_module_version": "^0.17",
            "_view_name": "LeafletFullScreenControlView",
            "options": [
              "position"
            ],
            "position": "topleft"
          }
        },
        "731808d800ea48c6ad30c8fcf853a50c": {
          "model_module": "jupyter-leaflet",
          "model_name": "LeafletDrawControlModel",
          "model_module_version": "^0.17",
          "state": {
            "_model_module": "jupyter-leaflet",
            "_model_module_version": "^0.17",
            "_model_name": "LeafletDrawControlModel",
            "_view_count": null,
            "_view_module": "jupyter-leaflet",
            "_view_module_version": "^0.17",
            "_view_name": "LeafletDrawControlView",
            "circle": {},
            "circlemarker": {},
            "data": [],
            "edit": true,
            "marker": {
              "shapeOptions": {
                "color": "#3388ff"
              }
            },
            "options": [
              "position"
            ],
            "polygon": {
              "shapeOptions": {}
            },
            "polyline": {
              "shapeOptions": {}
            },
            "position": "topleft",
            "rectangle": {
              "shapeOptions": {
                "color": "#3388ff"
              }
            },
            "remove": true
          }
        },
        "514b7d444760473cbd9c56a89fa98979": {
          "model_module": "jupyter-leaflet",
          "model_name": "LeafletScaleControlModel",
          "model_module_version": "^0.17",
          "state": {
            "_model_module": "jupyter-leaflet",
            "_model_module_version": "^0.17",
            "_model_name": "LeafletScaleControlModel",
            "_view_count": null,
            "_view_module": "jupyter-leaflet",
            "_view_module_version": "^0.17",
            "_view_name": "LeafletScaleControlView",
            "imperial": true,
            "max_width": 100,
            "metric": true,
            "options": [
              "imperial",
              "max_width",
              "metric",
              "position",
              "update_when_idle"
            ],
            "position": "bottomleft",
            "update_when_idle": false
          }
        },
        "98048a352ad442148c6f273db05a9147": {
          "model_module": "jupyter-leaflet",
          "model_name": "LeafletMeasureControlModel",
          "model_module_version": "^0.17",
          "state": {
            "_custom_units": {},
            "_model_module": "jupyter-leaflet",
            "_model_module_version": "^0.17",
            "_model_name": "LeafletMeasureControlModel",
            "_view_count": null,
            "_view_module": "jupyter-leaflet",
            "_view_module_version": "^0.17",
            "_view_name": "LeafletMeasureControlView",
            "active_color": "orange",
            "capture_z_index": 10000,
            "completed_color": "#C8F2BE",
            "options": [
              "active_color",
              "capture_z_index",
              "completed_color",
              "popup_options",
              "position",
              "primary_area_unit",
              "primary_length_unit",
              "secondary_area_unit",
              "secondary_length_unit"
            ],
            "popup_options": {
              "className": "leaflet-measure-resultpopup",
              "autoPanPadding": [
                10,
                10
              ]
            },
            "position": "bottomleft",
            "primary_area_unit": "acres",
            "primary_length_unit": "kilometers",
            "secondary_area_unit": null,
            "secondary_length_unit": null
          }
        },
        "fddec47d68c244d1ac9977b6064e9f94": {
          "model_module": "jupyter-leaflet",
          "model_name": "LeafletWidgetControlModel",
          "model_module_version": "^0.17",
          "state": {
            "_model_module": "jupyter-leaflet",
            "_model_module_version": "^0.17",
            "_model_name": "LeafletWidgetControlModel",
            "_view_count": null,
            "_view_module": "jupyter-leaflet",
            "_view_module_version": "^0.17",
            "_view_name": "LeafletWidgetControlView",
            "max_height": null,
            "max_width": null,
            "min_height": null,
            "min_width": null,
            "options": [
              "position",
              "transparent_bg"
            ],
            "position": "topright",
            "transparent_bg": false,
            "widget": "IPY_MODEL_92d81d749ddf4611a99fbd7286da12e6"
          }
        },
        "c757ccdb94aa48a888696aa544968fba": {
          "model_module": "jupyter-leaflet",
          "model_name": "LeafletAttributionControlModel",
          "model_module_version": "^0.17",
          "state": {
            "_model_module": "jupyter-leaflet",
            "_model_module_version": "^0.17",
            "_model_name": "LeafletAttributionControlModel",
            "_view_count": null,
            "_view_module": "jupyter-leaflet",
            "_view_module_version": "^0.17",
            "_view_name": "LeafletAttributionControlView",
            "options": [
              "position",
              "prefix"
            ],
            "position": "bottomright",
            "prefix": "ipyleaflet"
          }
        },
        "380172ff51d14422b833216ad26b4bfa": {
          "model_module": "jupyter-leaflet",
          "model_name": "LeafletMapStyleModel",
          "model_module_version": "^0.17",
          "state": {
            "_model_module": "jupyter-leaflet",
            "_model_module_version": "^0.17",
            "_model_name": "LeafletMapStyleModel",
            "_view_count": null,
            "_view_module": "@jupyter-widgets/base",
            "_view_module_version": "1.2.0",
            "_view_name": "StyleView",
            "cursor": "grab"
          }
        },
        "19b96764f5404369b743748576b444df": {
          "model_module": "jupyter-leaflet",
          "model_name": "LeafletMapStyleModel",
          "model_module_version": "^0.17",
          "state": {
            "_model_module": "jupyter-leaflet",
            "_model_module_version": "^0.17",
            "_model_name": "LeafletMapStyleModel",
            "_view_count": null,
            "_view_module": "@jupyter-widgets/base",
            "_view_module_version": "1.2.0",
            "_view_name": "StyleView",
            "cursor": "move"
          }
        },
        "47ec217859fc407a90ec2954422a9128": {
          "model_module": "jupyter-leaflet",
          "model_name": "LeafletTileLayerModel",
          "model_module_version": "^0.17",
          "state": {
            "_model_module": "jupyter-leaflet",
            "_model_module_version": "^0.17",
            "_model_name": "LeafletTileLayerModel",
            "_view_count": null,
            "_view_module": "jupyter-leaflet",
            "_view_module_version": "^0.17",
            "_view_name": "LeafletTileLayerView",
            "attribution": "&copy; <a href=\"https://www.openstreetmap.org/copyright\">OpenStreetMap</a> contributors",
            "base": true,
            "bottom": true,
            "bounds": null,
            "detect_retina": false,
            "loading": false,
            "max_native_zoom": null,
            "max_zoom": 19,
            "min_native_zoom": null,
            "min_zoom": 1,
            "name": "OpenStreetMap.Mapnik",
            "no_wrap": false,
            "opacity": 1,
            "options": [
              "attribution",
              "bounds",
              "detect_retina",
              "max_native_zoom",
              "max_zoom",
              "min_native_zoom",
              "min_zoom",
              "no_wrap",
              "tile_size",
              "tms",
              "zoom_offset"
            ],
            "pane": "",
            "popup": null,
            "popup_max_height": null,
            "popup_max_width": 300,
            "popup_min_width": 50,
            "show_loading": false,
            "subitems": [],
            "tile_size": 256,
            "tms": false,
            "url": "https://tile.openstreetmap.org/{z}/{x}/{y}.png",
            "visible": true,
            "zoom_offset": 0
          }
        },
        "0c9d0363c86e44c38860f9d7297bd313": {
          "model_module": "jupyter-leaflet",
          "model_name": "LeafletTileLayerModel",
          "model_module_version": "^0.17",
          "state": {
            "_model_module": "jupyter-leaflet",
            "_model_module_version": "^0.17",
            "_model_name": "LeafletTileLayerModel",
            "_view_count": null,
            "_view_module": "jupyter-leaflet",
            "_view_module_version": "^0.17",
            "_view_name": "LeafletTileLayerView",
            "attribution": "Google Earth Engine",
            "base": false,
            "bottom": true,
            "bounds": null,
            "detect_retina": false,
            "loading": false,
            "max_native_zoom": null,
            "max_zoom": 24,
            "min_native_zoom": null,
            "min_zoom": 0,
            "name": "Imagen RGB",
            "no_wrap": false,
            "opacity": 1,
            "options": [
              "attribution",
              "bounds",
              "detect_retina",
              "max_native_zoom",
              "max_zoom",
              "min_native_zoom",
              "min_zoom",
              "no_wrap",
              "tile_size",
              "tms",
              "zoom_offset"
            ],
            "pane": "",
            "popup": null,
            "popup_max_height": null,
            "popup_max_width": 300,
            "popup_min_width": 50,
            "show_loading": false,
            "subitems": [],
            "tile_size": 256,
            "tms": false,
            "url": "https://earthengine.googleapis.com/v1/projects/earthengine-legacy/maps/3e657884c432b33a34fd5c2a4424e0db-3672c7c9c34cf8487a7ba020af1c058a/tiles/{z}/{x}/{y}",
            "visible": true,
            "zoom_offset": 0
          }
        },
        "d863e1477d1f48458e0efbcddf795f35": {
          "model_module": "jupyter-leaflet",
          "model_name": "LeafletTileLayerModel",
          "model_module_version": "^0.17",
          "state": {
            "_model_module": "jupyter-leaflet",
            "_model_module_version": "^0.17",
            "_model_name": "LeafletTileLayerModel",
            "_view_count": null,
            "_view_module": "jupyter-leaflet",
            "_view_module_version": "^0.17",
            "_view_name": "LeafletTileLayerView",
            "attribution": "Google Earth Engine",
            "base": false,
            "bottom": true,
            "bounds": null,
            "detect_retina": false,
            "loading": false,
            "max_native_zoom": null,
            "max_zoom": 24,
            "min_native_zoom": null,
            "min_zoom": 0,
            "name": "Masked image Meth1",
            "no_wrap": false,
            "opacity": 1,
            "options": [
              "attribution",
              "bounds",
              "detect_retina",
              "max_native_zoom",
              "max_zoom",
              "min_native_zoom",
              "min_zoom",
              "no_wrap",
              "tile_size",
              "tms",
              "zoom_offset"
            ],
            "pane": "",
            "popup": null,
            "popup_max_height": null,
            "popup_max_width": 300,
            "popup_min_width": 50,
            "show_loading": false,
            "subitems": [],
            "tile_size": 256,
            "tms": false,
            "url": "https://earthengine.googleapis.com/v1/projects/earthengine-legacy/maps/754b143f1404c53dbb4b673b0613e165-7e6e95db282ffd3fc997cdf1ea3217d7/tiles/{z}/{x}/{y}",
            "visible": true,
            "zoom_offset": 0
          }
        },
        "86e73000ecb9451cbb6cf991a8cee228": {
          "model_module": "jupyter-leaflet",
          "model_name": "LeafletTileLayerModel",
          "model_module_version": "^0.17",
          "state": {
            "_model_module": "jupyter-leaflet",
            "_model_module_version": "^0.17",
            "_model_name": "LeafletTileLayerModel",
            "_view_count": null,
            "_view_module": "jupyter-leaflet",
            "_view_module_version": "^0.17",
            "_view_name": "LeafletTileLayerView",
            "attribution": "Google Earth Engine",
            "base": false,
            "bottom": true,
            "bounds": null,
            "detect_retina": false,
            "loading": false,
            "max_native_zoom": null,
            "max_zoom": 24,
            "min_native_zoom": null,
            "min_zoom": 0,
            "name": "Outline",
            "no_wrap": false,
            "opacity": 1,
            "options": [
              "attribution",
              "bounds",
              "detect_retina",
              "max_native_zoom",
              "max_zoom",
              "min_native_zoom",
              "min_zoom",
              "no_wrap",
              "tile_size",
              "tms",
              "zoom_offset"
            ],
            "pane": "",
            "popup": null,
            "popup_max_height": null,
            "popup_max_width": 300,
            "popup_min_width": 50,
            "show_loading": false,
            "subitems": [],
            "tile_size": 256,
            "tms": false,
            "url": "https://earthengine.googleapis.com/v1/projects/earthengine-legacy/maps/45a758c7024d0a9a460b3a4aa41dd83b-44c91dda49772233496b0181fd2c738e/tiles/{z}/{x}/{y}",
            "visible": true,
            "zoom_offset": 0
          }
        },
        "99c0dfe45efb4d31a818ed26959c23bd": {
          "model_module": "@jupyter-widgets/base",
          "model_name": "LayoutModel",
          "model_module_version": "1.2.0",
          "state": {
            "_model_module": "@jupyter-widgets/base",
            "_model_module_version": "1.2.0",
            "_model_name": "LayoutModel",
            "_view_count": null,
            "_view_module": "@jupyter-widgets/base",
            "_view_module_version": "1.2.0",
            "_view_name": "LayoutView",
            "align_content": null,
            "align_items": null,
            "align_self": null,
            "border": null,
            "bottom": null,
            "display": null,
            "flex": null,
            "flex_flow": null,
            "grid_area": null,
            "grid_auto_columns": null,
            "grid_auto_flow": null,
            "grid_auto_rows": null,
            "grid_column": null,
            "grid_gap": null,
            "grid_row": null,
            "grid_template_areas": null,
            "grid_template_columns": null,
            "grid_template_rows": null,
            "height": "600px",
            "justify_content": null,
            "justify_items": null,
            "left": null,
            "margin": null,
            "max_height": null,
            "max_width": null,
            "min_height": null,
            "min_width": null,
            "object_fit": null,
            "object_position": null,
            "order": null,
            "overflow": null,
            "overflow_x": null,
            "overflow_y": null,
            "padding": null,
            "right": null,
            "top": null,
            "visibility": null,
            "width": null
          }
        },
        "3b2b70518b25417fb25607cf1b59011d": {
          "model_module": "jupyter-leaflet",
          "model_name": "LeafletMapStyleModel",
          "model_module_version": "^0.17",
          "state": {
            "_model_module": "jupyter-leaflet",
            "_model_module_version": "^0.17",
            "_model_name": "LeafletMapStyleModel",
            "_view_count": null,
            "_view_module": "@jupyter-widgets/base",
            "_view_module_version": "1.2.0",
            "_view_name": "StyleView",
            "cursor": "grab"
          }
        },
        "8544f10dc73b42e8a90d73e795755ccd": {
          "model_module": "@jupyter-widgets/controls",
          "model_name": "HBoxModel",
          "model_module_version": "1.5.0",
          "state": {
            "_dom_classes": [
              "geemap-colab"
            ],
            "_model_module": "@jupyter-widgets/controls",
            "_model_module_version": "1.5.0",
            "_model_name": "HBoxModel",
            "_view_count": null,
            "_view_module": "@jupyter-widgets/controls",
            "_view_module_version": "1.5.0",
            "_view_name": "HBoxView",
            "box_style": "",
            "children": [
              "IPY_MODEL_c8295516a27a4faabda482520920f8ec"
            ],
            "layout": "IPY_MODEL_051f614666db4468b58a2b5807a53d03"
          }
        },
        "92d81d749ddf4611a99fbd7286da12e6": {
          "model_module": "@jupyter-widgets/controls",
          "model_name": "VBoxModel",
          "model_module_version": "1.5.0",
          "state": {
            "_dom_classes": [
              "geemap-colab"
            ],
            "_model_module": "@jupyter-widgets/controls",
            "_model_module_version": "1.5.0",
            "_model_name": "VBoxModel",
            "_view_count": null,
            "_view_module": "@jupyter-widgets/controls",
            "_view_module_version": "1.5.0",
            "_view_name": "VBoxView",
            "box_style": "",
            "children": [
              "IPY_MODEL_1c3d593e744942899a489e47a53d7d8c"
            ],
            "layout": "IPY_MODEL_e0c905fc8610498a888f36476f956fd4"
          }
        },
        "c8295516a27a4faabda482520920f8ec": {
          "model_module": "@jupyter-widgets/controls",
          "model_name": "ToggleButtonModel",
          "model_module_version": "1.5.0",
          "state": {
            "_dom_classes": [],
            "_model_module": "@jupyter-widgets/controls",
            "_model_module_version": "1.5.0",
            "_model_name": "ToggleButtonModel",
            "_view_count": null,
            "_view_module": "@jupyter-widgets/controls",
            "_view_module_version": "1.5.0",
            "_view_name": "ToggleButtonView",
            "button_style": "",
            "description": "",
            "description_tooltip": null,
            "disabled": false,
            "icon": "globe",
            "layout": "IPY_MODEL_14c80d457cae4287a162e4c5b9199afe",
            "style": "IPY_MODEL_b572bb8dcb544abeb462cbb4e5b1e81c",
            "tooltip": "Search location/data",
            "value": false
          }
        },
        "051f614666db4468b58a2b5807a53d03": {
          "model_module": "@jupyter-widgets/base",
          "model_name": "LayoutModel",
          "model_module_version": "1.2.0",
          "state": {
            "_model_module": "@jupyter-widgets/base",
            "_model_module_version": "1.2.0",
            "_model_name": "LayoutModel",
            "_view_count": null,
            "_view_module": "@jupyter-widgets/base",
            "_view_module_version": "1.2.0",
            "_view_name": "LayoutView",
            "align_content": null,
            "align_items": null,
            "align_self": null,
            "border": null,
            "bottom": null,
            "display": null,
            "flex": null,
            "flex_flow": null,
            "grid_area": null,
            "grid_auto_columns": null,
            "grid_auto_flow": null,
            "grid_auto_rows": null,
            "grid_column": null,
            "grid_gap": null,
            "grid_row": null,
            "grid_template_areas": null,
            "grid_template_columns": null,
            "grid_template_rows": null,
            "height": null,
            "justify_content": null,
            "justify_items": null,
            "left": null,
            "margin": null,
            "max_height": null,
            "max_width": null,
            "min_height": null,
            "min_width": null,
            "object_fit": null,
            "object_position": null,
            "order": null,
            "overflow": null,
            "overflow_x": null,
            "overflow_y": null,
            "padding": null,
            "right": null,
            "top": null,
            "visibility": null,
            "width": null
          }
        },
        "1c3d593e744942899a489e47a53d7d8c": {
          "model_module": "@jupyter-widgets/controls",
          "model_name": "ToggleButtonModel",
          "model_module_version": "1.5.0",
          "state": {
            "_dom_classes": [],
            "_model_module": "@jupyter-widgets/controls",
            "_model_module_version": "1.5.0",
            "_model_name": "ToggleButtonModel",
            "_view_count": null,
            "_view_module": "@jupyter-widgets/controls",
            "_view_module_version": "1.5.0",
            "_view_name": "ToggleButtonView",
            "button_style": "",
            "description": "",
            "description_tooltip": null,
            "disabled": false,
            "icon": "wrench",
            "layout": "IPY_MODEL_8eb42027d98c4328b4c4d2288ddab5b5",
            "style": "IPY_MODEL_7b30ebe46de144858fd60d3521aedbb8",
            "tooltip": "Toolbar",
            "value": false
          }
        },
        "e0c905fc8610498a888f36476f956fd4": {
          "model_module": "@jupyter-widgets/base",
          "model_name": "LayoutModel",
          "model_module_version": "1.2.0",
          "state": {
            "_model_module": "@jupyter-widgets/base",
            "_model_module_version": "1.2.0",
            "_model_name": "LayoutModel",
            "_view_count": null,
            "_view_module": "@jupyter-widgets/base",
            "_view_module_version": "1.2.0",
            "_view_name": "LayoutView",
            "align_content": null,
            "align_items": null,
            "align_self": null,
            "border": null,
            "bottom": null,
            "display": null,
            "flex": null,
            "flex_flow": null,
            "grid_area": null,
            "grid_auto_columns": null,
            "grid_auto_flow": null,
            "grid_auto_rows": null,
            "grid_column": null,
            "grid_gap": null,
            "grid_row": null,
            "grid_template_areas": null,
            "grid_template_columns": null,
            "grid_template_rows": null,
            "height": null,
            "justify_content": null,
            "justify_items": null,
            "left": null,
            "margin": null,
            "max_height": null,
            "max_width": null,
            "min_height": null,
            "min_width": null,
            "object_fit": null,
            "object_position": null,
            "order": null,
            "overflow": null,
            "overflow_x": null,
            "overflow_y": null,
            "padding": null,
            "right": null,
            "top": null,
            "visibility": null,
            "width": null
          }
        },
        "14c80d457cae4287a162e4c5b9199afe": {
          "model_module": "@jupyter-widgets/base",
          "model_name": "LayoutModel",
          "model_module_version": "1.2.0",
          "state": {
            "_model_module": "@jupyter-widgets/base",
            "_model_module_version": "1.2.0",
            "_model_name": "LayoutModel",
            "_view_count": null,
            "_view_module": "@jupyter-widgets/base",
            "_view_module_version": "1.2.0",
            "_view_name": "LayoutView",
            "align_content": null,
            "align_items": null,
            "align_self": null,
            "border": null,
            "bottom": null,
            "display": null,
            "flex": null,
            "flex_flow": null,
            "grid_area": null,
            "grid_auto_columns": null,
            "grid_auto_flow": null,
            "grid_auto_rows": null,
            "grid_column": null,
            "grid_gap": null,
            "grid_row": null,
            "grid_template_areas": null,
            "grid_template_columns": null,
            "grid_template_rows": null,
            "height": "28px",
            "justify_content": null,
            "justify_items": null,
            "left": null,
            "margin": null,
            "max_height": null,
            "max_width": null,
            "min_height": null,
            "min_width": null,
            "object_fit": null,
            "object_position": null,
            "order": null,
            "overflow": null,
            "overflow_x": null,
            "overflow_y": null,
            "padding": "0px 0px 0px 4px",
            "right": null,
            "top": null,
            "visibility": null,
            "width": "28px"
          }
        },
        "b572bb8dcb544abeb462cbb4e5b1e81c": {
          "model_module": "@jupyter-widgets/controls",
          "model_name": "DescriptionStyleModel",
          "model_module_version": "1.5.0",
          "state": {
            "_model_module": "@jupyter-widgets/controls",
            "_model_module_version": "1.5.0",
            "_model_name": "DescriptionStyleModel",
            "_view_count": null,
            "_view_module": "@jupyter-widgets/base",
            "_view_module_version": "1.2.0",
            "_view_name": "StyleView",
            "description_width": ""
          }
        },
        "8eb42027d98c4328b4c4d2288ddab5b5": {
          "model_module": "@jupyter-widgets/base",
          "model_name": "LayoutModel",
          "model_module_version": "1.2.0",
          "state": {
            "_model_module": "@jupyter-widgets/base",
            "_model_module_version": "1.2.0",
            "_model_name": "LayoutModel",
            "_view_count": null,
            "_view_module": "@jupyter-widgets/base",
            "_view_module_version": "1.2.0",
            "_view_name": "LayoutView",
            "align_content": null,
            "align_items": null,
            "align_self": null,
            "border": null,
            "bottom": null,
            "display": null,
            "flex": null,
            "flex_flow": null,
            "grid_area": null,
            "grid_auto_columns": null,
            "grid_auto_flow": null,
            "grid_auto_rows": null,
            "grid_column": null,
            "grid_gap": null,
            "grid_row": null,
            "grid_template_areas": null,
            "grid_template_columns": null,
            "grid_template_rows": null,
            "height": "28px",
            "justify_content": null,
            "justify_items": null,
            "left": null,
            "margin": null,
            "max_height": null,
            "max_width": null,
            "min_height": null,
            "min_width": null,
            "object_fit": null,
            "object_position": null,
            "order": null,
            "overflow": null,
            "overflow_x": null,
            "overflow_y": null,
            "padding": "0px 0px 0px 4px",
            "right": null,
            "top": null,
            "visibility": null,
            "width": "28px"
          }
        },
        "7b30ebe46de144858fd60d3521aedbb8": {
          "model_module": "@jupyter-widgets/controls",
          "model_name": "DescriptionStyleModel",
          "model_module_version": "1.5.0",
          "state": {
            "_model_module": "@jupyter-widgets/controls",
            "_model_module_version": "1.5.0",
            "_model_name": "DescriptionStyleModel",
            "_view_count": null,
            "_view_module": "@jupyter-widgets/base",
            "_view_module_version": "1.2.0",
            "_view_name": "StyleView",
            "description_width": ""
          }
        },
        "2a3ffa8ffba9459daa245c8af0f96311": {
          "model_module": "jupyter-leaflet",
          "model_name": "LeafletMapModel",
          "model_module_version": "^0.17",
          "state": {
            "_dom_classes": [],
            "_model_module": "jupyter-leaflet",
            "_model_module_version": "^0.17",
            "_model_name": "LeafletMapModel",
            "_view_count": null,
            "_view_module": "jupyter-leaflet",
            "_view_module_version": "^0.17",
            "_view_name": "LeafletMapView",
            "bottom": 29540,
            "bounce_at_zoom_limits": true,
            "box_zoom": true,
            "center": [
              19.022685,
              -98.623038
            ],
            "close_popup_on_click": true,
            "controls": [
              "IPY_MODEL_ef6d1e57bc8f40f5a6427c0f1576f705",
              "IPY_MODEL_da3f427214f54dc2bcbc70c2e5cdc767",
              "IPY_MODEL_69a60a9552184d96b627861a2143edea",
              "IPY_MODEL_cc01ab4667a24c01882234e5facf8fe3",
              "IPY_MODEL_37879cac7d184db8a97a790535bebbb2",
              "IPY_MODEL_ee38aa1c5d76400a8a4fdddff0053a4f",
              "IPY_MODEL_71e426c478cc43f3b4781f2c76bd33c7",
              "IPY_MODEL_4a03eb55aacc450b853de65675f8e239"
            ],
            "crs": {
              "name": "EPSG3857",
              "custom": false
            },
            "default_style": "IPY_MODEL_d2f6df9f348441149b666889e6bdfcf6",
            "double_click_zoom": true,
            "dragging": true,
            "dragging_style": "IPY_MODEL_b5ae82c4fc07472d80d8573d5ed5c56c",
            "east": -95.83923339843751,
            "fullscreen": false,
            "inertia": true,
            "inertia_deceleration": 3000,
            "inertia_max_speed": 1500,
            "interpolation": "bilinear",
            "keyboard": true,
            "keyboard_pan_offset": 80,
            "keyboard_zoom_offset": 1,
            "layers": [
              "IPY_MODEL_409ccf673d6c45739a821b7b9353e26d",
              "IPY_MODEL_0e810d4baba14c0e88ac626e087a25d9",
              "IPY_MODEL_1d0ef1ffd9024b58a84ceeace0390a53",
              "IPY_MODEL_a55ac940c4fe4bc9b7c27f2e46c91985"
            ],
            "layout": "IPY_MODEL_439464a1633d49549cde135abc1ab992",
            "left": 14308,
            "max_zoom": 24,
            "min_zoom": null,
            "modisdate": "2023-11-26",
            "north": 20.571081893508193,
            "options": [
              "bounce_at_zoom_limits",
              "box_zoom",
              "center",
              "close_popup_on_click",
              "double_click_zoom",
              "dragging",
              "fullscreen",
              "inertia",
              "inertia_deceleration",
              "inertia_max_speed",
              "interpolation",
              "keyboard",
              "keyboard_pan_offset",
              "keyboard_zoom_offset",
              "max_zoom",
              "min_zoom",
              "prefer_canvas",
              "scroll_wheel_zoom",
              "tap",
              "tap_tolerance",
              "touch_zoom",
              "world_copy_jump",
              "zoom",
              "zoom_animation_threshold",
              "zoom_delta",
              "zoom_snap"
            ],
            "panes": {},
            "prefer_canvas": false,
            "right": 15321,
            "scroll_wheel_zoom": true,
            "south": 17.45547257997284,
            "style": "IPY_MODEL_3b8de0e7329b423d877765113f736393",
            "tap": true,
            "tap_tolerance": 15,
            "top": 28940,
            "touch_zoom": true,
            "west": -101.40380859375001,
            "window_url": "https://mo82owb0geq-496ff2e9c6d22116-0-colab.googleusercontent.com/outputframe.html?vrz=colab_20231121-060051_RC00_584295192",
            "world_copy_jump": false,
            "zoom": 8,
            "zoom_animation_threshold": 4,
            "zoom_delta": 1,
            "zoom_snap": 1
          }
        },
        "ef6d1e57bc8f40f5a6427c0f1576f705": {
          "model_module": "jupyter-leaflet",
          "model_name": "LeafletWidgetControlModel",
          "model_module_version": "^0.17",
          "state": {
            "_model_module": "jupyter-leaflet",
            "_model_module_version": "^0.17",
            "_model_name": "LeafletWidgetControlModel",
            "_view_count": null,
            "_view_module": "jupyter-leaflet",
            "_view_module_version": "^0.17",
            "_view_name": "LeafletWidgetControlView",
            "max_height": null,
            "max_width": null,
            "min_height": null,
            "min_width": null,
            "options": [
              "position",
              "transparent_bg"
            ],
            "position": "topleft",
            "transparent_bg": false,
            "widget": "IPY_MODEL_5f35db6b541140649dc13be66d9b74cc"
          }
        },
        "da3f427214f54dc2bcbc70c2e5cdc767": {
          "model_module": "jupyter-leaflet",
          "model_name": "LeafletZoomControlModel",
          "model_module_version": "^0.17",
          "state": {
            "_model_module": "jupyter-leaflet",
            "_model_module_version": "^0.17",
            "_model_name": "LeafletZoomControlModel",
            "_view_count": null,
            "_view_module": "jupyter-leaflet",
            "_view_module_version": "^0.17",
            "_view_name": "LeafletZoomControlView",
            "options": [
              "position",
              "zoom_in_text",
              "zoom_in_title",
              "zoom_out_text",
              "zoom_out_title"
            ],
            "position": "topleft",
            "zoom_in_text": "+",
            "zoom_in_title": "Zoom in",
            "zoom_out_text": "-",
            "zoom_out_title": "Zoom out"
          }
        },
        "69a60a9552184d96b627861a2143edea": {
          "model_module": "jupyter-leaflet",
          "model_name": "LeafletFullScreenControlModel",
          "model_module_version": "^0.17",
          "state": {
            "_model_module": "jupyter-leaflet",
            "_model_module_version": "^0.17",
            "_model_name": "LeafletFullScreenControlModel",
            "_view_count": null,
            "_view_module": "jupyter-leaflet",
            "_view_module_version": "^0.17",
            "_view_name": "LeafletFullScreenControlView",
            "options": [
              "position"
            ],
            "position": "topleft"
          }
        },
        "cc01ab4667a24c01882234e5facf8fe3": {
          "model_module": "jupyter-leaflet",
          "model_name": "LeafletDrawControlModel",
          "model_module_version": "^0.17",
          "state": {
            "_model_module": "jupyter-leaflet",
            "_model_module_version": "^0.17",
            "_model_name": "LeafletDrawControlModel",
            "_view_count": null,
            "_view_module": "jupyter-leaflet",
            "_view_module_version": "^0.17",
            "_view_name": "LeafletDrawControlView",
            "circle": {},
            "circlemarker": {},
            "data": [],
            "edit": true,
            "marker": {
              "shapeOptions": {
                "color": "#3388ff"
              }
            },
            "options": [
              "position"
            ],
            "polygon": {
              "shapeOptions": {}
            },
            "polyline": {
              "shapeOptions": {}
            },
            "position": "topleft",
            "rectangle": {
              "shapeOptions": {
                "color": "#3388ff"
              }
            },
            "remove": true
          }
        },
        "37879cac7d184db8a97a790535bebbb2": {
          "model_module": "jupyter-leaflet",
          "model_name": "LeafletScaleControlModel",
          "model_module_version": "^0.17",
          "state": {
            "_model_module": "jupyter-leaflet",
            "_model_module_version": "^0.17",
            "_model_name": "LeafletScaleControlModel",
            "_view_count": null,
            "_view_module": "jupyter-leaflet",
            "_view_module_version": "^0.17",
            "_view_name": "LeafletScaleControlView",
            "imperial": true,
            "max_width": 100,
            "metric": true,
            "options": [
              "imperial",
              "max_width",
              "metric",
              "position",
              "update_when_idle"
            ],
            "position": "bottomleft",
            "update_when_idle": false
          }
        },
        "ee38aa1c5d76400a8a4fdddff0053a4f": {
          "model_module": "jupyter-leaflet",
          "model_name": "LeafletMeasureControlModel",
          "model_module_version": "^0.17",
          "state": {
            "_custom_units": {},
            "_model_module": "jupyter-leaflet",
            "_model_module_version": "^0.17",
            "_model_name": "LeafletMeasureControlModel",
            "_view_count": null,
            "_view_module": "jupyter-leaflet",
            "_view_module_version": "^0.17",
            "_view_name": "LeafletMeasureControlView",
            "active_color": "orange",
            "capture_z_index": 10000,
            "completed_color": "#C8F2BE",
            "options": [
              "active_color",
              "capture_z_index",
              "completed_color",
              "popup_options",
              "position",
              "primary_area_unit",
              "primary_length_unit",
              "secondary_area_unit",
              "secondary_length_unit"
            ],
            "popup_options": {
              "className": "leaflet-measure-resultpopup",
              "autoPanPadding": [
                10,
                10
              ]
            },
            "position": "bottomleft",
            "primary_area_unit": "acres",
            "primary_length_unit": "kilometers",
            "secondary_area_unit": null,
            "secondary_length_unit": null
          }
        },
        "71e426c478cc43f3b4781f2c76bd33c7": {
          "model_module": "jupyter-leaflet",
          "model_name": "LeafletWidgetControlModel",
          "model_module_version": "^0.17",
          "state": {
            "_model_module": "jupyter-leaflet",
            "_model_module_version": "^0.17",
            "_model_name": "LeafletWidgetControlModel",
            "_view_count": null,
            "_view_module": "jupyter-leaflet",
            "_view_module_version": "^0.17",
            "_view_name": "LeafletWidgetControlView",
            "max_height": null,
            "max_width": null,
            "min_height": null,
            "min_width": null,
            "options": [
              "position",
              "transparent_bg"
            ],
            "position": "topright",
            "transparent_bg": false,
            "widget": "IPY_MODEL_9ef21e7ed24d496b88b3fad4a0ce8bca"
          }
        },
        "4a03eb55aacc450b853de65675f8e239": {
          "model_module": "jupyter-leaflet",
          "model_name": "LeafletAttributionControlModel",
          "model_module_version": "^0.17",
          "state": {
            "_model_module": "jupyter-leaflet",
            "_model_module_version": "^0.17",
            "_model_name": "LeafletAttributionControlModel",
            "_view_count": null,
            "_view_module": "jupyter-leaflet",
            "_view_module_version": "^0.17",
            "_view_name": "LeafletAttributionControlView",
            "options": [
              "position",
              "prefix"
            ],
            "position": "bottomright",
            "prefix": "ipyleaflet"
          }
        },
        "d2f6df9f348441149b666889e6bdfcf6": {
          "model_module": "jupyter-leaflet",
          "model_name": "LeafletMapStyleModel",
          "model_module_version": "^0.17",
          "state": {
            "_model_module": "jupyter-leaflet",
            "_model_module_version": "^0.17",
            "_model_name": "LeafletMapStyleModel",
            "_view_count": null,
            "_view_module": "@jupyter-widgets/base",
            "_view_module_version": "1.2.0",
            "_view_name": "StyleView",
            "cursor": "grab"
          }
        },
        "b5ae82c4fc07472d80d8573d5ed5c56c": {
          "model_module": "jupyter-leaflet",
          "model_name": "LeafletMapStyleModel",
          "model_module_version": "^0.17",
          "state": {
            "_model_module": "jupyter-leaflet",
            "_model_module_version": "^0.17",
            "_model_name": "LeafletMapStyleModel",
            "_view_count": null,
            "_view_module": "@jupyter-widgets/base",
            "_view_module_version": "1.2.0",
            "_view_name": "StyleView",
            "cursor": "move"
          }
        },
        "409ccf673d6c45739a821b7b9353e26d": {
          "model_module": "jupyter-leaflet",
          "model_name": "LeafletTileLayerModel",
          "model_module_version": "^0.17",
          "state": {
            "_model_module": "jupyter-leaflet",
            "_model_module_version": "^0.17",
            "_model_name": "LeafletTileLayerModel",
            "_view_count": null,
            "_view_module": "jupyter-leaflet",
            "_view_module_version": "^0.17",
            "_view_name": "LeafletTileLayerView",
            "attribution": "&copy; <a href=\"https://www.openstreetmap.org/copyright\">OpenStreetMap</a> contributors",
            "base": true,
            "bottom": true,
            "bounds": null,
            "detect_retina": false,
            "loading": false,
            "max_native_zoom": null,
            "max_zoom": 19,
            "min_native_zoom": null,
            "min_zoom": 1,
            "name": "OpenStreetMap.Mapnik",
            "no_wrap": false,
            "opacity": 1,
            "options": [
              "attribution",
              "bounds",
              "detect_retina",
              "max_native_zoom",
              "max_zoom",
              "min_native_zoom",
              "min_zoom",
              "no_wrap",
              "tile_size",
              "tms",
              "zoom_offset"
            ],
            "pane": "",
            "popup": null,
            "popup_max_height": null,
            "popup_max_width": 300,
            "popup_min_width": 50,
            "show_loading": false,
            "subitems": [],
            "tile_size": 256,
            "tms": false,
            "url": "https://tile.openstreetmap.org/{z}/{x}/{y}.png",
            "visible": true,
            "zoom_offset": 0
          }
        },
        "0e810d4baba14c0e88ac626e087a25d9": {
          "model_module": "jupyter-leaflet",
          "model_name": "LeafletTileLayerModel",
          "model_module_version": "^0.17",
          "state": {
            "_model_module": "jupyter-leaflet",
            "_model_module_version": "^0.17",
            "_model_name": "LeafletTileLayerModel",
            "_view_count": null,
            "_view_module": "jupyter-leaflet",
            "_view_module_version": "^0.17",
            "_view_name": "LeafletTileLayerView",
            "attribution": "Google Earth Engine",
            "base": false,
            "bottom": true,
            "bounds": null,
            "detect_retina": false,
            "loading": false,
            "max_native_zoom": null,
            "max_zoom": 24,
            "min_native_zoom": null,
            "min_zoom": 0,
            "name": "Imagen RGB",
            "no_wrap": false,
            "opacity": 1,
            "options": [
              "attribution",
              "bounds",
              "detect_retina",
              "max_native_zoom",
              "max_zoom",
              "min_native_zoom",
              "min_zoom",
              "no_wrap",
              "tile_size",
              "tms",
              "zoom_offset"
            ],
            "pane": "",
            "popup": null,
            "popup_max_height": null,
            "popup_max_width": 300,
            "popup_min_width": 50,
            "show_loading": false,
            "subitems": [],
            "tile_size": 256,
            "tms": false,
            "url": "https://earthengine.googleapis.com/v1/projects/earthengine-legacy/maps/5bca2ccced3195e64e3b09434f9a5c35-147c4dd6bd38fa001ddada925cf6d26b/tiles/{z}/{x}/{y}",
            "visible": true,
            "zoom_offset": 0
          }
        },
        "1d0ef1ffd9024b58a84ceeace0390a53": {
          "model_module": "jupyter-leaflet",
          "model_name": "LeafletTileLayerModel",
          "model_module_version": "^0.17",
          "state": {
            "_model_module": "jupyter-leaflet",
            "_model_module_version": "^0.17",
            "_model_name": "LeafletTileLayerModel",
            "_view_count": null,
            "_view_module": "jupyter-leaflet",
            "_view_module_version": "^0.17",
            "_view_name": "LeafletTileLayerView",
            "attribution": "Google Earth Engine",
            "base": false,
            "bottom": true,
            "bounds": null,
            "detect_retina": false,
            "loading": false,
            "max_native_zoom": null,
            "max_zoom": 24,
            "min_native_zoom": null,
            "min_zoom": 0,
            "name": "Selfmask Meth2",
            "no_wrap": false,
            "opacity": 1,
            "options": [
              "attribution",
              "bounds",
              "detect_retina",
              "max_native_zoom",
              "max_zoom",
              "min_native_zoom",
              "min_zoom",
              "no_wrap",
              "tile_size",
              "tms",
              "zoom_offset"
            ],
            "pane": "",
            "popup": null,
            "popup_max_height": null,
            "popup_max_width": 300,
            "popup_min_width": 50,
            "show_loading": false,
            "subitems": [],
            "tile_size": 256,
            "tms": false,
            "url": "https://earthengine.googleapis.com/v1/projects/earthengine-legacy/maps/657aa211e0113405b4705a680ee6aa18-e577b3c5ef8476f811984f6b6a7f99a6/tiles/{z}/{x}/{y}",
            "visible": true,
            "zoom_offset": 0
          }
        },
        "a55ac940c4fe4bc9b7c27f2e46c91985": {
          "model_module": "jupyter-leaflet",
          "model_name": "LeafletTileLayerModel",
          "model_module_version": "^0.17",
          "state": {
            "_model_module": "jupyter-leaflet",
            "_model_module_version": "^0.17",
            "_model_name": "LeafletTileLayerModel",
            "_view_count": null,
            "_view_module": "jupyter-leaflet",
            "_view_module_version": "^0.17",
            "_view_name": "LeafletTileLayerView",
            "attribution": "Google Earth Engine",
            "base": false,
            "bottom": true,
            "bounds": null,
            "detect_retina": false,
            "loading": false,
            "max_native_zoom": null,
            "max_zoom": 24,
            "min_native_zoom": null,
            "min_zoom": 0,
            "name": "Outline",
            "no_wrap": false,
            "opacity": 1,
            "options": [
              "attribution",
              "bounds",
              "detect_retina",
              "max_native_zoom",
              "max_zoom",
              "min_native_zoom",
              "min_zoom",
              "no_wrap",
              "tile_size",
              "tms",
              "zoom_offset"
            ],
            "pane": "",
            "popup": null,
            "popup_max_height": null,
            "popup_max_width": 300,
            "popup_min_width": 50,
            "show_loading": false,
            "subitems": [],
            "tile_size": 256,
            "tms": false,
            "url": "https://earthengine.googleapis.com/v1/projects/earthengine-legacy/maps/6aca0fdf2aab0d0bdeef7e24e516fd74-afa95936daa1c0d195944d0ab19973ea/tiles/{z}/{x}/{y}",
            "visible": true,
            "zoom_offset": 0
          }
        },
        "439464a1633d49549cde135abc1ab992": {
          "model_module": "@jupyter-widgets/base",
          "model_name": "LayoutModel",
          "model_module_version": "1.2.0",
          "state": {
            "_model_module": "@jupyter-widgets/base",
            "_model_module_version": "1.2.0",
            "_model_name": "LayoutModel",
            "_view_count": null,
            "_view_module": "@jupyter-widgets/base",
            "_view_module_version": "1.2.0",
            "_view_name": "LayoutView",
            "align_content": null,
            "align_items": null,
            "align_self": null,
            "border": null,
            "bottom": null,
            "display": null,
            "flex": null,
            "flex_flow": null,
            "grid_area": null,
            "grid_auto_columns": null,
            "grid_auto_flow": null,
            "grid_auto_rows": null,
            "grid_column": null,
            "grid_gap": null,
            "grid_row": null,
            "grid_template_areas": null,
            "grid_template_columns": null,
            "grid_template_rows": null,
            "height": "600px",
            "justify_content": null,
            "justify_items": null,
            "left": null,
            "margin": null,
            "max_height": null,
            "max_width": null,
            "min_height": null,
            "min_width": null,
            "object_fit": null,
            "object_position": null,
            "order": null,
            "overflow": null,
            "overflow_x": null,
            "overflow_y": null,
            "padding": null,
            "right": null,
            "top": null,
            "visibility": null,
            "width": null
          }
        },
        "3b8de0e7329b423d877765113f736393": {
          "model_module": "jupyter-leaflet",
          "model_name": "LeafletMapStyleModel",
          "model_module_version": "^0.17",
          "state": {
            "_model_module": "jupyter-leaflet",
            "_model_module_version": "^0.17",
            "_model_name": "LeafletMapStyleModel",
            "_view_count": null,
            "_view_module": "@jupyter-widgets/base",
            "_view_module_version": "1.2.0",
            "_view_name": "StyleView",
            "cursor": "grab"
          }
        },
        "5f35db6b541140649dc13be66d9b74cc": {
          "model_module": "@jupyter-widgets/controls",
          "model_name": "HBoxModel",
          "model_module_version": "1.5.0",
          "state": {
            "_dom_classes": [
              "geemap-colab"
            ],
            "_model_module": "@jupyter-widgets/controls",
            "_model_module_version": "1.5.0",
            "_model_name": "HBoxModel",
            "_view_count": null,
            "_view_module": "@jupyter-widgets/controls",
            "_view_module_version": "1.5.0",
            "_view_name": "HBoxView",
            "box_style": "",
            "children": [
              "IPY_MODEL_cf2bbc9e9c0e40b9a00b026baa438fcd"
            ],
            "layout": "IPY_MODEL_6e7a48bf85cb430db1ed5efc94765816"
          }
        },
        "9ef21e7ed24d496b88b3fad4a0ce8bca": {
          "model_module": "@jupyter-widgets/controls",
          "model_name": "VBoxModel",
          "model_module_version": "1.5.0",
          "state": {
            "_dom_classes": [
              "geemap-colab"
            ],
            "_model_module": "@jupyter-widgets/controls",
            "_model_module_version": "1.5.0",
            "_model_name": "VBoxModel",
            "_view_count": null,
            "_view_module": "@jupyter-widgets/controls",
            "_view_module_version": "1.5.0",
            "_view_name": "VBoxView",
            "box_style": "",
            "children": [
              "IPY_MODEL_6460145850314133a2bcc5c2542d3584"
            ],
            "layout": "IPY_MODEL_196831f5219e45fb999add2fc6b40ad8"
          }
        },
        "cf2bbc9e9c0e40b9a00b026baa438fcd": {
          "model_module": "@jupyter-widgets/controls",
          "model_name": "ToggleButtonModel",
          "model_module_version": "1.5.0",
          "state": {
            "_dom_classes": [],
            "_model_module": "@jupyter-widgets/controls",
            "_model_module_version": "1.5.0",
            "_model_name": "ToggleButtonModel",
            "_view_count": null,
            "_view_module": "@jupyter-widgets/controls",
            "_view_module_version": "1.5.0",
            "_view_name": "ToggleButtonView",
            "button_style": "",
            "description": "",
            "description_tooltip": null,
            "disabled": false,
            "icon": "globe",
            "layout": "IPY_MODEL_dc77803fa2084b819c8921dd3a68e02f",
            "style": "IPY_MODEL_77e0a136170c4e07bfff0ff8a83d0446",
            "tooltip": "Search location/data",
            "value": false
          }
        },
        "6e7a48bf85cb430db1ed5efc94765816": {
          "model_module": "@jupyter-widgets/base",
          "model_name": "LayoutModel",
          "model_module_version": "1.2.0",
          "state": {
            "_model_module": "@jupyter-widgets/base",
            "_model_module_version": "1.2.0",
            "_model_name": "LayoutModel",
            "_view_count": null,
            "_view_module": "@jupyter-widgets/base",
            "_view_module_version": "1.2.0",
            "_view_name": "LayoutView",
            "align_content": null,
            "align_items": null,
            "align_self": null,
            "border": null,
            "bottom": null,
            "display": null,
            "flex": null,
            "flex_flow": null,
            "grid_area": null,
            "grid_auto_columns": null,
            "grid_auto_flow": null,
            "grid_auto_rows": null,
            "grid_column": null,
            "grid_gap": null,
            "grid_row": null,
            "grid_template_areas": null,
            "grid_template_columns": null,
            "grid_template_rows": null,
            "height": null,
            "justify_content": null,
            "justify_items": null,
            "left": null,
            "margin": null,
            "max_height": null,
            "max_width": null,
            "min_height": null,
            "min_width": null,
            "object_fit": null,
            "object_position": null,
            "order": null,
            "overflow": null,
            "overflow_x": null,
            "overflow_y": null,
            "padding": null,
            "right": null,
            "top": null,
            "visibility": null,
            "width": null
          }
        },
        "6460145850314133a2bcc5c2542d3584": {
          "model_module": "@jupyter-widgets/controls",
          "model_name": "ToggleButtonModel",
          "model_module_version": "1.5.0",
          "state": {
            "_dom_classes": [],
            "_model_module": "@jupyter-widgets/controls",
            "_model_module_version": "1.5.0",
            "_model_name": "ToggleButtonModel",
            "_view_count": null,
            "_view_module": "@jupyter-widgets/controls",
            "_view_module_version": "1.5.0",
            "_view_name": "ToggleButtonView",
            "button_style": "",
            "description": "",
            "description_tooltip": null,
            "disabled": false,
            "icon": "wrench",
            "layout": "IPY_MODEL_83a7bb4afe9e44f9889c97640d2db0df",
            "style": "IPY_MODEL_1f6fa50fc3be4e51a796071e6b3be0ed",
            "tooltip": "Toolbar",
            "value": false
          }
        },
        "196831f5219e45fb999add2fc6b40ad8": {
          "model_module": "@jupyter-widgets/base",
          "model_name": "LayoutModel",
          "model_module_version": "1.2.0",
          "state": {
            "_model_module": "@jupyter-widgets/base",
            "_model_module_version": "1.2.0",
            "_model_name": "LayoutModel",
            "_view_count": null,
            "_view_module": "@jupyter-widgets/base",
            "_view_module_version": "1.2.0",
            "_view_name": "LayoutView",
            "align_content": null,
            "align_items": null,
            "align_self": null,
            "border": null,
            "bottom": null,
            "display": null,
            "flex": null,
            "flex_flow": null,
            "grid_area": null,
            "grid_auto_columns": null,
            "grid_auto_flow": null,
            "grid_auto_rows": null,
            "grid_column": null,
            "grid_gap": null,
            "grid_row": null,
            "grid_template_areas": null,
            "grid_template_columns": null,
            "grid_template_rows": null,
            "height": null,
            "justify_content": null,
            "justify_items": null,
            "left": null,
            "margin": null,
            "max_height": null,
            "max_width": null,
            "min_height": null,
            "min_width": null,
            "object_fit": null,
            "object_position": null,
            "order": null,
            "overflow": null,
            "overflow_x": null,
            "overflow_y": null,
            "padding": null,
            "right": null,
            "top": null,
            "visibility": null,
            "width": null
          }
        },
        "dc77803fa2084b819c8921dd3a68e02f": {
          "model_module": "@jupyter-widgets/base",
          "model_name": "LayoutModel",
          "model_module_version": "1.2.0",
          "state": {
            "_model_module": "@jupyter-widgets/base",
            "_model_module_version": "1.2.0",
            "_model_name": "LayoutModel",
            "_view_count": null,
            "_view_module": "@jupyter-widgets/base",
            "_view_module_version": "1.2.0",
            "_view_name": "LayoutView",
            "align_content": null,
            "align_items": null,
            "align_self": null,
            "border": null,
            "bottom": null,
            "display": null,
            "flex": null,
            "flex_flow": null,
            "grid_area": null,
            "grid_auto_columns": null,
            "grid_auto_flow": null,
            "grid_auto_rows": null,
            "grid_column": null,
            "grid_gap": null,
            "grid_row": null,
            "grid_template_areas": null,
            "grid_template_columns": null,
            "grid_template_rows": null,
            "height": "28px",
            "justify_content": null,
            "justify_items": null,
            "left": null,
            "margin": null,
            "max_height": null,
            "max_width": null,
            "min_height": null,
            "min_width": null,
            "object_fit": null,
            "object_position": null,
            "order": null,
            "overflow": null,
            "overflow_x": null,
            "overflow_y": null,
            "padding": "0px 0px 0px 4px",
            "right": null,
            "top": null,
            "visibility": null,
            "width": "28px"
          }
        },
        "77e0a136170c4e07bfff0ff8a83d0446": {
          "model_module": "@jupyter-widgets/controls",
          "model_name": "DescriptionStyleModel",
          "model_module_version": "1.5.0",
          "state": {
            "_model_module": "@jupyter-widgets/controls",
            "_model_module_version": "1.5.0",
            "_model_name": "DescriptionStyleModel",
            "_view_count": null,
            "_view_module": "@jupyter-widgets/base",
            "_view_module_version": "1.2.0",
            "_view_name": "StyleView",
            "description_width": ""
          }
        },
        "83a7bb4afe9e44f9889c97640d2db0df": {
          "model_module": "@jupyter-widgets/base",
          "model_name": "LayoutModel",
          "model_module_version": "1.2.0",
          "state": {
            "_model_module": "@jupyter-widgets/base",
            "_model_module_version": "1.2.0",
            "_model_name": "LayoutModel",
            "_view_count": null,
            "_view_module": "@jupyter-widgets/base",
            "_view_module_version": "1.2.0",
            "_view_name": "LayoutView",
            "align_content": null,
            "align_items": null,
            "align_self": null,
            "border": null,
            "bottom": null,
            "display": null,
            "flex": null,
            "flex_flow": null,
            "grid_area": null,
            "grid_auto_columns": null,
            "grid_auto_flow": null,
            "grid_auto_rows": null,
            "grid_column": null,
            "grid_gap": null,
            "grid_row": null,
            "grid_template_areas": null,
            "grid_template_columns": null,
            "grid_template_rows": null,
            "height": "28px",
            "justify_content": null,
            "justify_items": null,
            "left": null,
            "margin": null,
            "max_height": null,
            "max_width": null,
            "min_height": null,
            "min_width": null,
            "object_fit": null,
            "object_position": null,
            "order": null,
            "overflow": null,
            "overflow_x": null,
            "overflow_y": null,
            "padding": "0px 0px 0px 4px",
            "right": null,
            "top": null,
            "visibility": null,
            "width": "28px"
          }
        },
        "1f6fa50fc3be4e51a796071e6b3be0ed": {
          "model_module": "@jupyter-widgets/controls",
          "model_name": "DescriptionStyleModel",
          "model_module_version": "1.5.0",
          "state": {
            "_model_module": "@jupyter-widgets/controls",
            "_model_module_version": "1.5.0",
            "_model_name": "DescriptionStyleModel",
            "_view_count": null,
            "_view_module": "@jupyter-widgets/base",
            "_view_module_version": "1.2.0",
            "_view_name": "StyleView",
            "description_width": ""
          }
        },
        "f75b1a1f47f24506b5c3297b39f678c9": {
          "model_module": "jupyter-leaflet",
          "model_name": "LeafletMapModel",
          "model_module_version": "^0.17",
          "state": {
            "_dom_classes": [],
            "_model_module": "jupyter-leaflet",
            "_model_module_version": "^0.17",
            "_model_name": "LeafletMapModel",
            "_view_count": null,
            "_view_module": "jupyter-leaflet",
            "_view_module_version": "^0.17",
            "_view_name": "LeafletMapView",
            "bottom": 29540,
            "bounce_at_zoom_limits": true,
            "box_zoom": true,
            "center": [
              19.022685,
              -98.623038
            ],
            "close_popup_on_click": true,
            "controls": [
              "IPY_MODEL_7b290237d4994d52ad738d91d41b8f48",
              "IPY_MODEL_78bb5cff01434970a816773b090621c4",
              "IPY_MODEL_597e916364c0486ca9167d1076a9faf5",
              "IPY_MODEL_0afd73c5f90e49378f7989bc1deb07b5",
              "IPY_MODEL_6c713fe3250b44f3b78381f9fd1ef0ed",
              "IPY_MODEL_26f4186acd3844f2996e0705c234d02e",
              "IPY_MODEL_c12620663db54e7baf33eab37972be03",
              "IPY_MODEL_b69e62b9231f476da267c5b125722568"
            ],
            "crs": {
              "name": "EPSG3857",
              "custom": false
            },
            "default_style": "IPY_MODEL_effef2164a7a451bba0b7ad2630d89f4",
            "double_click_zoom": true,
            "dragging": true,
            "dragging_style": "IPY_MODEL_e23c69c30fc74f5081f9b12b7ea86bd8",
            "east": -95.83923339843751,
            "fullscreen": false,
            "inertia": true,
            "inertia_deceleration": 3000,
            "inertia_max_speed": 1500,
            "interpolation": "bilinear",
            "keyboard": true,
            "keyboard_pan_offset": 80,
            "keyboard_zoom_offset": 1,
            "layers": [
              "IPY_MODEL_e9c12c3542c34ebd944d9dad4fca4064",
              "IPY_MODEL_5e6c1e9b41e1401c9ec8d894a8e0ad6b",
              "IPY_MODEL_6e66f4395a9143c0b5630df5201b0538",
              "IPY_MODEL_ca5242cf2b0f46e29cdb99d724382417",
              "IPY_MODEL_fe6372c5428d46c58b5776a76b4de471",
              "IPY_MODEL_676d2233ceb045cfa209323e3dfcaacc"
            ],
            "layout": "IPY_MODEL_ee1f963259c54795b8b38c092e905d63",
            "left": 14308,
            "max_zoom": 24,
            "min_zoom": null,
            "modisdate": "2023-11-26",
            "north": 20.571081893508193,
            "options": [
              "bounce_at_zoom_limits",
              "box_zoom",
              "center",
              "close_popup_on_click",
              "double_click_zoom",
              "dragging",
              "fullscreen",
              "inertia",
              "inertia_deceleration",
              "inertia_max_speed",
              "interpolation",
              "keyboard",
              "keyboard_pan_offset",
              "keyboard_zoom_offset",
              "max_zoom",
              "min_zoom",
              "prefer_canvas",
              "scroll_wheel_zoom",
              "tap",
              "tap_tolerance",
              "touch_zoom",
              "world_copy_jump",
              "zoom",
              "zoom_animation_threshold",
              "zoom_delta",
              "zoom_snap"
            ],
            "panes": {},
            "prefer_canvas": false,
            "right": 15321,
            "scroll_wheel_zoom": true,
            "south": 17.45547257997284,
            "style": "IPY_MODEL_9e49766436da47fab8b3b8475ffc6d43",
            "tap": true,
            "tap_tolerance": 15,
            "top": 28940,
            "touch_zoom": true,
            "west": -101.40380859375001,
            "window_url": "https://mo82owb0geq-496ff2e9c6d22116-0-colab.googleusercontent.com/outputframe.html?vrz=colab_20231121-060051_RC00_584295192",
            "world_copy_jump": false,
            "zoom": 8,
            "zoom_animation_threshold": 4,
            "zoom_delta": 1,
            "zoom_snap": 1
          }
        },
        "7b290237d4994d52ad738d91d41b8f48": {
          "model_module": "jupyter-leaflet",
          "model_name": "LeafletWidgetControlModel",
          "model_module_version": "^0.17",
          "state": {
            "_model_module": "jupyter-leaflet",
            "_model_module_version": "^0.17",
            "_model_name": "LeafletWidgetControlModel",
            "_view_count": null,
            "_view_module": "jupyter-leaflet",
            "_view_module_version": "^0.17",
            "_view_name": "LeafletWidgetControlView",
            "max_height": null,
            "max_width": null,
            "min_height": null,
            "min_width": null,
            "options": [
              "position",
              "transparent_bg"
            ],
            "position": "topleft",
            "transparent_bg": false,
            "widget": "IPY_MODEL_f38adce94dac4d3ca28a82db870be63c"
          }
        },
        "78bb5cff01434970a816773b090621c4": {
          "model_module": "jupyter-leaflet",
          "model_name": "LeafletZoomControlModel",
          "model_module_version": "^0.17",
          "state": {
            "_model_module": "jupyter-leaflet",
            "_model_module_version": "^0.17",
            "_model_name": "LeafletZoomControlModel",
            "_view_count": null,
            "_view_module": "jupyter-leaflet",
            "_view_module_version": "^0.17",
            "_view_name": "LeafletZoomControlView",
            "options": [
              "position",
              "zoom_in_text",
              "zoom_in_title",
              "zoom_out_text",
              "zoom_out_title"
            ],
            "position": "topleft",
            "zoom_in_text": "+",
            "zoom_in_title": "Zoom in",
            "zoom_out_text": "-",
            "zoom_out_title": "Zoom out"
          }
        },
        "597e916364c0486ca9167d1076a9faf5": {
          "model_module": "jupyter-leaflet",
          "model_name": "LeafletFullScreenControlModel",
          "model_module_version": "^0.17",
          "state": {
            "_model_module": "jupyter-leaflet",
            "_model_module_version": "^0.17",
            "_model_name": "LeafletFullScreenControlModel",
            "_view_count": null,
            "_view_module": "jupyter-leaflet",
            "_view_module_version": "^0.17",
            "_view_name": "LeafletFullScreenControlView",
            "options": [
              "position"
            ],
            "position": "topleft"
          }
        },
        "0afd73c5f90e49378f7989bc1deb07b5": {
          "model_module": "jupyter-leaflet",
          "model_name": "LeafletDrawControlModel",
          "model_module_version": "^0.17",
          "state": {
            "_model_module": "jupyter-leaflet",
            "_model_module_version": "^0.17",
            "_model_name": "LeafletDrawControlModel",
            "_view_count": null,
            "_view_module": "jupyter-leaflet",
            "_view_module_version": "^0.17",
            "_view_name": "LeafletDrawControlView",
            "circle": {},
            "circlemarker": {},
            "data": [],
            "edit": true,
            "marker": {
              "shapeOptions": {
                "color": "#3388ff"
              }
            },
            "options": [
              "position"
            ],
            "polygon": {
              "shapeOptions": {}
            },
            "polyline": {
              "shapeOptions": {}
            },
            "position": "topleft",
            "rectangle": {
              "shapeOptions": {
                "color": "#3388ff"
              }
            },
            "remove": true
          }
        },
        "6c713fe3250b44f3b78381f9fd1ef0ed": {
          "model_module": "jupyter-leaflet",
          "model_name": "LeafletScaleControlModel",
          "model_module_version": "^0.17",
          "state": {
            "_model_module": "jupyter-leaflet",
            "_model_module_version": "^0.17",
            "_model_name": "LeafletScaleControlModel",
            "_view_count": null,
            "_view_module": "jupyter-leaflet",
            "_view_module_version": "^0.17",
            "_view_name": "LeafletScaleControlView",
            "imperial": true,
            "max_width": 100,
            "metric": true,
            "options": [
              "imperial",
              "max_width",
              "metric",
              "position",
              "update_when_idle"
            ],
            "position": "bottomleft",
            "update_when_idle": false
          }
        },
        "26f4186acd3844f2996e0705c234d02e": {
          "model_module": "jupyter-leaflet",
          "model_name": "LeafletMeasureControlModel",
          "model_module_version": "^0.17",
          "state": {
            "_custom_units": {},
            "_model_module": "jupyter-leaflet",
            "_model_module_version": "^0.17",
            "_model_name": "LeafletMeasureControlModel",
            "_view_count": null,
            "_view_module": "jupyter-leaflet",
            "_view_module_version": "^0.17",
            "_view_name": "LeafletMeasureControlView",
            "active_color": "orange",
            "capture_z_index": 10000,
            "completed_color": "#C8F2BE",
            "options": [
              "active_color",
              "capture_z_index",
              "completed_color",
              "popup_options",
              "position",
              "primary_area_unit",
              "primary_length_unit",
              "secondary_area_unit",
              "secondary_length_unit"
            ],
            "popup_options": {
              "className": "leaflet-measure-resultpopup",
              "autoPanPadding": [
                10,
                10
              ]
            },
            "position": "bottomleft",
            "primary_area_unit": "acres",
            "primary_length_unit": "kilometers",
            "secondary_area_unit": null,
            "secondary_length_unit": null
          }
        },
        "c12620663db54e7baf33eab37972be03": {
          "model_module": "jupyter-leaflet",
          "model_name": "LeafletWidgetControlModel",
          "model_module_version": "^0.17",
          "state": {
            "_model_module": "jupyter-leaflet",
            "_model_module_version": "^0.17",
            "_model_name": "LeafletWidgetControlModel",
            "_view_count": null,
            "_view_module": "jupyter-leaflet",
            "_view_module_version": "^0.17",
            "_view_name": "LeafletWidgetControlView",
            "max_height": null,
            "max_width": null,
            "min_height": null,
            "min_width": null,
            "options": [
              "position",
              "transparent_bg"
            ],
            "position": "topright",
            "transparent_bg": false,
            "widget": "IPY_MODEL_64f66fded2b542c08d245bb9cde6b06c"
          }
        },
        "b69e62b9231f476da267c5b125722568": {
          "model_module": "jupyter-leaflet",
          "model_name": "LeafletAttributionControlModel",
          "model_module_version": "^0.17",
          "state": {
            "_model_module": "jupyter-leaflet",
            "_model_module_version": "^0.17",
            "_model_name": "LeafletAttributionControlModel",
            "_view_count": null,
            "_view_module": "jupyter-leaflet",
            "_view_module_version": "^0.17",
            "_view_name": "LeafletAttributionControlView",
            "options": [
              "position",
              "prefix"
            ],
            "position": "bottomright",
            "prefix": "ipyleaflet"
          }
        },
        "effef2164a7a451bba0b7ad2630d89f4": {
          "model_module": "jupyter-leaflet",
          "model_name": "LeafletMapStyleModel",
          "model_module_version": "^0.17",
          "state": {
            "_model_module": "jupyter-leaflet",
            "_model_module_version": "^0.17",
            "_model_name": "LeafletMapStyleModel",
            "_view_count": null,
            "_view_module": "@jupyter-widgets/base",
            "_view_module_version": "1.2.0",
            "_view_name": "StyleView",
            "cursor": "grab"
          }
        },
        "e23c69c30fc74f5081f9b12b7ea86bd8": {
          "model_module": "jupyter-leaflet",
          "model_name": "LeafletMapStyleModel",
          "model_module_version": "^0.17",
          "state": {
            "_model_module": "jupyter-leaflet",
            "_model_module_version": "^0.17",
            "_model_name": "LeafletMapStyleModel",
            "_view_count": null,
            "_view_module": "@jupyter-widgets/base",
            "_view_module_version": "1.2.0",
            "_view_name": "StyleView",
            "cursor": "move"
          }
        },
        "e9c12c3542c34ebd944d9dad4fca4064": {
          "model_module": "jupyter-leaflet",
          "model_name": "LeafletTileLayerModel",
          "model_module_version": "^0.17",
          "state": {
            "_model_module": "jupyter-leaflet",
            "_model_module_version": "^0.17",
            "_model_name": "LeafletTileLayerModel",
            "_view_count": null,
            "_view_module": "jupyter-leaflet",
            "_view_module_version": "^0.17",
            "_view_name": "LeafletTileLayerView",
            "attribution": "&copy; <a href=\"https://www.openstreetmap.org/copyright\">OpenStreetMap</a> contributors",
            "base": true,
            "bottom": true,
            "bounds": null,
            "detect_retina": false,
            "loading": false,
            "max_native_zoom": null,
            "max_zoom": 19,
            "min_native_zoom": null,
            "min_zoom": 1,
            "name": "OpenStreetMap.Mapnik",
            "no_wrap": false,
            "opacity": 1,
            "options": [
              "attribution",
              "bounds",
              "detect_retina",
              "max_native_zoom",
              "max_zoom",
              "min_native_zoom",
              "min_zoom",
              "no_wrap",
              "tile_size",
              "tms",
              "zoom_offset"
            ],
            "pane": "",
            "popup": null,
            "popup_max_height": null,
            "popup_max_width": 300,
            "popup_min_width": 50,
            "show_loading": false,
            "subitems": [],
            "tile_size": 256,
            "tms": false,
            "url": "https://tile.openstreetmap.org/{z}/{x}/{y}.png",
            "visible": true,
            "zoom_offset": 0
          }
        },
        "5e6c1e9b41e1401c9ec8d894a8e0ad6b": {
          "model_module": "jupyter-leaflet",
          "model_name": "LeafletTileLayerModel",
          "model_module_version": "^0.17",
          "state": {
            "_model_module": "jupyter-leaflet",
            "_model_module_version": "^0.17",
            "_model_name": "LeafletTileLayerModel",
            "_view_count": null,
            "_view_module": "jupyter-leaflet",
            "_view_module_version": "^0.17",
            "_view_name": "LeafletTileLayerView",
            "attribution": "Google Earth Engine",
            "base": false,
            "bottom": true,
            "bounds": null,
            "detect_retina": false,
            "loading": false,
            "max_native_zoom": null,
            "max_zoom": 24,
            "min_native_zoom": null,
            "min_zoom": 0,
            "name": "Imagen RGB",
            "no_wrap": false,
            "opacity": 1,
            "options": [
              "attribution",
              "bounds",
              "detect_retina",
              "max_native_zoom",
              "max_zoom",
              "min_native_zoom",
              "min_zoom",
              "no_wrap",
              "tile_size",
              "tms",
              "zoom_offset"
            ],
            "pane": "",
            "popup": null,
            "popup_max_height": null,
            "popup_max_width": 300,
            "popup_min_width": 50,
            "show_loading": false,
            "subitems": [],
            "tile_size": 256,
            "tms": false,
            "url": "https://earthengine.googleapis.com/v1/projects/earthengine-legacy/maps/e5612266d3696caa7d400bbc79334379-319fda262e8fb6492cbd74f6e5d67063/tiles/{z}/{x}/{y}",
            "visible": true,
            "zoom_offset": 0
          }
        },
        "6e66f4395a9143c0b5630df5201b0538": {
          "model_module": "jupyter-leaflet",
          "model_name": "LeafletTileLayerModel",
          "model_module_version": "^0.17",
          "state": {
            "_model_module": "jupyter-leaflet",
            "_model_module_version": "^0.17",
            "_model_name": "LeafletTileLayerModel",
            "_view_count": null,
            "_view_module": "jupyter-leaflet",
            "_view_module_version": "^0.17",
            "_view_name": "LeafletTileLayerView",
            "attribution": "Google Earth Engine",
            "base": false,
            "bottom": true,
            "bounds": null,
            "detect_retina": false,
            "loading": false,
            "max_native_zoom": null,
            "max_zoom": 24,
            "min_native_zoom": null,
            "min_zoom": 0,
            "name": "Image Mask",
            "no_wrap": false,
            "opacity": 1,
            "options": [
              "attribution",
              "bounds",
              "detect_retina",
              "max_native_zoom",
              "max_zoom",
              "min_native_zoom",
              "min_zoom",
              "no_wrap",
              "tile_size",
              "tms",
              "zoom_offset"
            ],
            "pane": "",
            "popup": null,
            "popup_max_height": null,
            "popup_max_width": 300,
            "popup_min_width": 50,
            "show_loading": false,
            "subitems": [],
            "tile_size": 256,
            "tms": false,
            "url": "https://earthengine.googleapis.com/v1/projects/earthengine-legacy/maps/ac1dfb5620b78eefc429e972a38a1ecf-7e476b4e516270fd9b9667467756cfd1/tiles/{z}/{x}/{y}",
            "visible": true,
            "zoom_offset": 0
          }
        },
        "ca5242cf2b0f46e29cdb99d724382417": {
          "model_module": "jupyter-leaflet",
          "model_name": "LeafletTileLayerModel",
          "model_module_version": "^0.17",
          "state": {
            "_model_module": "jupyter-leaflet",
            "_model_module_version": "^0.17",
            "_model_name": "LeafletTileLayerModel",
            "_view_count": null,
            "_view_module": "jupyter-leaflet",
            "_view_module_version": "^0.17",
            "_view_name": "LeafletTileLayerView",
            "attribution": "Google Earth Engine",
            "base": false,
            "bottom": true,
            "bounds": null,
            "detect_retina": false,
            "loading": false,
            "max_native_zoom": null,
            "max_zoom": 24,
            "min_native_zoom": null,
            "min_zoom": 0,
            "name": "Selfmask Meth2",
            "no_wrap": false,
            "opacity": 1,
            "options": [
              "attribution",
              "bounds",
              "detect_retina",
              "max_native_zoom",
              "max_zoom",
              "min_native_zoom",
              "min_zoom",
              "no_wrap",
              "tile_size",
              "tms",
              "zoom_offset"
            ],
            "pane": "",
            "popup": null,
            "popup_max_height": null,
            "popup_max_width": 300,
            "popup_min_width": 50,
            "show_loading": false,
            "subitems": [],
            "tile_size": 256,
            "tms": false,
            "url": "https://earthengine.googleapis.com/v1/projects/earthengine-legacy/maps/5f3ab7312a1267b05d55241e77a5fed9-b9483235006af1423cc1ac8eac052cba/tiles/{z}/{x}/{y}",
            "visible": true,
            "zoom_offset": 0
          }
        },
        "fe6372c5428d46c58b5776a76b4de471": {
          "model_module": "jupyter-leaflet",
          "model_name": "LeafletTileLayerModel",
          "model_module_version": "^0.17",
          "state": {
            "_model_module": "jupyter-leaflet",
            "_model_module_version": "^0.17",
            "_model_name": "LeafletTileLayerModel",
            "_view_count": null,
            "_view_module": "jupyter-leaflet",
            "_view_module_version": "^0.17",
            "_view_name": "LeafletTileLayerView",
            "attribution": "Google Earth Engine",
            "base": false,
            "bottom": true,
            "bounds": null,
            "detect_retina": false,
            "loading": false,
            "max_native_zoom": null,
            "max_zoom": 24,
            "min_native_zoom": null,
            "min_zoom": 0,
            "name": "Selfmask Meth2 Extendida",
            "no_wrap": false,
            "opacity": 1,
            "options": [
              "attribution",
              "bounds",
              "detect_retina",
              "max_native_zoom",
              "max_zoom",
              "min_native_zoom",
              "min_zoom",
              "no_wrap",
              "tile_size",
              "tms",
              "zoom_offset"
            ],
            "pane": "",
            "popup": null,
            "popup_max_height": null,
            "popup_max_width": 300,
            "popup_min_width": 50,
            "show_loading": false,
            "subitems": [],
            "tile_size": 256,
            "tms": false,
            "url": "https://earthengine.googleapis.com/v1/projects/earthengine-legacy/maps/524256254de2eb84a342740029d0ded6-c98c58386a11a5ac84a910080a34e44b/tiles/{z}/{x}/{y}",
            "visible": true,
            "zoom_offset": 0
          }
        },
        "676d2233ceb045cfa209323e3dfcaacc": {
          "model_module": "jupyter-leaflet",
          "model_name": "LeafletTileLayerModel",
          "model_module_version": "^0.17",
          "state": {
            "_model_module": "jupyter-leaflet",
            "_model_module_version": "^0.17",
            "_model_name": "LeafletTileLayerModel",
            "_view_count": null,
            "_view_module": "jupyter-leaflet",
            "_view_module_version": "^0.17",
            "_view_name": "LeafletTileLayerView",
            "attribution": "Google Earth Engine",
            "base": false,
            "bottom": true,
            "bounds": null,
            "detect_retina": false,
            "loading": false,
            "max_native_zoom": null,
            "max_zoom": 24,
            "min_native_zoom": null,
            "min_zoom": 0,
            "name": "Outline",
            "no_wrap": false,
            "opacity": 1,
            "options": [
              "attribution",
              "bounds",
              "detect_retina",
              "max_native_zoom",
              "max_zoom",
              "min_native_zoom",
              "min_zoom",
              "no_wrap",
              "tile_size",
              "tms",
              "zoom_offset"
            ],
            "pane": "",
            "popup": null,
            "popup_max_height": null,
            "popup_max_width": 300,
            "popup_min_width": 50,
            "show_loading": false,
            "subitems": [],
            "tile_size": 256,
            "tms": false,
            "url": "https://earthengine.googleapis.com/v1/projects/earthengine-legacy/maps/6aca0fdf2aab0d0bdeef7e24e516fd74-db872a51580ba699f0a1f8a7e9e22061/tiles/{z}/{x}/{y}",
            "visible": true,
            "zoom_offset": 0
          }
        },
        "ee1f963259c54795b8b38c092e905d63": {
          "model_module": "@jupyter-widgets/base",
          "model_name": "LayoutModel",
          "model_module_version": "1.2.0",
          "state": {
            "_model_module": "@jupyter-widgets/base",
            "_model_module_version": "1.2.0",
            "_model_name": "LayoutModel",
            "_view_count": null,
            "_view_module": "@jupyter-widgets/base",
            "_view_module_version": "1.2.0",
            "_view_name": "LayoutView",
            "align_content": null,
            "align_items": null,
            "align_self": null,
            "border": null,
            "bottom": null,
            "display": null,
            "flex": null,
            "flex_flow": null,
            "grid_area": null,
            "grid_auto_columns": null,
            "grid_auto_flow": null,
            "grid_auto_rows": null,
            "grid_column": null,
            "grid_gap": null,
            "grid_row": null,
            "grid_template_areas": null,
            "grid_template_columns": null,
            "grid_template_rows": null,
            "height": "600px",
            "justify_content": null,
            "justify_items": null,
            "left": null,
            "margin": null,
            "max_height": null,
            "max_width": null,
            "min_height": null,
            "min_width": null,
            "object_fit": null,
            "object_position": null,
            "order": null,
            "overflow": null,
            "overflow_x": null,
            "overflow_y": null,
            "padding": null,
            "right": null,
            "top": null,
            "visibility": null,
            "width": null
          }
        },
        "9e49766436da47fab8b3b8475ffc6d43": {
          "model_module": "jupyter-leaflet",
          "model_name": "LeafletMapStyleModel",
          "model_module_version": "^0.17",
          "state": {
            "_model_module": "jupyter-leaflet",
            "_model_module_version": "^0.17",
            "_model_name": "LeafletMapStyleModel",
            "_view_count": null,
            "_view_module": "@jupyter-widgets/base",
            "_view_module_version": "1.2.0",
            "_view_name": "StyleView",
            "cursor": "grab"
          }
        },
        "f38adce94dac4d3ca28a82db870be63c": {
          "model_module": "@jupyter-widgets/controls",
          "model_name": "HBoxModel",
          "model_module_version": "1.5.0",
          "state": {
            "_dom_classes": [
              "geemap-colab"
            ],
            "_model_module": "@jupyter-widgets/controls",
            "_model_module_version": "1.5.0",
            "_model_name": "HBoxModel",
            "_view_count": null,
            "_view_module": "@jupyter-widgets/controls",
            "_view_module_version": "1.5.0",
            "_view_name": "HBoxView",
            "box_style": "",
            "children": [
              "IPY_MODEL_ada7ca5138894a94b11a60b1414d0cad"
            ],
            "layout": "IPY_MODEL_207f4ee6ddce4b82b0de6d4f75f8b62b"
          }
        },
        "64f66fded2b542c08d245bb9cde6b06c": {
          "model_module": "@jupyter-widgets/controls",
          "model_name": "VBoxModel",
          "model_module_version": "1.5.0",
          "state": {
            "_dom_classes": [
              "geemap-colab"
            ],
            "_model_module": "@jupyter-widgets/controls",
            "_model_module_version": "1.5.0",
            "_model_name": "VBoxModel",
            "_view_count": null,
            "_view_module": "@jupyter-widgets/controls",
            "_view_module_version": "1.5.0",
            "_view_name": "VBoxView",
            "box_style": "",
            "children": [
              "IPY_MODEL_453024923cdd492ab73a74e590a3cbbd"
            ],
            "layout": "IPY_MODEL_1916a4278f9443c5b28d5dc328b4138e"
          }
        },
        "ada7ca5138894a94b11a60b1414d0cad": {
          "model_module": "@jupyter-widgets/controls",
          "model_name": "ToggleButtonModel",
          "model_module_version": "1.5.0",
          "state": {
            "_dom_classes": [],
            "_model_module": "@jupyter-widgets/controls",
            "_model_module_version": "1.5.0",
            "_model_name": "ToggleButtonModel",
            "_view_count": null,
            "_view_module": "@jupyter-widgets/controls",
            "_view_module_version": "1.5.0",
            "_view_name": "ToggleButtonView",
            "button_style": "",
            "description": "",
            "description_tooltip": null,
            "disabled": false,
            "icon": "globe",
            "layout": "IPY_MODEL_bbc60adabd39497fbd65b80e020c6ad0",
            "style": "IPY_MODEL_f0313481433944c3be26d25af26f493a",
            "tooltip": "Search location/data",
            "value": false
          }
        },
        "207f4ee6ddce4b82b0de6d4f75f8b62b": {
          "model_module": "@jupyter-widgets/base",
          "model_name": "LayoutModel",
          "model_module_version": "1.2.0",
          "state": {
            "_model_module": "@jupyter-widgets/base",
            "_model_module_version": "1.2.0",
            "_model_name": "LayoutModel",
            "_view_count": null,
            "_view_module": "@jupyter-widgets/base",
            "_view_module_version": "1.2.0",
            "_view_name": "LayoutView",
            "align_content": null,
            "align_items": null,
            "align_self": null,
            "border": null,
            "bottom": null,
            "display": null,
            "flex": null,
            "flex_flow": null,
            "grid_area": null,
            "grid_auto_columns": null,
            "grid_auto_flow": null,
            "grid_auto_rows": null,
            "grid_column": null,
            "grid_gap": null,
            "grid_row": null,
            "grid_template_areas": null,
            "grid_template_columns": null,
            "grid_template_rows": null,
            "height": null,
            "justify_content": null,
            "justify_items": null,
            "left": null,
            "margin": null,
            "max_height": null,
            "max_width": null,
            "min_height": null,
            "min_width": null,
            "object_fit": null,
            "object_position": null,
            "order": null,
            "overflow": null,
            "overflow_x": null,
            "overflow_y": null,
            "padding": null,
            "right": null,
            "top": null,
            "visibility": null,
            "width": null
          }
        },
        "453024923cdd492ab73a74e590a3cbbd": {
          "model_module": "@jupyter-widgets/controls",
          "model_name": "ToggleButtonModel",
          "model_module_version": "1.5.0",
          "state": {
            "_dom_classes": [],
            "_model_module": "@jupyter-widgets/controls",
            "_model_module_version": "1.5.0",
            "_model_name": "ToggleButtonModel",
            "_view_count": null,
            "_view_module": "@jupyter-widgets/controls",
            "_view_module_version": "1.5.0",
            "_view_name": "ToggleButtonView",
            "button_style": "",
            "description": "",
            "description_tooltip": null,
            "disabled": false,
            "icon": "wrench",
            "layout": "IPY_MODEL_6d0ab9cd8ccb4a8a93dba1d7782ad736",
            "style": "IPY_MODEL_45fe21f18f1d44238f260ef5153c1618",
            "tooltip": "Toolbar",
            "value": false
          }
        },
        "1916a4278f9443c5b28d5dc328b4138e": {
          "model_module": "@jupyter-widgets/base",
          "model_name": "LayoutModel",
          "model_module_version": "1.2.0",
          "state": {
            "_model_module": "@jupyter-widgets/base",
            "_model_module_version": "1.2.0",
            "_model_name": "LayoutModel",
            "_view_count": null,
            "_view_module": "@jupyter-widgets/base",
            "_view_module_version": "1.2.0",
            "_view_name": "LayoutView",
            "align_content": null,
            "align_items": null,
            "align_self": null,
            "border": null,
            "bottom": null,
            "display": null,
            "flex": null,
            "flex_flow": null,
            "grid_area": null,
            "grid_auto_columns": null,
            "grid_auto_flow": null,
            "grid_auto_rows": null,
            "grid_column": null,
            "grid_gap": null,
            "grid_row": null,
            "grid_template_areas": null,
            "grid_template_columns": null,
            "grid_template_rows": null,
            "height": null,
            "justify_content": null,
            "justify_items": null,
            "left": null,
            "margin": null,
            "max_height": null,
            "max_width": null,
            "min_height": null,
            "min_width": null,
            "object_fit": null,
            "object_position": null,
            "order": null,
            "overflow": null,
            "overflow_x": null,
            "overflow_y": null,
            "padding": null,
            "right": null,
            "top": null,
            "visibility": null,
            "width": null
          }
        },
        "bbc60adabd39497fbd65b80e020c6ad0": {
          "model_module": "@jupyter-widgets/base",
          "model_name": "LayoutModel",
          "model_module_version": "1.2.0",
          "state": {
            "_model_module": "@jupyter-widgets/base",
            "_model_module_version": "1.2.0",
            "_model_name": "LayoutModel",
            "_view_count": null,
            "_view_module": "@jupyter-widgets/base",
            "_view_module_version": "1.2.0",
            "_view_name": "LayoutView",
            "align_content": null,
            "align_items": null,
            "align_self": null,
            "border": null,
            "bottom": null,
            "display": null,
            "flex": null,
            "flex_flow": null,
            "grid_area": null,
            "grid_auto_columns": null,
            "grid_auto_flow": null,
            "grid_auto_rows": null,
            "grid_column": null,
            "grid_gap": null,
            "grid_row": null,
            "grid_template_areas": null,
            "grid_template_columns": null,
            "grid_template_rows": null,
            "height": "28px",
            "justify_content": null,
            "justify_items": null,
            "left": null,
            "margin": null,
            "max_height": null,
            "max_width": null,
            "min_height": null,
            "min_width": null,
            "object_fit": null,
            "object_position": null,
            "order": null,
            "overflow": null,
            "overflow_x": null,
            "overflow_y": null,
            "padding": "0px 0px 0px 4px",
            "right": null,
            "top": null,
            "visibility": null,
            "width": "28px"
          }
        },
        "f0313481433944c3be26d25af26f493a": {
          "model_module": "@jupyter-widgets/controls",
          "model_name": "DescriptionStyleModel",
          "model_module_version": "1.5.0",
          "state": {
            "_model_module": "@jupyter-widgets/controls",
            "_model_module_version": "1.5.0",
            "_model_name": "DescriptionStyleModel",
            "_view_count": null,
            "_view_module": "@jupyter-widgets/base",
            "_view_module_version": "1.2.0",
            "_view_name": "StyleView",
            "description_width": ""
          }
        },
        "6d0ab9cd8ccb4a8a93dba1d7782ad736": {
          "model_module": "@jupyter-widgets/base",
          "model_name": "LayoutModel",
          "model_module_version": "1.2.0",
          "state": {
            "_model_module": "@jupyter-widgets/base",
            "_model_module_version": "1.2.0",
            "_model_name": "LayoutModel",
            "_view_count": null,
            "_view_module": "@jupyter-widgets/base",
            "_view_module_version": "1.2.0",
            "_view_name": "LayoutView",
            "align_content": null,
            "align_items": null,
            "align_self": null,
            "border": null,
            "bottom": null,
            "display": null,
            "flex": null,
            "flex_flow": null,
            "grid_area": null,
            "grid_auto_columns": null,
            "grid_auto_flow": null,
            "grid_auto_rows": null,
            "grid_column": null,
            "grid_gap": null,
            "grid_row": null,
            "grid_template_areas": null,
            "grid_template_columns": null,
            "grid_template_rows": null,
            "height": "28px",
            "justify_content": null,
            "justify_items": null,
            "left": null,
            "margin": null,
            "max_height": null,
            "max_width": null,
            "min_height": null,
            "min_width": null,
            "object_fit": null,
            "object_position": null,
            "order": null,
            "overflow": null,
            "overflow_x": null,
            "overflow_y": null,
            "padding": "0px 0px 0px 4px",
            "right": null,
            "top": null,
            "visibility": null,
            "width": "28px"
          }
        },
        "45fe21f18f1d44238f260ef5153c1618": {
          "model_module": "@jupyter-widgets/controls",
          "model_name": "DescriptionStyleModel",
          "model_module_version": "1.5.0",
          "state": {
            "_model_module": "@jupyter-widgets/controls",
            "_model_module_version": "1.5.0",
            "_model_name": "DescriptionStyleModel",
            "_view_count": null,
            "_view_module": "@jupyter-widgets/base",
            "_view_module_version": "1.2.0",
            "_view_name": "StyleView",
            "description_width": ""
          }
        },
        "8a7a867946824f5b8eadf957c24408a7": {
          "model_module": "jupyter-leaflet",
          "model_name": "LeafletMapModel",
          "model_module_version": "^0.17",
          "state": {
            "_dom_classes": [],
            "_model_module": "jupyter-leaflet",
            "_model_module_version": "^0.17",
            "_model_name": "LeafletMapModel",
            "_view_count": null,
            "_view_module": "jupyter-leaflet",
            "_view_module_version": "^0.17",
            "_view_name": "LeafletMapView",
            "bottom": 29540,
            "bounce_at_zoom_limits": true,
            "box_zoom": true,
            "center": [
              19.022685,
              -98.623038
            ],
            "close_popup_on_click": true,
            "controls": [
              "IPY_MODEL_5ad1ca7cab7f4ea59fa5db6a26302841",
              "IPY_MODEL_363fb253df5848c0821042e6643023f2",
              "IPY_MODEL_003f0f1d57594072ad2fdd96b6257e68",
              "IPY_MODEL_9e1b212072194a1f963e6d8cc0457bd0",
              "IPY_MODEL_6554e65877a14a1685b150873ee12123",
              "IPY_MODEL_ae9b800da50143478b8b7b226db2975e",
              "IPY_MODEL_74eaec7c3baf4fdebcadc054d59d1ed1",
              "IPY_MODEL_d1e25d59c62b48bc92b6e9bdc6a09e4a"
            ],
            "crs": {
              "name": "EPSG3857",
              "custom": false
            },
            "default_style": "IPY_MODEL_95ce5395a45945059b532ea83790606a",
            "double_click_zoom": true,
            "dragging": true,
            "dragging_style": "IPY_MODEL_5b315813c0fc4bc1853931b2a3e9ad68",
            "east": -95.83923339843751,
            "fullscreen": false,
            "inertia": true,
            "inertia_deceleration": 3000,
            "inertia_max_speed": 1500,
            "interpolation": "bilinear",
            "keyboard": true,
            "keyboard_pan_offset": 80,
            "keyboard_zoom_offset": 1,
            "layers": [
              "IPY_MODEL_2946393ec7d74307bf0bcd4bfee9a7b8",
              "IPY_MODEL_00158a49078a42558940becb397704b0",
              "IPY_MODEL_846d82088ada4e8298d8ad3d9415d315",
              "IPY_MODEL_8a68223310704e9ea137db77f0162f84",
              "IPY_MODEL_74484af5879946fb833868d8f08c0dd1"
            ],
            "layout": "IPY_MODEL_c08874a80cfb4ad796d7534b0a0010bb",
            "left": 14308,
            "max_zoom": 24,
            "min_zoom": null,
            "modisdate": "2023-11-26",
            "north": 20.571081893508193,
            "options": [
              "bounce_at_zoom_limits",
              "box_zoom",
              "center",
              "close_popup_on_click",
              "double_click_zoom",
              "dragging",
              "fullscreen",
              "inertia",
              "inertia_deceleration",
              "inertia_max_speed",
              "interpolation",
              "keyboard",
              "keyboard_pan_offset",
              "keyboard_zoom_offset",
              "max_zoom",
              "min_zoom",
              "prefer_canvas",
              "scroll_wheel_zoom",
              "tap",
              "tap_tolerance",
              "touch_zoom",
              "world_copy_jump",
              "zoom",
              "zoom_animation_threshold",
              "zoom_delta",
              "zoom_snap"
            ],
            "panes": {},
            "prefer_canvas": false,
            "right": 15321,
            "scroll_wheel_zoom": true,
            "south": 17.45547257997284,
            "style": "IPY_MODEL_32e53179dc6b4faa9861aa1bbb178eb7",
            "tap": true,
            "tap_tolerance": 15,
            "top": 28940,
            "touch_zoom": true,
            "west": -101.40380859375001,
            "window_url": "https://mo82owb0geq-496ff2e9c6d22116-0-colab.googleusercontent.com/outputframe.html?vrz=colab_20231121-060051_RC00_584295192",
            "world_copy_jump": false,
            "zoom": 8,
            "zoom_animation_threshold": 4,
            "zoom_delta": 1,
            "zoom_snap": 1
          }
        },
        "5ad1ca7cab7f4ea59fa5db6a26302841": {
          "model_module": "jupyter-leaflet",
          "model_name": "LeafletWidgetControlModel",
          "model_module_version": "^0.17",
          "state": {
            "_model_module": "jupyter-leaflet",
            "_model_module_version": "^0.17",
            "_model_name": "LeafletWidgetControlModel",
            "_view_count": null,
            "_view_module": "jupyter-leaflet",
            "_view_module_version": "^0.17",
            "_view_name": "LeafletWidgetControlView",
            "max_height": null,
            "max_width": null,
            "min_height": null,
            "min_width": null,
            "options": [
              "position",
              "transparent_bg"
            ],
            "position": "topleft",
            "transparent_bg": false,
            "widget": "IPY_MODEL_5ca86622b31c48409f0f61a6a6bf361b"
          }
        },
        "363fb253df5848c0821042e6643023f2": {
          "model_module": "jupyter-leaflet",
          "model_name": "LeafletZoomControlModel",
          "model_module_version": "^0.17",
          "state": {
            "_model_module": "jupyter-leaflet",
            "_model_module_version": "^0.17",
            "_model_name": "LeafletZoomControlModel",
            "_view_count": null,
            "_view_module": "jupyter-leaflet",
            "_view_module_version": "^0.17",
            "_view_name": "LeafletZoomControlView",
            "options": [
              "position",
              "zoom_in_text",
              "zoom_in_title",
              "zoom_out_text",
              "zoom_out_title"
            ],
            "position": "topleft",
            "zoom_in_text": "+",
            "zoom_in_title": "Zoom in",
            "zoom_out_text": "-",
            "zoom_out_title": "Zoom out"
          }
        },
        "003f0f1d57594072ad2fdd96b6257e68": {
          "model_module": "jupyter-leaflet",
          "model_name": "LeafletFullScreenControlModel",
          "model_module_version": "^0.17",
          "state": {
            "_model_module": "jupyter-leaflet",
            "_model_module_version": "^0.17",
            "_model_name": "LeafletFullScreenControlModel",
            "_view_count": null,
            "_view_module": "jupyter-leaflet",
            "_view_module_version": "^0.17",
            "_view_name": "LeafletFullScreenControlView",
            "options": [
              "position"
            ],
            "position": "topleft"
          }
        },
        "9e1b212072194a1f963e6d8cc0457bd0": {
          "model_module": "jupyter-leaflet",
          "model_name": "LeafletDrawControlModel",
          "model_module_version": "^0.17",
          "state": {
            "_model_module": "jupyter-leaflet",
            "_model_module_version": "^0.17",
            "_model_name": "LeafletDrawControlModel",
            "_view_count": null,
            "_view_module": "jupyter-leaflet",
            "_view_module_version": "^0.17",
            "_view_name": "LeafletDrawControlView",
            "circle": {},
            "circlemarker": {},
            "data": [],
            "edit": true,
            "marker": {
              "shapeOptions": {
                "color": "#3388ff"
              }
            },
            "options": [
              "position"
            ],
            "polygon": {
              "shapeOptions": {}
            },
            "polyline": {
              "shapeOptions": {}
            },
            "position": "topleft",
            "rectangle": {
              "shapeOptions": {
                "color": "#3388ff"
              }
            },
            "remove": true
          }
        },
        "6554e65877a14a1685b150873ee12123": {
          "model_module": "jupyter-leaflet",
          "model_name": "LeafletScaleControlModel",
          "model_module_version": "^0.17",
          "state": {
            "_model_module": "jupyter-leaflet",
            "_model_module_version": "^0.17",
            "_model_name": "LeafletScaleControlModel",
            "_view_count": null,
            "_view_module": "jupyter-leaflet",
            "_view_module_version": "^0.17",
            "_view_name": "LeafletScaleControlView",
            "imperial": true,
            "max_width": 100,
            "metric": true,
            "options": [
              "imperial",
              "max_width",
              "metric",
              "position",
              "update_when_idle"
            ],
            "position": "bottomleft",
            "update_when_idle": false
          }
        },
        "ae9b800da50143478b8b7b226db2975e": {
          "model_module": "jupyter-leaflet",
          "model_name": "LeafletMeasureControlModel",
          "model_module_version": "^0.17",
          "state": {
            "_custom_units": {},
            "_model_module": "jupyter-leaflet",
            "_model_module_version": "^0.17",
            "_model_name": "LeafletMeasureControlModel",
            "_view_count": null,
            "_view_module": "jupyter-leaflet",
            "_view_module_version": "^0.17",
            "_view_name": "LeafletMeasureControlView",
            "active_color": "orange",
            "capture_z_index": 10000,
            "completed_color": "#C8F2BE",
            "options": [
              "active_color",
              "capture_z_index",
              "completed_color",
              "popup_options",
              "position",
              "primary_area_unit",
              "primary_length_unit",
              "secondary_area_unit",
              "secondary_length_unit"
            ],
            "popup_options": {
              "className": "leaflet-measure-resultpopup",
              "autoPanPadding": [
                10,
                10
              ]
            },
            "position": "bottomleft",
            "primary_area_unit": "acres",
            "primary_length_unit": "kilometers",
            "secondary_area_unit": null,
            "secondary_length_unit": null
          }
        },
        "74eaec7c3baf4fdebcadc054d59d1ed1": {
          "model_module": "jupyter-leaflet",
          "model_name": "LeafletWidgetControlModel",
          "model_module_version": "^0.17",
          "state": {
            "_model_module": "jupyter-leaflet",
            "_model_module_version": "^0.17",
            "_model_name": "LeafletWidgetControlModel",
            "_view_count": null,
            "_view_module": "jupyter-leaflet",
            "_view_module_version": "^0.17",
            "_view_name": "LeafletWidgetControlView",
            "max_height": null,
            "max_width": null,
            "min_height": null,
            "min_width": null,
            "options": [
              "position",
              "transparent_bg"
            ],
            "position": "topright",
            "transparent_bg": false,
            "widget": "IPY_MODEL_1c6c543681354a59987b0990c427a491"
          }
        },
        "d1e25d59c62b48bc92b6e9bdc6a09e4a": {
          "model_module": "jupyter-leaflet",
          "model_name": "LeafletAttributionControlModel",
          "model_module_version": "^0.17",
          "state": {
            "_model_module": "jupyter-leaflet",
            "_model_module_version": "^0.17",
            "_model_name": "LeafletAttributionControlModel",
            "_view_count": null,
            "_view_module": "jupyter-leaflet",
            "_view_module_version": "^0.17",
            "_view_name": "LeafletAttributionControlView",
            "options": [
              "position",
              "prefix"
            ],
            "position": "bottomright",
            "prefix": "ipyleaflet"
          }
        },
        "95ce5395a45945059b532ea83790606a": {
          "model_module": "jupyter-leaflet",
          "model_name": "LeafletMapStyleModel",
          "model_module_version": "^0.17",
          "state": {
            "_model_module": "jupyter-leaflet",
            "_model_module_version": "^0.17",
            "_model_name": "LeafletMapStyleModel",
            "_view_count": null,
            "_view_module": "@jupyter-widgets/base",
            "_view_module_version": "1.2.0",
            "_view_name": "StyleView",
            "cursor": "grab"
          }
        },
        "5b315813c0fc4bc1853931b2a3e9ad68": {
          "model_module": "jupyter-leaflet",
          "model_name": "LeafletMapStyleModel",
          "model_module_version": "^0.17",
          "state": {
            "_model_module": "jupyter-leaflet",
            "_model_module_version": "^0.17",
            "_model_name": "LeafletMapStyleModel",
            "_view_count": null,
            "_view_module": "@jupyter-widgets/base",
            "_view_module_version": "1.2.0",
            "_view_name": "StyleView",
            "cursor": "move"
          }
        },
        "2946393ec7d74307bf0bcd4bfee9a7b8": {
          "model_module": "jupyter-leaflet",
          "model_name": "LeafletTileLayerModel",
          "model_module_version": "^0.17",
          "state": {
            "_model_module": "jupyter-leaflet",
            "_model_module_version": "^0.17",
            "_model_name": "LeafletTileLayerModel",
            "_view_count": null,
            "_view_module": "jupyter-leaflet",
            "_view_module_version": "^0.17",
            "_view_name": "LeafletTileLayerView",
            "attribution": "&copy; <a href=\"https://www.openstreetmap.org/copyright\">OpenStreetMap</a> contributors",
            "base": true,
            "bottom": true,
            "bounds": null,
            "detect_retina": false,
            "loading": false,
            "max_native_zoom": null,
            "max_zoom": 19,
            "min_native_zoom": null,
            "min_zoom": 1,
            "name": "OpenStreetMap.Mapnik",
            "no_wrap": false,
            "opacity": 1,
            "options": [
              "attribution",
              "bounds",
              "detect_retina",
              "max_native_zoom",
              "max_zoom",
              "min_native_zoom",
              "min_zoom",
              "no_wrap",
              "tile_size",
              "tms",
              "zoom_offset"
            ],
            "pane": "",
            "popup": null,
            "popup_max_height": null,
            "popup_max_width": 300,
            "popup_min_width": 50,
            "show_loading": false,
            "subitems": [],
            "tile_size": 256,
            "tms": false,
            "url": "https://tile.openstreetmap.org/{z}/{x}/{y}.png",
            "visible": true,
            "zoom_offset": 0
          }
        },
        "00158a49078a42558940becb397704b0": {
          "model_module": "jupyter-leaflet",
          "model_name": "LeafletTileLayerModel",
          "model_module_version": "^0.17",
          "state": {
            "_model_module": "jupyter-leaflet",
            "_model_module_version": "^0.17",
            "_model_name": "LeafletTileLayerModel",
            "_view_count": null,
            "_view_module": "jupyter-leaflet",
            "_view_module_version": "^0.17",
            "_view_name": "LeafletTileLayerView",
            "attribution": "Google Earth Engine",
            "base": false,
            "bottom": true,
            "bounds": null,
            "detect_retina": false,
            "loading": false,
            "max_native_zoom": null,
            "max_zoom": 24,
            "min_native_zoom": null,
            "min_zoom": 0,
            "name": "Imagen RGB",
            "no_wrap": false,
            "opacity": 1,
            "options": [
              "attribution",
              "bounds",
              "detect_retina",
              "max_native_zoom",
              "max_zoom",
              "min_native_zoom",
              "min_zoom",
              "no_wrap",
              "tile_size",
              "tms",
              "zoom_offset"
            ],
            "pane": "",
            "popup": null,
            "popup_max_height": null,
            "popup_max_width": 300,
            "popup_min_width": 50,
            "show_loading": false,
            "subitems": [],
            "tile_size": 256,
            "tms": false,
            "url": "https://earthengine.googleapis.com/v1/projects/earthengine-legacy/maps/e5612266d3696caa7d400bbc79334379-39819571f728c29c5b53fb57e2eee325/tiles/{z}/{x}/{y}",
            "visible": true,
            "zoom_offset": 0
          }
        },
        "846d82088ada4e8298d8ad3d9415d315": {
          "model_module": "jupyter-leaflet",
          "model_name": "LeafletTileLayerModel",
          "model_module_version": "^0.17",
          "state": {
            "_model_module": "jupyter-leaflet",
            "_model_module_version": "^0.17",
            "_model_name": "LeafletTileLayerModel",
            "_view_count": null,
            "_view_module": "jupyter-leaflet",
            "_view_module_version": "^0.17",
            "_view_name": "LeafletTileLayerView",
            "attribution": "Google Earth Engine",
            "base": false,
            "bottom": true,
            "bounds": null,
            "detect_retina": false,
            "loading": false,
            "max_native_zoom": null,
            "max_zoom": 24,
            "min_native_zoom": null,
            "min_zoom": 0,
            "name": "Imagen RGB fake",
            "no_wrap": false,
            "opacity": 1,
            "options": [
              "attribution",
              "bounds",
              "detect_retina",
              "max_native_zoom",
              "max_zoom",
              "min_native_zoom",
              "min_zoom",
              "no_wrap",
              "tile_size",
              "tms",
              "zoom_offset"
            ],
            "pane": "",
            "popup": null,
            "popup_max_height": null,
            "popup_max_width": 300,
            "popup_min_width": 50,
            "show_loading": false,
            "subitems": [],
            "tile_size": 256,
            "tms": false,
            "url": "https://earthengine.googleapis.com/v1/projects/earthengine-legacy/maps/0ae9362518bdf1830dc339e64052aec0-fbe8782dc03cdb4323ad595860b624ba/tiles/{z}/{x}/{y}",
            "visible": true,
            "zoom_offset": 0
          }
        },
        "8a68223310704e9ea137db77f0162f84": {
          "model_module": "jupyter-leaflet",
          "model_name": "LeafletTileLayerModel",
          "model_module_version": "^0.17",
          "state": {
            "_model_module": "jupyter-leaflet",
            "_model_module_version": "^0.17",
            "_model_name": "LeafletTileLayerModel",
            "_view_count": null,
            "_view_module": "jupyter-leaflet",
            "_view_module_version": "^0.17",
            "_view_name": "LeafletTileLayerView",
            "attribution": "Google Earth Engine",
            "base": false,
            "bottom": true,
            "bounds": null,
            "detect_retina": false,
            "loading": false,
            "max_native_zoom": null,
            "max_zoom": 24,
            "min_native_zoom": null,
            "min_zoom": 0,
            "name": "Selfmask Meth2 Extendida",
            "no_wrap": false,
            "opacity": 1,
            "options": [
              "attribution",
              "bounds",
              "detect_retina",
              "max_native_zoom",
              "max_zoom",
              "min_native_zoom",
              "min_zoom",
              "no_wrap",
              "tile_size",
              "tms",
              "zoom_offset"
            ],
            "pane": "",
            "popup": null,
            "popup_max_height": null,
            "popup_max_width": 300,
            "popup_min_width": 50,
            "show_loading": false,
            "subitems": [],
            "tile_size": 256,
            "tms": false,
            "url": "https://earthengine.googleapis.com/v1/projects/earthengine-legacy/maps/524256254de2eb84a342740029d0ded6-58527734cf5ea34cb48898182ebcc8cf/tiles/{z}/{x}/{y}",
            "visible": true,
            "zoom_offset": 0
          }
        },
        "74484af5879946fb833868d8f08c0dd1": {
          "model_module": "jupyter-leaflet",
          "model_name": "LeafletTileLayerModel",
          "model_module_version": "^0.17",
          "state": {
            "_model_module": "jupyter-leaflet",
            "_model_module_version": "^0.17",
            "_model_name": "LeafletTileLayerModel",
            "_view_count": null,
            "_view_module": "jupyter-leaflet",
            "_view_module_version": "^0.17",
            "_view_name": "LeafletTileLayerView",
            "attribution": "Google Earth Engine",
            "base": false,
            "bottom": true,
            "bounds": null,
            "detect_retina": false,
            "loading": false,
            "max_native_zoom": null,
            "max_zoom": 24,
            "min_native_zoom": null,
            "min_zoom": 0,
            "name": "Outline",
            "no_wrap": false,
            "opacity": 1,
            "options": [
              "attribution",
              "bounds",
              "detect_retina",
              "max_native_zoom",
              "max_zoom",
              "min_native_zoom",
              "min_zoom",
              "no_wrap",
              "tile_size",
              "tms",
              "zoom_offset"
            ],
            "pane": "",
            "popup": null,
            "popup_max_height": null,
            "popup_max_width": 300,
            "popup_min_width": 50,
            "show_loading": false,
            "subitems": [],
            "tile_size": 256,
            "tms": false,
            "url": "https://earthengine.googleapis.com/v1/projects/earthengine-legacy/maps/6aca0fdf2aab0d0bdeef7e24e516fd74-aaa6b2536ea0776c00659498545fbba9/tiles/{z}/{x}/{y}",
            "visible": true,
            "zoom_offset": 0
          }
        },
        "c08874a80cfb4ad796d7534b0a0010bb": {
          "model_module": "@jupyter-widgets/base",
          "model_name": "LayoutModel",
          "model_module_version": "1.2.0",
          "state": {
            "_model_module": "@jupyter-widgets/base",
            "_model_module_version": "1.2.0",
            "_model_name": "LayoutModel",
            "_view_count": null,
            "_view_module": "@jupyter-widgets/base",
            "_view_module_version": "1.2.0",
            "_view_name": "LayoutView",
            "align_content": null,
            "align_items": null,
            "align_self": null,
            "border": null,
            "bottom": null,
            "display": null,
            "flex": null,
            "flex_flow": null,
            "grid_area": null,
            "grid_auto_columns": null,
            "grid_auto_flow": null,
            "grid_auto_rows": null,
            "grid_column": null,
            "grid_gap": null,
            "grid_row": null,
            "grid_template_areas": null,
            "grid_template_columns": null,
            "grid_template_rows": null,
            "height": "600px",
            "justify_content": null,
            "justify_items": null,
            "left": null,
            "margin": null,
            "max_height": null,
            "max_width": null,
            "min_height": null,
            "min_width": null,
            "object_fit": null,
            "object_position": null,
            "order": null,
            "overflow": null,
            "overflow_x": null,
            "overflow_y": null,
            "padding": null,
            "right": null,
            "top": null,
            "visibility": null,
            "width": null
          }
        },
        "32e53179dc6b4faa9861aa1bbb178eb7": {
          "model_module": "jupyter-leaflet",
          "model_name": "LeafletMapStyleModel",
          "model_module_version": "^0.17",
          "state": {
            "_model_module": "jupyter-leaflet",
            "_model_module_version": "^0.17",
            "_model_name": "LeafletMapStyleModel",
            "_view_count": null,
            "_view_module": "@jupyter-widgets/base",
            "_view_module_version": "1.2.0",
            "_view_name": "StyleView",
            "cursor": "grab"
          }
        },
        "5ca86622b31c48409f0f61a6a6bf361b": {
          "model_module": "@jupyter-widgets/controls",
          "model_name": "HBoxModel",
          "model_module_version": "1.5.0",
          "state": {
            "_dom_classes": [
              "geemap-colab"
            ],
            "_model_module": "@jupyter-widgets/controls",
            "_model_module_version": "1.5.0",
            "_model_name": "HBoxModel",
            "_view_count": null,
            "_view_module": "@jupyter-widgets/controls",
            "_view_module_version": "1.5.0",
            "_view_name": "HBoxView",
            "box_style": "",
            "children": [
              "IPY_MODEL_fd5997e8d540477c8b83c8e15a023549"
            ],
            "layout": "IPY_MODEL_e0ab713f53d340b892a9a92cb96de74d"
          }
        },
        "1c6c543681354a59987b0990c427a491": {
          "model_module": "@jupyter-widgets/controls",
          "model_name": "VBoxModel",
          "model_module_version": "1.5.0",
          "state": {
            "_dom_classes": [
              "geemap-colab"
            ],
            "_model_module": "@jupyter-widgets/controls",
            "_model_module_version": "1.5.0",
            "_model_name": "VBoxModel",
            "_view_count": null,
            "_view_module": "@jupyter-widgets/controls",
            "_view_module_version": "1.5.0",
            "_view_name": "VBoxView",
            "box_style": "",
            "children": [
              "IPY_MODEL_a574aa7ebf4a4ca8a3c955162614af40"
            ],
            "layout": "IPY_MODEL_e3d96aa5b75946f8a03cd68e563dc667"
          }
        },
        "fd5997e8d540477c8b83c8e15a023549": {
          "model_module": "@jupyter-widgets/controls",
          "model_name": "ToggleButtonModel",
          "model_module_version": "1.5.0",
          "state": {
            "_dom_classes": [],
            "_model_module": "@jupyter-widgets/controls",
            "_model_module_version": "1.5.0",
            "_model_name": "ToggleButtonModel",
            "_view_count": null,
            "_view_module": "@jupyter-widgets/controls",
            "_view_module_version": "1.5.0",
            "_view_name": "ToggleButtonView",
            "button_style": "",
            "description": "",
            "description_tooltip": null,
            "disabled": false,
            "icon": "globe",
            "layout": "IPY_MODEL_d81d3428cf64456aae3a1e37d697deba",
            "style": "IPY_MODEL_c10db57fab1c4610a51c88c860da9e98",
            "tooltip": "Search location/data",
            "value": false
          }
        },
        "e0ab713f53d340b892a9a92cb96de74d": {
          "model_module": "@jupyter-widgets/base",
          "model_name": "LayoutModel",
          "model_module_version": "1.2.0",
          "state": {
            "_model_module": "@jupyter-widgets/base",
            "_model_module_version": "1.2.0",
            "_model_name": "LayoutModel",
            "_view_count": null,
            "_view_module": "@jupyter-widgets/base",
            "_view_module_version": "1.2.0",
            "_view_name": "LayoutView",
            "align_content": null,
            "align_items": null,
            "align_self": null,
            "border": null,
            "bottom": null,
            "display": null,
            "flex": null,
            "flex_flow": null,
            "grid_area": null,
            "grid_auto_columns": null,
            "grid_auto_flow": null,
            "grid_auto_rows": null,
            "grid_column": null,
            "grid_gap": null,
            "grid_row": null,
            "grid_template_areas": null,
            "grid_template_columns": null,
            "grid_template_rows": null,
            "height": null,
            "justify_content": null,
            "justify_items": null,
            "left": null,
            "margin": null,
            "max_height": null,
            "max_width": null,
            "min_height": null,
            "min_width": null,
            "object_fit": null,
            "object_position": null,
            "order": null,
            "overflow": null,
            "overflow_x": null,
            "overflow_y": null,
            "padding": null,
            "right": null,
            "top": null,
            "visibility": null,
            "width": null
          }
        },
        "a574aa7ebf4a4ca8a3c955162614af40": {
          "model_module": "@jupyter-widgets/controls",
          "model_name": "ToggleButtonModel",
          "model_module_version": "1.5.0",
          "state": {
            "_dom_classes": [],
            "_model_module": "@jupyter-widgets/controls",
            "_model_module_version": "1.5.0",
            "_model_name": "ToggleButtonModel",
            "_view_count": null,
            "_view_module": "@jupyter-widgets/controls",
            "_view_module_version": "1.5.0",
            "_view_name": "ToggleButtonView",
            "button_style": "",
            "description": "",
            "description_tooltip": null,
            "disabled": false,
            "icon": "wrench",
            "layout": "IPY_MODEL_fc0b6f4279c54a6f8203d6f8c3ce1a0f",
            "style": "IPY_MODEL_cb0189c9ad394df2abc8bf747b34e024",
            "tooltip": "Toolbar",
            "value": false
          }
        },
        "e3d96aa5b75946f8a03cd68e563dc667": {
          "model_module": "@jupyter-widgets/base",
          "model_name": "LayoutModel",
          "model_module_version": "1.2.0",
          "state": {
            "_model_module": "@jupyter-widgets/base",
            "_model_module_version": "1.2.0",
            "_model_name": "LayoutModel",
            "_view_count": null,
            "_view_module": "@jupyter-widgets/base",
            "_view_module_version": "1.2.0",
            "_view_name": "LayoutView",
            "align_content": null,
            "align_items": null,
            "align_self": null,
            "border": null,
            "bottom": null,
            "display": null,
            "flex": null,
            "flex_flow": null,
            "grid_area": null,
            "grid_auto_columns": null,
            "grid_auto_flow": null,
            "grid_auto_rows": null,
            "grid_column": null,
            "grid_gap": null,
            "grid_row": null,
            "grid_template_areas": null,
            "grid_template_columns": null,
            "grid_template_rows": null,
            "height": null,
            "justify_content": null,
            "justify_items": null,
            "left": null,
            "margin": null,
            "max_height": null,
            "max_width": null,
            "min_height": null,
            "min_width": null,
            "object_fit": null,
            "object_position": null,
            "order": null,
            "overflow": null,
            "overflow_x": null,
            "overflow_y": null,
            "padding": null,
            "right": null,
            "top": null,
            "visibility": null,
            "width": null
          }
        },
        "d81d3428cf64456aae3a1e37d697deba": {
          "model_module": "@jupyter-widgets/base",
          "model_name": "LayoutModel",
          "model_module_version": "1.2.0",
          "state": {
            "_model_module": "@jupyter-widgets/base",
            "_model_module_version": "1.2.0",
            "_model_name": "LayoutModel",
            "_view_count": null,
            "_view_module": "@jupyter-widgets/base",
            "_view_module_version": "1.2.0",
            "_view_name": "LayoutView",
            "align_content": null,
            "align_items": null,
            "align_self": null,
            "border": null,
            "bottom": null,
            "display": null,
            "flex": null,
            "flex_flow": null,
            "grid_area": null,
            "grid_auto_columns": null,
            "grid_auto_flow": null,
            "grid_auto_rows": null,
            "grid_column": null,
            "grid_gap": null,
            "grid_row": null,
            "grid_template_areas": null,
            "grid_template_columns": null,
            "grid_template_rows": null,
            "height": "28px",
            "justify_content": null,
            "justify_items": null,
            "left": null,
            "margin": null,
            "max_height": null,
            "max_width": null,
            "min_height": null,
            "min_width": null,
            "object_fit": null,
            "object_position": null,
            "order": null,
            "overflow": null,
            "overflow_x": null,
            "overflow_y": null,
            "padding": "0px 0px 0px 4px",
            "right": null,
            "top": null,
            "visibility": null,
            "width": "28px"
          }
        },
        "c10db57fab1c4610a51c88c860da9e98": {
          "model_module": "@jupyter-widgets/controls",
          "model_name": "DescriptionStyleModel",
          "model_module_version": "1.5.0",
          "state": {
            "_model_module": "@jupyter-widgets/controls",
            "_model_module_version": "1.5.0",
            "_model_name": "DescriptionStyleModel",
            "_view_count": null,
            "_view_module": "@jupyter-widgets/base",
            "_view_module_version": "1.2.0",
            "_view_name": "StyleView",
            "description_width": ""
          }
        },
        "fc0b6f4279c54a6f8203d6f8c3ce1a0f": {
          "model_module": "@jupyter-widgets/base",
          "model_name": "LayoutModel",
          "model_module_version": "1.2.0",
          "state": {
            "_model_module": "@jupyter-widgets/base",
            "_model_module_version": "1.2.0",
            "_model_name": "LayoutModel",
            "_view_count": null,
            "_view_module": "@jupyter-widgets/base",
            "_view_module_version": "1.2.0",
            "_view_name": "LayoutView",
            "align_content": null,
            "align_items": null,
            "align_self": null,
            "border": null,
            "bottom": null,
            "display": null,
            "flex": null,
            "flex_flow": null,
            "grid_area": null,
            "grid_auto_columns": null,
            "grid_auto_flow": null,
            "grid_auto_rows": null,
            "grid_column": null,
            "grid_gap": null,
            "grid_row": null,
            "grid_template_areas": null,
            "grid_template_columns": null,
            "grid_template_rows": null,
            "height": "28px",
            "justify_content": null,
            "justify_items": null,
            "left": null,
            "margin": null,
            "max_height": null,
            "max_width": null,
            "min_height": null,
            "min_width": null,
            "object_fit": null,
            "object_position": null,
            "order": null,
            "overflow": null,
            "overflow_x": null,
            "overflow_y": null,
            "padding": "0px 0px 0px 4px",
            "right": null,
            "top": null,
            "visibility": null,
            "width": "28px"
          }
        },
        "cb0189c9ad394df2abc8bf747b34e024": {
          "model_module": "@jupyter-widgets/controls",
          "model_name": "DescriptionStyleModel",
          "model_module_version": "1.5.0",
          "state": {
            "_model_module": "@jupyter-widgets/controls",
            "_model_module_version": "1.5.0",
            "_model_name": "DescriptionStyleModel",
            "_view_count": null,
            "_view_module": "@jupyter-widgets/base",
            "_view_module_version": "1.2.0",
            "_view_name": "StyleView",
            "description_width": ""
          }
        }
      }
    }
  },
  "cells": [
    {
      "cell_type": "markdown",
      "source": [
        "___\n",
        "___\n",
        "# **Importando imagenes GOES-16**\n",
        "**Google Earth Engine**\n",
        "\n",
        "\n",
        "---\n",
        "___\n"
      ],
      "metadata": {
        "id": "a67EDmnvumij"
      }
    },
    {
      "cell_type": "markdown",
      "source": [
        "Este Notebook está dedicado a la importación y visualización de imágenes de la red satelital GOES-16, especificamente accederemos a los datos del instrumento ABI (Advanced Baseline Imager) que nos permite identificar nubes de ceniza gracias a sus sensores infrarrojos.\n",
        "\n",
        "\\\n"
      ],
      "metadata": {
        "id": "7lxe7pS49KYK"
      }
    },
    {
      "cell_type": "markdown",
      "source": [
        "___\n",
        "___\n",
        "## **Creando el ambiente de trabajo**\n",
        "___\n",
        "___"
      ],
      "metadata": {
        "id": "2AcMZA1_9s26"
      }
    },
    {
      "cell_type": "markdown",
      "source": [
        "### **Autenticación**"
      ],
      "metadata": {
        "id": "Uz9gWXzVApBL"
      }
    },
    {
      "cell_type": "markdown",
      "source": [
        "El primer paso es autorizar este Notebook para poder acceder a la base de datos de Earth Engine desde nuestra computadora. Este script nos arrojará un link que nos rediccionará a la página de GEE donde podremos iniciar sesión y autorizar los permisos que pide. Al final nos dará un token de acceso que copiaremos en el recuadro de input."
      ],
      "metadata": {
        "id": "kQH_wKkIA1rd"
      }
    },
    {
      "cell_type": "code",
      "source": [
        "COLAB_AUTH_FLOW_CLOUD_PROJECT_FOR_API_CALLS = None\n",
        "\n",
        "import ee       # Earth Engine\n",
        "import google   # Autenticación\n",
        "import os       # ''\n",
        "\n",
        "if COLAB_AUTH_FLOW_CLOUD_PROJECT_FOR_API_CALLS is None:\n",
        "  print(\"Authenticating using Notebook auth...\")\n",
        "  if os.path.exists(ee.oauth.get_credentials_path()) is False:\n",
        "    ee.Authenticate()\n",
        "  else:\n",
        "    print('\\N{check mark} '\n",
        "          'Previously created authentication credentials were found.')\n",
        "  ee.Initialize()\n",
        "else:\n",
        "  print('Authenticating using Colab auth...')\n",
        "  # Authenticate to populate Application Default Credentials in the Colab VM.\n",
        "  google.colab.auth.authenticate_user()\n",
        "  # Create credentials needed for accessing Earth Engine.\n",
        "  credentials, auth_project_id = google.auth.default()\n",
        "  # Initialize Earth Engine.\n",
        "  ee.Initialize(credentials, project=COLAB_AUTH_FLOW_CLOUD_PROJECT_FOR_API_CALLS)\n",
        "print('\\N{check mark} Successfully initialized!')"
      ],
      "metadata": {
        "id": "nAaFa6gDwCJi",
        "colab": {
          "base_uri": "https://localhost:8080/"
        },
        "outputId": "600fee28-3dee-4b98-e66e-8b9948d2fb25"
      },
      "execution_count": null,
      "outputs": [
        {
          "output_type": "stream",
          "name": "stdout",
          "text": [
            "Authenticating using Notebook auth...\n",
            "To authorize access needed by Earth Engine, open the following URL in a web browser and follow the instructions. If the web browser does not start automatically, please manually browse the URL below.\n",
            "\n",
            "    https://code.earthengine.google.com/client-auth?scopes=https%3A//www.googleapis.com/auth/earthengine%20https%3A//www.googleapis.com/auth/devstorage.full_control&request_id=Ty0cqRJ5GjLQwXLUF1joG7RMfctRuvWFsBT2kNy15HA&tc=FektBfVn4IedtSqzuS6ZOGaoVJgLXQoSTdYg_uoxYGI&cc=F7etYCL46ENGKqtIop9UJaQ5IwlAQspimiDKzPKTY3I\n",
            "\n",
            "The authorization workflow will generate a code, which you should paste in the box below.\n",
            "Enter verification code: 4/1AfJohXkinH95OfttPmDviGSc0YJ0tRALCuP9Qo4-Y9OBtRa_TUiJhqUcays\n",
            "\n",
            "Successfully saved authorization token.\n",
            "✓ Successfully initialized!\n"
          ]
        }
      ]
    },
    {
      "cell_type": "markdown",
      "source": [
        "### **Instalación de paqueterías extras**"
      ],
      "metadata": {
        "id": "d5XKk3RgAyAt"
      }
    },
    {
      "cell_type": "markdown",
      "source": [
        "Las siguientes librerías nos permiten generar mapas."
      ],
      "metadata": {
        "id": "gNOYdQiDLjSD"
      }
    },
    {
      "cell_type": "code",
      "source": [
        "import altair as alt\n",
        "import numpy as np\n",
        "import geemap         # Improved mapping library\n",
        "import math                 # Operaciones\n",
        "import pandas as pd         # Operaciones"
      ],
      "metadata": {
        "id": "4fTnLkqC-fIb",
        "colab": {
          "base_uri": "https://localhost:8080/",
          "height": 17
        },
        "outputId": "7c312fac-9de9-43ce-ebed-6fdf3650178e"
      },
      "execution_count": null,
      "outputs": [
        {
          "output_type": "display_data",
          "data": {
            "text/plain": [
              "<IPython.core.display.HTML object>"
            ],
            "text/html": [
              "\n",
              "            <style>\n",
              "                .geemap-dark {\n",
              "                    --jp-widgets-color: white;\n",
              "                    --jp-widgets-label-color: white;\n",
              "                    --jp-ui-font-color1: white;\n",
              "                    --jp-layout-color2: #454545;\n",
              "                    background-color: #383838;\n",
              "                }\n",
              "                    \n",
              "                .geemap-dark .jupyter-button {\n",
              "                    --jp-layout-color3: #383838;\n",
              "                }\n",
              "                \n",
              "                .geemap-colab {\n",
              "                    background-color: var(--colab-primary-surface-color, white);\n",
              "                }\n",
              "                    \n",
              "                .geemap-colab .jupyter-button {\n",
              "                    --jp-layout-color3: var(--colab-primary-surface-color, white);\n",
              "                }\n",
              "            </style>\n",
              "            "
            ]
          },
          "metadata": {}
        }
      ]
    },
    {
      "cell_type": "markdown",
      "source": [
        "___\n",
        "___\n",
        "\n",
        "## **Visualización de imágenes**\n",
        "\n",
        "___\n",
        "___"
      ],
      "metadata": {
        "id": "PeY7lTPUBAWW"
      }
    },
    {
      "cell_type": "markdown",
      "source": [
        "### **Data import**"
      ],
      "metadata": {
        "id": "fFJUnqj1QZh_"
      }
    },
    {
      "cell_type": "markdown",
      "source": [
        "Lo que sigue es seleccionar la colección de datos satelitales de nuestro interés desde la base de datos de GEE, que en este caso serán los del GOES-16 (CONUS) Conus & Moisture Imagery. Estas imágenes tienen resolución de 2Km p/ píxel.\n",
        "\n",
        "Para saber el código de la colección de imágenes que quiero exportar necesito buscar en la base de datos de Earth Engine (https://developers.google.com/earth-engine/datasets/catalog)"
      ],
      "metadata": {
        "id": "RA00YosaBEHf"
      }
    },
    {
      "cell_type": "code",
      "source": [
        "# Importa la colección de imagenes satelitales\n",
        "image_collection = ee.ImageCollection(\"NOAA/GOES/16/MCMIPC\")"
      ],
      "metadata": {
        "id": "Jd7vPAiADd-C",
        "colab": {
          "base_uri": "https://localhost:8080/",
          "height": 17
        },
        "outputId": "8f2f1f97-9c6f-41d6-f768-01593cec1480"
      },
      "execution_count": null,
      "outputs": [
        {
          "output_type": "display_data",
          "data": {
            "text/plain": [
              "<IPython.core.display.HTML object>"
            ],
            "text/html": [
              "\n",
              "            <style>\n",
              "                .geemap-dark {\n",
              "                    --jp-widgets-color: white;\n",
              "                    --jp-widgets-label-color: white;\n",
              "                    --jp-ui-font-color1: white;\n",
              "                    --jp-layout-color2: #454545;\n",
              "                    background-color: #383838;\n",
              "                }\n",
              "                    \n",
              "                .geemap-dark .jupyter-button {\n",
              "                    --jp-layout-color3: #383838;\n",
              "                }\n",
              "                \n",
              "                .geemap-colab {\n",
              "                    background-color: var(--colab-primary-surface-color, white);\n",
              "                }\n",
              "                    \n",
              "                .geemap-colab .jupyter-button {\n",
              "                    --jp-layout-color3: var(--colab-primary-surface-color, white);\n",
              "                }\n",
              "            </style>\n",
              "            "
            ]
          },
          "metadata": {}
        }
      ]
    },
    {
      "cell_type": "markdown",
      "source": [
        "Para filtrar esta colección, al ser una imagen muy grande, además de saber las coordenadas de nuestra zona de interés, es importante indicar la fecha y hora en la que queremos extraer imagenes porque esta red satelital geoestacionaria registra una imagen cada 5-15 minutos.\n",
        "\\\n",
        "\\\n",
        "En nuestro caso, tomaremos la actividad de paroxismo que comenzó el 21 de mayo de 2023, pero debemos dar un rango de hora en el que queremos importar imagenes (usando *.filterDate* en nuestra colección de imágenes). También tomaremos un rango de las 16:30-17:00 hrs UTC y le diremos que tome la primer imagen.\n",
        "\n",
        "\n",
        "Para filtrar la zona que queremos estudiar usamos *.filterBounds* con la herramienta *ee.Geometry.Point*, pero hay que tener **cuidado** porque tiene los índices invertidos; en vez de ser lat-long, es long-lat.\n",
        "\n",
        "\n",
        "Como no especificamos qué bandas quiero, el código importa todas las que tiene el ABI.\n",
        "\n",
        "\n",
        "Entonces para generar esta imagen, la mando buscar en la *image_collection* que contiene las imágenes satelitales que seleccioné.\n"
      ],
      "metadata": {
        "id": "GFMsa4aLH2E3"
      }
    },
    {
      "cell_type": "code",
      "source": [
        "# lat, long\n",
        "lat = 19.022685\n",
        "lng = -98.623038\n",
        "# Coords copiadas de Google\n",
        "coords_latlong = [lat, lng]          # [lat, long]\n",
        "# Coords en formato long-lat\n",
        "coords_longlat = list(reversed(coords_latlong))   # [long, lat]\n",
        "\n",
        "\n",
        "# Filtrado de image_collections para extraer la imagen de interés\n",
        "imagen = ee.Image(image_collection\n",
        "                 .filterDate('2023-05-21T18:30:00', '2023-05-21T19:00:00')\n",
        "                            # Tiempos en UTC (México tiene UTC-6hrs)\n",
        "                 .filterBounds(ee.Geometry.Point(coords_longlat))\n",
        "                 .first()) # Primer imagen de la lista"
      ],
      "metadata": {
        "id": "YBPaSfv6FOGQ",
        "colab": {
          "base_uri": "https://localhost:8080/",
          "height": 17
        },
        "outputId": "ab521878-bba3-4f10-f900-f57174f0f84a"
      },
      "execution_count": null,
      "outputs": [
        {
          "output_type": "display_data",
          "data": {
            "text/plain": [
              "<IPython.core.display.HTML object>"
            ],
            "text/html": [
              "\n",
              "            <style>\n",
              "                .geemap-dark {\n",
              "                    --jp-widgets-color: white;\n",
              "                    --jp-widgets-label-color: white;\n",
              "                    --jp-ui-font-color1: white;\n",
              "                    --jp-layout-color2: #454545;\n",
              "                    background-color: #383838;\n",
              "                }\n",
              "                    \n",
              "                .geemap-dark .jupyter-button {\n",
              "                    --jp-layout-color3: #383838;\n",
              "                }\n",
              "                \n",
              "                .geemap-colab {\n",
              "                    background-color: var(--colab-primary-surface-color, white);\n",
              "                }\n",
              "                    \n",
              "                .geemap-colab .jupyter-button {\n",
              "                    --jp-layout-color3: var(--colab-primary-surface-color, white);\n",
              "                }\n",
              "            </style>\n",
              "            "
            ]
          },
          "metadata": {}
        }
      ]
    },
    {
      "cell_type": "markdown",
      "source": [
        "### **Image pre-processing**"
      ],
      "metadata": {
        "id": "Uy-_JultG-Hv"
      }
    },
    {
      "cell_type": "markdown",
      "source": [
        "Al ser un satélite geoestacionario, el ángulo azimutal cambia todo el tiempo, por lo que debemos normalizar las bandas usando este ángulo. Tambien se le aplica un *offset* a la nueva imagen escalada para que no haya distorción.\n",
        "\n",
        "\\\n",
        "\n",
        "También es necesario generar una banda *GREEN* porque el sensor ABI sólo registra *RED* y *BLUE*. Nos ayudaremos de una banda en el NIR para generar un verde sintético."
      ],
      "metadata": {
        "id": "0oUdyyt_HGaz"
      }
    },
    {
      "cell_type": "code",
      "source": [
        "NUM_BANDS = 33\n",
        "BLUE_BAND_INDEX = (1 - 1) * 2\n",
        "RED_BAND_INDEX = (2 - 1) * 2\n",
        "NIR_BAND_INDEX = (3 - 1) * 2\n",
        "GREEN_BAND_INDEX = NUM_BANDS - 1\n",
        "\n",
        "def applyScaleAndOffset(img):\n",
        "\n",
        "  bands = [0] * NUM_BANDS\n",
        "\n",
        "  names = img.select('CMI_C..').bandNames()\n",
        "  for i in range (1, 17):\n",
        "    num = 100+i\n",
        "    bandName = 'CMI_C' + str(num)[1:3]\n",
        "    offset = ee.Number(img.get(bandName + '_offset'))\n",
        "    scale =  ee.Number(img.get(bandName + '_scale'))\n",
        "    bands[(i-1) * 2] = img.select(bandName).multiply(scale).add(offset)\n",
        "\n",
        "    dqfName = 'DQF_C' + str(num)[1:3]\n",
        "    bands[(i-1) * 2 + 1] = img.select(dqfName)\n",
        "\n",
        "\n",
        "  green = img.expression(\n",
        "        ' 0.45 * red + 0.10 * nir + 0.45 * blue ', {\n",
        "        'nir' : bands[NIR_BAND_INDEX],\n",
        "        'red' : bands[RED_BAND_INDEX],\n",
        "        'blue': bands[BLUE_BAND_INDEX]\n",
        "        }\n",
        "        ).rename('GREEN')\n",
        "  bands[GREEN_BAND_INDEX] = green\n",
        "\n",
        "\n",
        "  return ee.Image(ee.Image(bands).copyProperties(img, img.propertyNames()))\n",
        "\n",
        "image = applyScaleAndOffset(imagen)"
      ],
      "metadata": {
        "colab": {
          "base_uri": "https://localhost:8080/",
          "height": 17
        },
        "id": "9PSY0UFgHYif",
        "outputId": "5360f051-cdcb-46d7-abef-36b16fee5eb1"
      },
      "execution_count": null,
      "outputs": [
        {
          "output_type": "display_data",
          "data": {
            "text/plain": [
              "<IPython.core.display.HTML object>"
            ],
            "text/html": [
              "\n",
              "            <style>\n",
              "                .geemap-dark {\n",
              "                    --jp-widgets-color: white;\n",
              "                    --jp-widgets-label-color: white;\n",
              "                    --jp-ui-font-color1: white;\n",
              "                    --jp-layout-color2: #454545;\n",
              "                    background-color: #383838;\n",
              "                }\n",
              "                    \n",
              "                .geemap-dark .jupyter-button {\n",
              "                    --jp-layout-color3: #383838;\n",
              "                }\n",
              "                \n",
              "                .geemap-colab {\n",
              "                    background-color: var(--colab-primary-surface-color, white);\n",
              "                }\n",
              "                    \n",
              "                .geemap-colab .jupyter-button {\n",
              "                    --jp-layout-color3: var(--colab-primary-surface-color, white);\n",
              "                }\n",
              "            </style>\n",
              "            "
            ]
          },
          "metadata": {}
        }
      ]
    },
    {
      "cell_type": "markdown",
      "source": [
        "### **Generando el mapa**"
      ],
      "metadata": {
        "id": "0GeQGWuaUSn1"
      }
    },
    {
      "cell_type": "markdown",
      "source": [
        "Ahora, para generar el mapa interactivo, debemos introducir las coordenadas en las que queremos que esté centrado, donde tambíen necesitamos coordenadas *long-lat*."
      ],
      "metadata": {
        "id": "x_HaBePHUWl4"
      }
    },
    {
      "cell_type": "code",
      "source": [
        "# Creamos el mapa\n",
        "map1 = geemap.Map()\n",
        "# Configuramos dónde estará centrado\n",
        "map1.set_center(lng, lat, 8) #long, lat, zoom"
      ],
      "metadata": {
        "colab": {
          "base_uri": "https://localhost:8080/",
          "height": 17
        },
        "id": "5yo-pj8GB8DN",
        "outputId": "efafe088-67fd-4c78-ab21-6bc61ad36433"
      },
      "execution_count": null,
      "outputs": [
        {
          "output_type": "display_data",
          "data": {
            "text/plain": [
              "<IPython.core.display.HTML object>"
            ],
            "text/html": [
              "\n",
              "            <style>\n",
              "                .geemap-dark {\n",
              "                    --jp-widgets-color: white;\n",
              "                    --jp-widgets-label-color: white;\n",
              "                    --jp-ui-font-color1: white;\n",
              "                    --jp-layout-color2: #454545;\n",
              "                    background-color: #383838;\n",
              "                }\n",
              "                    \n",
              "                .geemap-dark .jupyter-button {\n",
              "                    --jp-layout-color3: #383838;\n",
              "                }\n",
              "                \n",
              "                .geemap-colab {\n",
              "                    background-color: var(--colab-primary-surface-color, white);\n",
              "                }\n",
              "                    \n",
              "                .geemap-colab .jupyter-button {\n",
              "                    --jp-layout-color3: var(--colab-primary-surface-color, white);\n",
              "                }\n",
              "            </style>\n",
              "            "
            ]
          },
          "metadata": {}
        }
      ]
    },
    {
      "cell_type": "markdown",
      "source": [
        "Ahora debemos mandar llamar la imagen que importamos para que también se vea en el mapa.\n",
        "\n",
        "Antes de esto, debemos delimitar las bandas (y su rango dinámico) que queremos importar en el mapa para poder verlas, en este caso serán las bandas RGB y les asignamos un rango arbitrario.\n",
        "\\\n",
        "\\\n",
        "GOES es un caso particular porque no existe una banda *verde* como tal , por lo que debemos simularla con BLUE, RED y NIR. [[1](https://doi.org/10.1029/2018EA000379)]"
      ],
      "metadata": {
        "id": "YzC8JV0sMqJt"
      }
    },
    {
      "cell_type": "code",
      "source": [
        "# Defino las bandas correspondientes a RGB para tener una imagen \"true color\"\n",
        "BLUE = 'CMI_C01'\n",
        "RED  = 'CMI_C02'\n",
        "NIR  = 'CMI_C03'\n",
        "GREEN = 'GREEN'\n",
        "\n",
        "\n",
        "# Para conseguir true-color, se tiene que acomodar en el orden R,G,B\n",
        "rgb_params = {\n",
        "    'bands': [RED, GREEN, BLUE],\n",
        "    'min': 0,\n",
        "    'max': 0.6,\n",
        "    'gamma' : 1.3,\n",
        "}\n",
        "\n",
        "# Los parámetros 'min' y 'max' filtran los valores que puede tomar\n",
        "# cada subpixel en la imagen respecto a un máximo (gamma)"
      ],
      "metadata": {
        "id": "sQTkddMVo1yV",
        "colab": {
          "base_uri": "https://localhost:8080/",
          "height": 17
        },
        "outputId": "98d382f6-9c0e-4f48-e9c0-6a5ac77f74aa"
      },
      "execution_count": null,
      "outputs": [
        {
          "output_type": "display_data",
          "data": {
            "text/plain": [
              "<IPython.core.display.HTML object>"
            ],
            "text/html": [
              "\n",
              "            <style>\n",
              "                .geemap-dark {\n",
              "                    --jp-widgets-color: white;\n",
              "                    --jp-widgets-label-color: white;\n",
              "                    --jp-ui-font-color1: white;\n",
              "                    --jp-layout-color2: #454545;\n",
              "                    background-color: #383838;\n",
              "                }\n",
              "                    \n",
              "                .geemap-dark .jupyter-button {\n",
              "                    --jp-layout-color3: #383838;\n",
              "                }\n",
              "                \n",
              "                .geemap-colab {\n",
              "                    background-color: var(--colab-primary-surface-color, white);\n",
              "                }\n",
              "                    \n",
              "                .geemap-colab .jupyter-button {\n",
              "                    --jp-layout-color3: var(--colab-primary-surface-color, white);\n",
              "                }\n",
              "            </style>\n",
              "            "
            ]
          },
          "metadata": {}
        }
      ]
    },
    {
      "cell_type": "markdown",
      "source": [
        "Finalmente, añadimos al mapa la imagen con los parámetros que acabamos de definir y lo mandamos llamar:"
      ],
      "metadata": {
        "id": "oCL0sdskS7yC"
      }
    },
    {
      "cell_type": "code",
      "source": [
        "shapef = ee.FeatureCollection(\"FAO/GAUL/2015/level1\")\n",
        "shapef = shapef.style(\n",
        "    color = 'white',\n",
        "    width = 1.5,\n",
        "    fillColor = 'ff475700'  # with alpha set for partial transparency\n",
        ")"
      ],
      "metadata": {
        "colab": {
          "base_uri": "https://localhost:8080/",
          "height": 17
        },
        "id": "0eX9DQfMtd-H",
        "outputId": "d62a68f9-7dc0-4329-f8aa-a786c9137dde"
      },
      "execution_count": null,
      "outputs": [
        {
          "output_type": "display_data",
          "data": {
            "text/plain": [
              "<IPython.core.display.HTML object>"
            ],
            "text/html": [
              "\n",
              "            <style>\n",
              "                .geemap-dark {\n",
              "                    --jp-widgets-color: white;\n",
              "                    --jp-widgets-label-color: white;\n",
              "                    --jp-ui-font-color1: white;\n",
              "                    --jp-layout-color2: #454545;\n",
              "                    background-color: #383838;\n",
              "                }\n",
              "                    \n",
              "                .geemap-dark .jupyter-button {\n",
              "                    --jp-layout-color3: #383838;\n",
              "                }\n",
              "                \n",
              "                .geemap-colab {\n",
              "                    background-color: var(--colab-primary-surface-color, white);\n",
              "                }\n",
              "                    \n",
              "                .geemap-colab .jupyter-button {\n",
              "                    --jp-layout-color3: var(--colab-primary-surface-color, white);\n",
              "                }\n",
              "            </style>\n",
              "            "
            ]
          },
          "metadata": {}
        }
      ]
    },
    {
      "cell_type": "code",
      "source": [
        "# Añade la capa con la imagen RGB (se puede cambiar la opacidad desde el mapa)\n",
        "map1.add_layer(image, rgb_params, 'Imagen RGB')\n",
        "map1.addLayer(shapef, None, 'Outline')\n",
        "# Manda llamar plotear el mapa\n",
        "map1"
      ],
      "metadata": {
        "id": "zIk3CblR86qM",
        "colab": {
          "base_uri": "https://localhost:8080/",
          "height": 621,
          "referenced_widgets": [
            "011d0c410ec6409fb08d0de95c36dee8",
            "9c1bc9f234644165967dfc418496baf7",
            "291b400d985546089fd11c52434ac115",
            "21dfbead135d40a6ad3e9a34dc5675b7",
            "5ec9b6a93f704b95a7fbb039c81598b9",
            "a12353b178764105b162d5d6ea5da1d6",
            "e33a02564a7a41d8b22eba31bd3ebf8a",
            "1e9f47fc95704f4fb5b92047816649ad",
            "916ee9a15a2c49b3afd4bd1268e788e5",
            "773cba482f4c48dcbb5031ac247afb5f",
            "bb59497555ad44dab170d4a13afc39f7",
            "2548cfbd32564482ba43b973673c120b",
            "3661240d87cf4a669dd398fc3a28707a",
            "e39cc054e20f4414a58d3a72f529913b",
            "59347d07081248e99bd9b44b8ec1cc56",
            "d9fca917ac674446b248419db1063f9f",
            "5f4858f9224d4907b20676b1d7182710",
            "15d7de4c7f4b4164b018b8fd40565b2e",
            "a981be42f454418a8c683bb7d29e0b44",
            "0c617ce9ca4f400cb4428db09add7354",
            "f882857d07b24f32b13a1488d78ba011",
            "dc4c72d34a63443c9fc26ecafce8e0fe",
            "157269df01b6433890b1b4af127e999c",
            "4f4c27cb95364e9f85c5f80d4a00a1a5",
            "f0bb9a9a09c241a082571b477afbcf88",
            "c5736667aa874ee599abc58f8cb579e6",
            "55b0b97193bf4d398e8e6f9643d61655"
          ]
        },
        "outputId": "57f4aed1-d6f1-4df3-f7c4-31a4eb9f1a0d"
      },
      "execution_count": null,
      "outputs": [
        {
          "output_type": "display_data",
          "data": {
            "text/plain": [
              "<IPython.core.display.HTML object>"
            ],
            "text/html": [
              "\n",
              "            <style>\n",
              "                .geemap-dark {\n",
              "                    --jp-widgets-color: white;\n",
              "                    --jp-widgets-label-color: white;\n",
              "                    --jp-ui-font-color1: white;\n",
              "                    --jp-layout-color2: #454545;\n",
              "                    background-color: #383838;\n",
              "                }\n",
              "                    \n",
              "                .geemap-dark .jupyter-button {\n",
              "                    --jp-layout-color3: #383838;\n",
              "                }\n",
              "                \n",
              "                .geemap-colab {\n",
              "                    background-color: var(--colab-primary-surface-color, white);\n",
              "                }\n",
              "                    \n",
              "                .geemap-colab .jupyter-button {\n",
              "                    --jp-layout-color3: var(--colab-primary-surface-color, white);\n",
              "                }\n",
              "            </style>\n",
              "            "
            ]
          },
          "metadata": {}
        },
        {
          "output_type": "display_data",
          "data": {
            "text/plain": [
              "Map(bottom=29540.0, center=[19.022685, -98.623038], controls=(WidgetControl(options=['position', 'transparent_…"
            ],
            "application/vnd.jupyter.widget-view+json": {
              "version_major": 2,
              "version_minor": 0,
              "model_id": "011d0c410ec6409fb08d0de95c36dee8"
            }
          },
          "metadata": {
            "application/vnd.jupyter.widget-view+json": {
              "colab": {
                "custom_widget_manager": {
                  "url": "https://ssl.gstatic.com/colaboratory-static/widgets/colab-cdn-widget-manager/b3e629b1971e1542/manager.min.js"
                }
              }
            }
          }
        }
      ]
    },
    {
      "cell_type": "markdown",
      "source": [
        "---\n",
        "---\n",
        "## **Ash Cloud Algorithm**\n",
        "---\n",
        "---"
      ],
      "metadata": {
        "id": "qt_nkaO45bna"
      }
    },
    {
      "cell_type": "markdown",
      "source": [
        "### **Physics of the problem**"
      ],
      "metadata": {
        "id": "p7v_pqFz5ro5"
      }
    },
    {
      "cell_type": "markdown",
      "source": [
        "La detección de ceniza volcánica utiliza bandas en el IR con longitudes de onda de unos cuantos $\\mu m$. Las diferentes propiedades *microfísicas* de las partículas de ceniza nos ayudan a distinguirlas de otras partículas de agua/hielo/polvo en la atmósfera.\n",
        "\\\n",
        "\\\n",
        "Existen múltiples algoritmos que nos permiten detectar las nubes de ceniza volcánica, la misma NOAA nos provee de uno muy poderoso que se puede usar con el GOES-16, pero que ha mostrado requerir de un gran poder computacional debido a la complejidad de este.\n",
        "\\\n",
        "\\\n",
        "En este proyecto, exploraremos la calidad 3 algoritmos relativamente sencillos, en el que se usan 2, 3 y 5 bandas. Conforme más información tomamos del sistema, más seguros podemos estar de que lo que estamos observando es ceniza volcánica.\n",
        "\\\n",
        "\\\n",
        "Las bandas espectrales (y la λ en la que están centradas) del sensor ABI que utilizaremos son:\n",
        "\n",
        "\n",
        "* Banda 11 [CMI_C11] (8.5 μm)\n",
        "* Banda 13 [CMI_C13] (10.3 μm)\n",
        "* Banda 15 [CMI_C15] (12.3 μm)\n",
        "* Banda 16 [CMI_C16] (13.2 μm)\n",
        "\n",
        "El algoritmo consiste principalmente en calcular la diferencia entre temperaturas de brillo a diferentes longitudes de onda. Esta *brightness temperature* tiene unidades de $K$[Kelvin] y nos las dan las bandas en el infrarrojo, como las antes mencionadas."
      ],
      "metadata": {
        "id": "gWZu-nxR6eoW"
      }
    },
    {
      "cell_type": "markdown",
      "source": [
        "### **Método de las 2 bandas (Método 1)**"
      ],
      "metadata": {
        "id": "ljGi_icCD_0d"
      }
    },
    {
      "cell_type": "markdown",
      "source": [
        "El primer método propuesto para la detección de ceniza volcánica busca la *Brightness Temperature Difference* (BTD) entre las bandas con longitudes de onda ~10 y ~12 μm, correspondiento a las bandas 13 y 15 del sensor ABI.\n",
        "\\\n",
        "\\\n",
        "La condición que tiene que cumplir el pixel para que se considere que SÍ contine ceniza es:\n",
        "\n",
        "\\begin{align}\n",
        "  \\text{BT}(10) - \\text{BT}(12) < 0\\text{K}\n",
        "\\end{align}\n",
        "\n",
        "Es decir, esta diferencia es negativa cuando el pixel contiene ceniza, mientras que es positiva cuando este no tiene (la suficiente).\n",
        "\\\n",
        "\\\n",
        "Para poder filtrar bien la imagen y sólo ver los pixeles con ceniza, debemos poner esta conidición como una *máscara* en nuestra imagen.\n",
        "\\\n",
        "La condición es:"
      ],
      "metadata": {
        "id": "ryIrTs2qEE0a"
      }
    },
    {
      "cell_type": "code",
      "source": [
        "# La siguiente linea [a ? b : c] se lee \"if a then b, otherwise c\", donde:\n",
        "#   a := BT11 - BT12 < K\n",
        "#   b := 1\n",
        "#   c := 0\n",
        "# Aquí K depende depende de la humedad de la zona\n",
        "meth1mask = image.expression(\n",
        "    \"(BT10 - BT12 < 0) ? 1 \"\n",
        "    \": 0\", {\n",
        "        'BT10' : image.select('CMI_C13'),\n",
        "        'BT12' : image.select('CMI_C15')\n",
        "    }\n",
        ")\n",
        "\n",
        "# Esta ^ máscara le asigna valor 1 a los pixeles que nos interesan\n",
        "# y 0 a los que no cumplen la condición.\n",
        "\n",
        "\n",
        "# Para separar los pixeles que nos interesan en otra capa,\n",
        "# aplicamos .selfMask() a la máscara, es decir:\n",
        "\n",
        "imgmasked1 = meth1mask.selfMask()\n",
        "# Aquí los pixeles con vlaor 0 se vuelven transparentes"
      ],
      "metadata": {
        "colab": {
          "base_uri": "https://localhost:8080/",
          "height": 17
        },
        "id": "SkpF5yATRyRD",
        "outputId": "c826d84f-7f29-4d02-b2bb-85fad23cda7a"
      },
      "execution_count": null,
      "outputs": [
        {
          "output_type": "display_data",
          "data": {
            "text/plain": [
              "<IPython.core.display.HTML object>"
            ],
            "text/html": [
              "\n",
              "            <style>\n",
              "                .geemap-dark {\n",
              "                    --jp-widgets-color: white;\n",
              "                    --jp-widgets-label-color: white;\n",
              "                    --jp-ui-font-color1: white;\n",
              "                    --jp-layout-color2: #454545;\n",
              "                    background-color: #383838;\n",
              "                }\n",
              "                    \n",
              "                .geemap-dark .jupyter-button {\n",
              "                    --jp-layout-color3: #383838;\n",
              "                }\n",
              "                \n",
              "                .geemap-colab {\n",
              "                    background-color: var(--colab-primary-surface-color, white);\n",
              "                }\n",
              "                    \n",
              "                .geemap-colab .jupyter-button {\n",
              "                    --jp-layout-color3: var(--colab-primary-surface-color, white);\n",
              "                }\n",
              "            </style>\n",
              "            "
            ]
          },
          "metadata": {}
        }
      ]
    },
    {
      "cell_type": "markdown",
      "source": [
        "Ya que tenemos nuestra máscara, debemos aplicarla a nuestro mapa, para que los pixeles que cumplen la condición, se muestren."
      ],
      "metadata": {
        "id": "7u5kV_wO34Aw"
      }
    },
    {
      "cell_type": "code",
      "source": [
        "# Creamos el mapa con una capa true color de fondo\n",
        "map2 = geemap.Map()\n",
        "map2.set_center(lng, lat, 8)\n",
        "map2.addLayer(image, rgb_params, 'Imagen RGB')\n",
        "\n",
        "# Añadimos la capa con la mascara y la resaltamos de rojo\n",
        "palette = ['red']\n",
        "map2.addLayer(imgmasked1, {'palette': palette}, 'Masked image Meth1')\n",
        "map2.addLayer(shapef, None, 'Outline')\n",
        "map2"
      ],
      "metadata": {
        "id": "NTM7wqp14FwQ",
        "colab": {
          "base_uri": "https://localhost:8080/",
          "height": 621,
          "referenced_widgets": [
            "f80cf98b64554e3197bf89cfd98a7e82",
            "b711c836f6f94d43ba0d0342536a8c37",
            "32a7a4e576db48188d88b4a95d3aac70",
            "e5be67a2f2f74b3aa8dab706d5c607ca",
            "731808d800ea48c6ad30c8fcf853a50c",
            "514b7d444760473cbd9c56a89fa98979",
            "98048a352ad442148c6f273db05a9147",
            "fddec47d68c244d1ac9977b6064e9f94",
            "c757ccdb94aa48a888696aa544968fba",
            "380172ff51d14422b833216ad26b4bfa",
            "19b96764f5404369b743748576b444df",
            "47ec217859fc407a90ec2954422a9128",
            "0c9d0363c86e44c38860f9d7297bd313",
            "d863e1477d1f48458e0efbcddf795f35",
            "86e73000ecb9451cbb6cf991a8cee228",
            "99c0dfe45efb4d31a818ed26959c23bd",
            "3b2b70518b25417fb25607cf1b59011d",
            "8544f10dc73b42e8a90d73e795755ccd",
            "92d81d749ddf4611a99fbd7286da12e6",
            "c8295516a27a4faabda482520920f8ec",
            "051f614666db4468b58a2b5807a53d03",
            "1c3d593e744942899a489e47a53d7d8c",
            "e0c905fc8610498a888f36476f956fd4",
            "14c80d457cae4287a162e4c5b9199afe",
            "b572bb8dcb544abeb462cbb4e5b1e81c",
            "8eb42027d98c4328b4c4d2288ddab5b5",
            "7b30ebe46de144858fd60d3521aedbb8"
          ]
        },
        "outputId": "ddda4e57-50cf-4154-dd21-45e695a77379"
      },
      "execution_count": null,
      "outputs": [
        {
          "output_type": "display_data",
          "data": {
            "text/plain": [
              "<IPython.core.display.HTML object>"
            ],
            "text/html": [
              "\n",
              "            <style>\n",
              "                .geemap-dark {\n",
              "                    --jp-widgets-color: white;\n",
              "                    --jp-widgets-label-color: white;\n",
              "                    --jp-ui-font-color1: white;\n",
              "                    --jp-layout-color2: #454545;\n",
              "                    background-color: #383838;\n",
              "                }\n",
              "                    \n",
              "                .geemap-dark .jupyter-button {\n",
              "                    --jp-layout-color3: #383838;\n",
              "                }\n",
              "                \n",
              "                .geemap-colab {\n",
              "                    background-color: var(--colab-primary-surface-color, white);\n",
              "                }\n",
              "                    \n",
              "                .geemap-colab .jupyter-button {\n",
              "                    --jp-layout-color3: var(--colab-primary-surface-color, white);\n",
              "                }\n",
              "            </style>\n",
              "            "
            ]
          },
          "metadata": {}
        },
        {
          "output_type": "display_data",
          "data": {
            "text/plain": [
              "Map(center=[19.022685, -98.623038], controls=(WidgetControl(options=['position', 'transparent_bg'], widget=Sea…"
            ],
            "application/vnd.jupyter.widget-view+json": {
              "version_major": 2,
              "version_minor": 0,
              "model_id": "f80cf98b64554e3197bf89cfd98a7e82"
            }
          },
          "metadata": {
            "application/vnd.jupyter.widget-view+json": {
              "colab": {
                "custom_widget_manager": {
                  "url": "https://ssl.gstatic.com/colaboratory-static/widgets/colab-cdn-widget-manager/b3e629b1971e1542/manager.min.js"
                }
              }
            }
          }
        }
      ]
    },
    {
      "cell_type": "markdown",
      "source": [
        "### **Método de las 3 bandas (Método 2)**"
      ],
      "metadata": {
        "id": "89vFbeRXMiOa"
      }
    },
    {
      "cell_type": "markdown",
      "source": [
        "El Método 1 tiene limitaciones, existen la sobre-estimaciones y las sub-estimaciones. Dentro de las sub-estimaciones, en el caso de regiones tropicales (lat = $\\pm 20°$) como en donde se encuentra el Popocatépetl, la columna de vapor de agua encima o debajo de la nube de ceniza desplaza la BTD hacia los positivos; en los climas fríos también pueden generar sub-estimaciones, desplazando la diferencia BTD a los positivos. La sobreestimación ocurre en zonas áridas y cuando hay muchas presencia de minerales en el aire. En nuestro caso, se debe a una posible sub-estimación, por lo que debe contemplar que hay pixeles que no están.\n",
        "\n",
        "\\\n",
        "\n",
        "Entonces, el siguiente paso para optimizar el código es considerar una tercera banda espectrar, que remueve los *artifacts*, i.e. pixeles con detección falso-positivo o falso-negativo. Esto se consigue con la BTD entre las longitudes de $11\\mu m$ y $8.5 \\mu m$, en donde los pixeles, no sólo deben cumplir la condición del Método 1 si no que, también deben cumplir la condición:\n",
        "\n",
        "\\begin{align}\n",
        "  \\text{BT}(8.5) - \\text{BT}(11) > 0\\text{K}\n",
        "\\end{align}\n",
        "\n",
        "Por lo que nuestra máscara se ve como:"
      ],
      "metadata": {
        "id": "taFqZHudMs6H"
      }
    },
    {
      "cell_type": "code",
      "source": [
        "# Siguiendo la condición anterior la expresión queda como:\n",
        "meth2mask = image.expression(\n",
        "    \"((BT10-BT12 < 0) && (BT85-BT10 > 0)) ? 1 \"\n",
        "    \": 0\", {\n",
        "        'BT85' : image.select('CMI_C11'),\n",
        "        'BT10' : image.select('CMI_C13'),\n",
        "        'BT12' : image.select('CMI_C15')\n",
        "    }\n",
        ")\n",
        "\n",
        "\n",
        "# Volvemos a aplicar la .selfMask() a la nueva máscara\n",
        "# para separar los pixeles que cumplen la condición.\n",
        "\n",
        "imgmasked2 = meth2mask.selfMask()"
      ],
      "metadata": {
        "colab": {
          "base_uri": "https://localhost:8080/",
          "height": 17
        },
        "id": "HKYWtt5cPDTe",
        "outputId": "c7a3751c-5122-4d3b-e507-ddaf8e4e4d30"
      },
      "execution_count": null,
      "outputs": [
        {
          "output_type": "display_data",
          "data": {
            "text/plain": [
              "<IPython.core.display.HTML object>"
            ],
            "text/html": [
              "\n",
              "            <style>\n",
              "                .geemap-dark {\n",
              "                    --jp-widgets-color: white;\n",
              "                    --jp-widgets-label-color: white;\n",
              "                    --jp-ui-font-color1: white;\n",
              "                    --jp-layout-color2: #454545;\n",
              "                    background-color: #383838;\n",
              "                }\n",
              "                    \n",
              "                .geemap-dark .jupyter-button {\n",
              "                    --jp-layout-color3: #383838;\n",
              "                }\n",
              "                \n",
              "                .geemap-colab {\n",
              "                    background-color: var(--colab-primary-surface-color, white);\n",
              "                }\n",
              "                    \n",
              "                .geemap-colab .jupyter-button {\n",
              "                    --jp-layout-color3: var(--colab-primary-surface-color, white);\n",
              "                }\n",
              "            </style>\n",
              "            "
            ]
          },
          "metadata": {}
        }
      ]
    },
    {
      "cell_type": "markdown",
      "source": [
        "Ahora creamos un nuevo mapa con esta nueva máscara"
      ],
      "metadata": {
        "id": "dutigymHQca2"
      }
    },
    {
      "cell_type": "code",
      "source": [
        "# Creamos el mapa con una capa true color de fondo\n",
        "map3 = geemap.Map()\n",
        "map3.set_center(lng, lat, 8)\n",
        "map3.addLayer(image, rgb_params, 'Imagen RGB')\n",
        "\n",
        "# Añadimos la capa con la mask\n",
        "palette = ['red']\n",
        "map3.addLayer(imgmasked2, {'palette': palette}, 'Selfmask Meth2')\n",
        "map3.addLayer(shapef, None, 'Outline')\n",
        "\n",
        "map3"
      ],
      "metadata": {
        "id": "PHidSIujQid_",
        "colab": {
          "base_uri": "https://localhost:8080/",
          "height": 621,
          "referenced_widgets": [
            "2a3ffa8ffba9459daa245c8af0f96311",
            "ef6d1e57bc8f40f5a6427c0f1576f705",
            "da3f427214f54dc2bcbc70c2e5cdc767",
            "69a60a9552184d96b627861a2143edea",
            "cc01ab4667a24c01882234e5facf8fe3",
            "37879cac7d184db8a97a790535bebbb2",
            "ee38aa1c5d76400a8a4fdddff0053a4f",
            "71e426c478cc43f3b4781f2c76bd33c7",
            "4a03eb55aacc450b853de65675f8e239",
            "d2f6df9f348441149b666889e6bdfcf6",
            "b5ae82c4fc07472d80d8573d5ed5c56c",
            "409ccf673d6c45739a821b7b9353e26d",
            "0e810d4baba14c0e88ac626e087a25d9",
            "1d0ef1ffd9024b58a84ceeace0390a53",
            "a55ac940c4fe4bc9b7c27f2e46c91985",
            "439464a1633d49549cde135abc1ab992",
            "3b8de0e7329b423d877765113f736393",
            "5f35db6b541140649dc13be66d9b74cc",
            "9ef21e7ed24d496b88b3fad4a0ce8bca",
            "cf2bbc9e9c0e40b9a00b026baa438fcd",
            "6e7a48bf85cb430db1ed5efc94765816",
            "6460145850314133a2bcc5c2542d3584",
            "196831f5219e45fb999add2fc6b40ad8",
            "dc77803fa2084b819c8921dd3a68e02f",
            "77e0a136170c4e07bfff0ff8a83d0446",
            "83a7bb4afe9e44f9889c97640d2db0df",
            "1f6fa50fc3be4e51a796071e6b3be0ed"
          ]
        },
        "outputId": "3f0ca197-33a7-4765-8859-ee19faba36e4"
      },
      "execution_count": null,
      "outputs": [
        {
          "output_type": "display_data",
          "data": {
            "text/plain": [
              "<IPython.core.display.HTML object>"
            ],
            "text/html": [
              "\n",
              "            <style>\n",
              "                .geemap-dark {\n",
              "                    --jp-widgets-color: white;\n",
              "                    --jp-widgets-label-color: white;\n",
              "                    --jp-ui-font-color1: white;\n",
              "                    --jp-layout-color2: #454545;\n",
              "                    background-color: #383838;\n",
              "                }\n",
              "                    \n",
              "                .geemap-dark .jupyter-button {\n",
              "                    --jp-layout-color3: #383838;\n",
              "                }\n",
              "                \n",
              "                .geemap-colab {\n",
              "                    background-color: var(--colab-primary-surface-color, white);\n",
              "                }\n",
              "                    \n",
              "                .geemap-colab .jupyter-button {\n",
              "                    --jp-layout-color3: var(--colab-primary-surface-color, white);\n",
              "                }\n",
              "            </style>\n",
              "            "
            ]
          },
          "metadata": {}
        },
        {
          "output_type": "display_data",
          "data": {
            "text/plain": [
              "Map(center=[19.022685, -98.623038], controls=(WidgetControl(options=['position', 'transparent_bg'], widget=Sea…"
            ],
            "application/vnd.jupyter.widget-view+json": {
              "version_major": 2,
              "version_minor": 0,
              "model_id": "2a3ffa8ffba9459daa245c8af0f96311"
            }
          },
          "metadata": {
            "application/vnd.jupyter.widget-view+json": {
              "colab": {
                "custom_widget_manager": {
                  "url": "https://ssl.gstatic.com/colaboratory-static/widgets/colab-cdn-widget-manager/b3e629b1971e1542/manager.min.js"
                }
              }
            }
          }
        }
      ]
    },
    {
      "cell_type": "markdown",
      "source": [
        "#### **Reduce Neighborhood**"
      ],
      "metadata": {
        "id": "EKpu7y9tNsZQ"
      }
    },
    {
      "cell_type": "markdown",
      "source": [
        "Para mejorar el algoritmo, aplicamos condiciones más tenues en la frontera de la nube. Para esto, es necesario utilizar la función [*ee.Image.reduceNeighborhood*](https://developers.google.com/earth-engine/apidocs/ee-image-reduceneighborhood) en donde podemos aplicar una función (reducer) a una región (kernel) que rodea un pixel.\n",
        "\n",
        "\\\n",
        "\n",
        "* El reducer que utilizaremos se llama [*ee.Reducer.anyNonZero*](https://developers.google.com/earth-engine/apidocs/ee-reducer-anynonzero) y nos arroja el valor 1 cuando cualquier pixel dentro del kernel es no-nulo.\n",
        "\n",
        "* El kernel que usaremos es [*ee.Kernel.square*](https://developers.google.com/earth-engine/apidocs/ee-kernel-square) y considera una zona con $r$ pixeles/metros de radio sobre un pixel, en nuestro caso queremos un radio de 1pixel/2Kmetros\n",
        "\n",
        "\n",
        "Una vez tenemos la nueva región extendida, aplicamos *.updateMask()* a la imagen original para sólo aplicar las condiciones tenues a los nuevos pixels"
      ],
      "metadata": {
        "id": "IgPLGFMKfl9v"
      }
    },
    {
      "cell_type": "code",
      "source": [
        "# Aplicamos .reduceNeighborhood() para conseguir la máscara extendida en 1 pixel\n",
        "mask2_ext1 = meth2mask.reduceNeighborhood(\n",
        "            reducer = ee.Reducer.anyNonZero(),\n",
        "            kernel = ee.Kernel.square(4000, units='meters') # 1pixel = 2000meters\n",
        ") # Con meters funciona mejor que con pixels ¿why?\n",
        "\n",
        "# Me recorta la imagen con un pixel más que la mascara2\n",
        "imgmask2_ext1 = image.updateMask(mask2_ext1)"
      ],
      "metadata": {
        "colab": {
          "base_uri": "https://localhost:8080/",
          "height": 17
        },
        "id": "ysowR5s2hbaa",
        "outputId": "0cd2465a-689a-4f2b-fca6-dabd02706cfb"
      },
      "execution_count": null,
      "outputs": [
        {
          "output_type": "display_data",
          "data": {
            "text/plain": [
              "<IPython.core.display.HTML object>"
            ],
            "text/html": [
              "\n",
              "            <style>\n",
              "                .geemap-dark {\n",
              "                    --jp-widgets-color: white;\n",
              "                    --jp-widgets-label-color: white;\n",
              "                    --jp-ui-font-color1: white;\n",
              "                    --jp-layout-color2: #454545;\n",
              "                    background-color: #383838;\n",
              "                }\n",
              "                    \n",
              "                .geemap-dark .jupyter-button {\n",
              "                    --jp-layout-color3: #383838;\n",
              "                }\n",
              "                \n",
              "                .geemap-colab {\n",
              "                    background-color: var(--colab-primary-surface-color, white);\n",
              "                }\n",
              "                    \n",
              "                .geemap-colab .jupyter-button {\n",
              "                    --jp-layout-color3: var(--colab-primary-surface-color, white);\n",
              "                }\n",
              "            </style>\n",
              "            "
            ]
          },
          "metadata": {}
        }
      ]
    },
    {
      "cell_type": "markdown",
      "source": [
        "Ahora, aplicamos condiciones más tenues a todos los pixels de la nueva máscara (los que pasaron la primera prueba, cumplen esta). Podemos diferenciarlos de los otros al aplicar condiciones del tipo:\n",
        "\n",
        "\\begin{align*}\n",
        "\\text{Cond_antigua} < \\text{BTD} < \\text{Cond_nueva}\n",
        "\\end{align*}"
      ],
      "metadata": {
        "id": "I-nxkEzTiEPb"
      }
    },
    {
      "cell_type": "code",
      "source": [
        "# Aplica condiciones más tenues sólo a la nueva imagen recortada\n",
        "meth2mask_ext1 = imgmask2_ext1.expression(\n",
        "    \"((BT10-BT12 < 0) && (BT85-BT11 > 0)) ? 1 \" # Primeras condiciones\n",
        "    \": ((0 < BT10-BT12 < 1) && (0 > BT85-BT11 > -1)) ? 2 \" # Cond tenues\n",
        "    \": 0\", {\n",
        "        'BT85' : imgmask2_ext1.select('CMI_C11'),\n",
        "        'BT10' : imgmask2_ext1.select('CMI_C13'),\n",
        "        'BT11' : imgmask2_ext1.select('CMI_C14'),\n",
        "        'BT12' : imgmask2_ext1.select('CMI_C15')\n",
        "    }\n",
        ")\n",
        "\n",
        "# Esta máscara le dará un valor diferente a cada caso\n",
        "# 1 p/ condiciones estrictas\n",
        "# 2 p/ condiciones tenues\n",
        "\n",
        "\n",
        "# Aplicamos .selfMask() a la máscara para extraer la máscara\n",
        "imgmasked2_ext1 = meth2mask_ext1.selfMask()"
      ],
      "metadata": {
        "colab": {
          "base_uri": "https://localhost:8080/",
          "height": 17
        },
        "id": "m2N_LQfHi4q3",
        "outputId": "ffe392e9-1980-430c-af36-48feb6adfcc0"
      },
      "execution_count": null,
      "outputs": [
        {
          "output_type": "display_data",
          "data": {
            "text/plain": [
              "<IPython.core.display.HTML object>"
            ],
            "text/html": [
              "\n",
              "            <style>\n",
              "                .geemap-dark {\n",
              "                    --jp-widgets-color: white;\n",
              "                    --jp-widgets-label-color: white;\n",
              "                    --jp-ui-font-color1: white;\n",
              "                    --jp-layout-color2: #454545;\n",
              "                    background-color: #383838;\n",
              "                }\n",
              "                    \n",
              "                .geemap-dark .jupyter-button {\n",
              "                    --jp-layout-color3: #383838;\n",
              "                }\n",
              "                \n",
              "                .geemap-colab {\n",
              "                    background-color: var(--colab-primary-surface-color, white);\n",
              "                }\n",
              "                    \n",
              "                .geemap-colab .jupyter-button {\n",
              "                    --jp-layout-color3: var(--colab-primary-surface-color, white);\n",
              "                }\n",
              "            </style>\n",
              "            "
            ]
          },
          "metadata": {}
        }
      ]
    },
    {
      "cell_type": "markdown",
      "source": [
        "Finalmete, podemos hacer el mapa con todas las capas que nos importan para corroborar que funciona el code\n",
        "\n",
        "Nota: Quitar la RGB si se quiere ver el contorno de la selfmask del método 2 estricto"
      ],
      "metadata": {
        "id": "uThLL3fUmyp1"
      }
    },
    {
      "cell_type": "code",
      "source": [
        "# Creamos el mapa con una capa true color de fondo\n",
        "map5 = geemap.Map()\n",
        "map5.set_center(lng, lat, 8)\n",
        "map5.addLayer(image, rgb_params, 'Imagen RGB')\n",
        "map5.addLayer(imgmask2_ext1, rgb_params, 'Image Mask') # nuevos pixels (original+contorno)\n",
        "\n",
        "# Añadimos la capa con la mask\n",
        "palette = ['red'] # paleta Maks2\n",
        "palette2 = ['black', 'red', 'orange'] #paleta Mask2 extendida\n",
        "map5.addLayer(imgmasked2, {'palette': palette}, 'Selfmask Meth2') # Mask2 estricta\n",
        "map5.addLayer(imgmasked2_ext1, {'palette': palette2}, 'Selfmask Meth2 Extendida') # Mask2 extendida\n",
        "map5.addLayer(shapef, None, 'Outline')\n",
        "\n",
        "map5"
      ],
      "metadata": {
        "id": "o0RoVSJ0pbvA",
        "colab": {
          "base_uri": "https://localhost:8080/",
          "height": 621,
          "referenced_widgets": [
            "f75b1a1f47f24506b5c3297b39f678c9",
            "7b290237d4994d52ad738d91d41b8f48",
            "78bb5cff01434970a816773b090621c4",
            "597e916364c0486ca9167d1076a9faf5",
            "0afd73c5f90e49378f7989bc1deb07b5",
            "6c713fe3250b44f3b78381f9fd1ef0ed",
            "26f4186acd3844f2996e0705c234d02e",
            "c12620663db54e7baf33eab37972be03",
            "b69e62b9231f476da267c5b125722568",
            "effef2164a7a451bba0b7ad2630d89f4",
            "e23c69c30fc74f5081f9b12b7ea86bd8",
            "e9c12c3542c34ebd944d9dad4fca4064",
            "5e6c1e9b41e1401c9ec8d894a8e0ad6b",
            "6e66f4395a9143c0b5630df5201b0538",
            "ca5242cf2b0f46e29cdb99d724382417",
            "fe6372c5428d46c58b5776a76b4de471",
            "676d2233ceb045cfa209323e3dfcaacc",
            "ee1f963259c54795b8b38c092e905d63",
            "9e49766436da47fab8b3b8475ffc6d43",
            "f38adce94dac4d3ca28a82db870be63c",
            "64f66fded2b542c08d245bb9cde6b06c",
            "ada7ca5138894a94b11a60b1414d0cad",
            "207f4ee6ddce4b82b0de6d4f75f8b62b",
            "453024923cdd492ab73a74e590a3cbbd",
            "1916a4278f9443c5b28d5dc328b4138e",
            "bbc60adabd39497fbd65b80e020c6ad0",
            "f0313481433944c3be26d25af26f493a",
            "6d0ab9cd8ccb4a8a93dba1d7782ad736",
            "45fe21f18f1d44238f260ef5153c1618"
          ]
        },
        "outputId": "e90bc3e3-9a84-4e63-ac23-1372e7f20a76"
      },
      "execution_count": null,
      "outputs": [
        {
          "output_type": "display_data",
          "data": {
            "text/plain": [
              "<IPython.core.display.HTML object>"
            ],
            "text/html": [
              "\n",
              "            <style>\n",
              "                .geemap-dark {\n",
              "                    --jp-widgets-color: white;\n",
              "                    --jp-widgets-label-color: white;\n",
              "                    --jp-ui-font-color1: white;\n",
              "                    --jp-layout-color2: #454545;\n",
              "                    background-color: #383838;\n",
              "                }\n",
              "                    \n",
              "                .geemap-dark .jupyter-button {\n",
              "                    --jp-layout-color3: #383838;\n",
              "                }\n",
              "                \n",
              "                .geemap-colab {\n",
              "                    background-color: var(--colab-primary-surface-color, white);\n",
              "                }\n",
              "                    \n",
              "                .geemap-colab .jupyter-button {\n",
              "                    --jp-layout-color3: var(--colab-primary-surface-color, white);\n",
              "                }\n",
              "            </style>\n",
              "            "
            ]
          },
          "metadata": {}
        },
        {
          "output_type": "display_data",
          "data": {
            "text/plain": [
              "Map(center=[19.022685, -98.623038], controls=(WidgetControl(options=['position', 'transparent_bg'], widget=Sea…"
            ],
            "application/vnd.jupyter.widget-view+json": {
              "version_major": 2,
              "version_minor": 0,
              "model_id": "f75b1a1f47f24506b5c3297b39f678c9"
            }
          },
          "metadata": {
            "application/vnd.jupyter.widget-view+json": {
              "colab": {
                "custom_widget_manager": {
                  "url": "https://ssl.gstatic.com/colaboratory-static/widgets/colab-cdn-widget-manager/b3e629b1971e1542/manager.min.js"
                }
              }
            }
          }
        }
      ]
    },
    {
      "cell_type": "markdown",
      "source": [],
      "metadata": {
        "id": "3QpjMT4B73tM"
      }
    },
    {
      "cell_type": "markdown",
      "source": [
        "### **RGB modificado**"
      ],
      "metadata": {
        "id": "TBa8GmG-oNty"
      }
    },
    {
      "cell_type": "markdown",
      "source": [
        "Considerando las secciones anteriores, podemos construir una nueva imagen RGB que nos permita ver mejor la nube de ceniza. Podemos ayudarnos de la documentación que nos ofrece GOES en el archivo [Ash RGB](https://rammb2.cira.colostate.edu/wp-content/uploads/2020/01/GOES_Ash_RGB-1.pdf) en la que modifica las bandas que le damos como imput a la imagen para resaltar la nube de ceniza\n",
        "\n",
        "\\\n",
        "\n",
        "Considera algunas de las bandas espectrales que utilizamos en este análisis, tomando:\n",
        "\n",
        "\\begin{align*}\n",
        "\\text{NRED} &= \\text{BT12.3}-\\text{BT10.3} \\\\\n",
        "\\text{RGREEN} &= \\text{BT11.2}-\\text{BT8.4} \\\\\n",
        "\\text{NBLUE} &= \\text{BT10.3}\n",
        "\\end{align*}\n",
        "\n",
        "Por lo que los pixeles que cumplan la condición del Método 1, resaltarán en roj. Las bandas NGREEN y NBLUE nos ayudaran a identificar el S02 y ciertas nubes.\n",
        "\n",
        "\\\n",
        "\n",
        "Entonces, al construir estas nuevas bandas, podemos aplicarlas a la nueva imagen como:"
      ],
      "metadata": {
        "id": "k3gTRGS7oRGq"
      }
    },
    {
      "cell_type": "code",
      "source": [
        "# Defino las bandas correspondientes a RGB para tener una imagen \"true color\"\n",
        "NRED = image.select('CMI_C15').subtract(image.select('CMI_C13')).rename('NRED')\n",
        "NGREEN  = image.select('CMI_C14').subtract(image.select('CMI_C11')).rename('NGREEN')\n",
        "NBLUE = image.select('CMI_C13').rename('NBLUE')\n",
        "new_bands = ee.Image([NRED, NGREEN, NBLUE])\n",
        "image = image.addBands(new_bands)\n",
        "\n",
        "\n",
        "# Para conseguir true-color, se tiene que acomodar en el orden R,G,B\n",
        "rgb_fake = {\n",
        "    'bands': ['NRED', 'NGREEN', 'NBLUE'],\n",
        "    'min': [-6.7, -6, 243.6],\n",
        "    'max': [2.6, 6.3, 302.4],\n",
        "    'gamma' : [1, 1, 1],\n",
        "}\n",
        "\n",
        "# Los parámetros 'min' y 'max' filtran los valores que puede tomar\n",
        "# cada subpixel en la imagen respecto a un máximo (gamma)"
      ],
      "metadata": {
        "colab": {
          "base_uri": "https://localhost:8080/",
          "height": 17
        },
        "id": "temx5Ir42xb5",
        "outputId": "22e3ba37-0ea6-484d-d713-5a09fac0ae3b"
      },
      "execution_count": null,
      "outputs": [
        {
          "output_type": "display_data",
          "data": {
            "text/plain": [
              "<IPython.core.display.HTML object>"
            ],
            "text/html": [
              "\n",
              "            <style>\n",
              "                .geemap-dark {\n",
              "                    --jp-widgets-color: white;\n",
              "                    --jp-widgets-label-color: white;\n",
              "                    --jp-ui-font-color1: white;\n",
              "                    --jp-layout-color2: #454545;\n",
              "                    background-color: #383838;\n",
              "                }\n",
              "                    \n",
              "                .geemap-dark .jupyter-button {\n",
              "                    --jp-layout-color3: #383838;\n",
              "                }\n",
              "                \n",
              "                .geemap-colab {\n",
              "                    background-color: var(--colab-primary-surface-color, white);\n",
              "                }\n",
              "                    \n",
              "                .geemap-colab .jupyter-button {\n",
              "                    --jp-layout-color3: var(--colab-primary-surface-color, white);\n",
              "                }\n",
              "            </style>\n",
              "            "
            ]
          },
          "metadata": {}
        }
      ]
    },
    {
      "cell_type": "markdown",
      "source": [
        "Construimos el mapa con la banda RGB *fake* y le ponemos la última máscara que construimos para poder comparar resultados"
      ],
      "metadata": {
        "id": "svbTnXzUAFYs"
      }
    },
    {
      "cell_type": "code",
      "source": [
        "# Creamos el mapa con una capa true color de fondo\n",
        "map6 = geemap.Map()\n",
        "map6.set_center(-98.623038, 19.022685, 8)\n",
        "map6.addLayer(image, rgb_params, 'Imagen RGB')\n",
        "map6.addLayer(image, rgb_fake, 'Imagen RGB fake')\n",
        "\n",
        "# Añadimos la capa con la mask\n",
        "palette = ['red']\n",
        "map6.addLayer(imgmasked2_ext1, {'palette': palette2}, 'Selfmask Meth2 Extendida') # Mask2 extendida\n",
        "map6.addLayer(shapef, None, 'Outline')\n",
        "\n",
        "map6"
      ],
      "metadata": {
        "colab": {
          "base_uri": "https://localhost:8080/",
          "height": 621,
          "referenced_widgets": [
            "8a7a867946824f5b8eadf957c24408a7",
            "5ad1ca7cab7f4ea59fa5db6a26302841",
            "363fb253df5848c0821042e6643023f2",
            "003f0f1d57594072ad2fdd96b6257e68",
            "9e1b212072194a1f963e6d8cc0457bd0",
            "6554e65877a14a1685b150873ee12123",
            "ae9b800da50143478b8b7b226db2975e",
            "74eaec7c3baf4fdebcadc054d59d1ed1",
            "d1e25d59c62b48bc92b6e9bdc6a09e4a",
            "95ce5395a45945059b532ea83790606a",
            "5b315813c0fc4bc1853931b2a3e9ad68",
            "2946393ec7d74307bf0bcd4bfee9a7b8",
            "00158a49078a42558940becb397704b0",
            "846d82088ada4e8298d8ad3d9415d315",
            "8a68223310704e9ea137db77f0162f84",
            "74484af5879946fb833868d8f08c0dd1",
            "c08874a80cfb4ad796d7534b0a0010bb",
            "32e53179dc6b4faa9861aa1bbb178eb7",
            "5ca86622b31c48409f0f61a6a6bf361b",
            "1c6c543681354a59987b0990c427a491",
            "fd5997e8d540477c8b83c8e15a023549",
            "e0ab713f53d340b892a9a92cb96de74d",
            "a574aa7ebf4a4ca8a3c955162614af40",
            "e3d96aa5b75946f8a03cd68e563dc667",
            "d81d3428cf64456aae3a1e37d697deba",
            "c10db57fab1c4610a51c88c860da9e98",
            "fc0b6f4279c54a6f8203d6f8c3ce1a0f",
            "cb0189c9ad394df2abc8bf747b34e024"
          ]
        },
        "id": "hA0vO4c-oq-4",
        "outputId": "3c1f7400-3ab5-40ca-d1db-e73c4436fa9d"
      },
      "execution_count": null,
      "outputs": [
        {
          "output_type": "display_data",
          "data": {
            "text/plain": [
              "<IPython.core.display.HTML object>"
            ],
            "text/html": [
              "\n",
              "            <style>\n",
              "                .geemap-dark {\n",
              "                    --jp-widgets-color: white;\n",
              "                    --jp-widgets-label-color: white;\n",
              "                    --jp-ui-font-color1: white;\n",
              "                    --jp-layout-color2: #454545;\n",
              "                    background-color: #383838;\n",
              "                }\n",
              "                    \n",
              "                .geemap-dark .jupyter-button {\n",
              "                    --jp-layout-color3: #383838;\n",
              "                }\n",
              "                \n",
              "                .geemap-colab {\n",
              "                    background-color: var(--colab-primary-surface-color, white);\n",
              "                }\n",
              "                    \n",
              "                .geemap-colab .jupyter-button {\n",
              "                    --jp-layout-color3: var(--colab-primary-surface-color, white);\n",
              "                }\n",
              "            </style>\n",
              "            "
            ]
          },
          "metadata": {}
        },
        {
          "output_type": "display_data",
          "data": {
            "text/plain": [
              "Map(center=[19.022685, -98.623038], controls=(WidgetControl(options=['position', 'transparent_bg'], widget=Sea…"
            ],
            "application/vnd.jupyter.widget-view+json": {
              "version_major": 2,
              "version_minor": 0,
              "model_id": "8a7a867946824f5b8eadf957c24408a7"
            }
          },
          "metadata": {
            "application/vnd.jupyter.widget-view+json": {
              "colab": {
                "custom_widget_manager": {
                  "url": "https://ssl.gstatic.com/colaboratory-static/widgets/colab-cdn-widget-manager/b3e629b1971e1542/manager.min.js"
                }
              }
            }
          }
        }
      ]
    },
    {
      "cell_type": "markdown",
      "source": [
        "---\n",
        "---\n",
        "## **Animación**\n",
        "---\n",
        "---"
      ],
      "metadata": {
        "id": "d1xTqIX7sFdM"
      }
    },
    {
      "cell_type": "markdown",
      "source": [
        "En esta sección aplicaremos el algoritmo a una colección de imágenes que abarcará aproximadamente 4hrs de tiempo real.\n",
        "\n",
        "\\\n",
        "\n",
        "Construimos nuestra colección como:"
      ],
      "metadata": {
        "id": "OPHiHzZ8sRFh"
      }
    },
    {
      "cell_type": "code",
      "source": [
        "# Filtramos la colección de GOES16 por fecha y hora\n",
        "img_col = image_collection.filterDate('2023-05-21T14:00:00', '2023-05-21T19:40:00')"
      ],
      "metadata": {
        "colab": {
          "base_uri": "https://localhost:8080/",
          "height": 17
        },
        "id": "zsR2eJg-m-pg",
        "outputId": "69392c0a-da35-45b4-b0b7-732bd1773f99"
      },
      "execution_count": null,
      "outputs": [
        {
          "output_type": "display_data",
          "data": {
            "text/plain": [
              "<IPython.core.display.HTML object>"
            ],
            "text/html": [
              "\n",
              "            <style>\n",
              "                .geemap-dark {\n",
              "                    --jp-widgets-color: white;\n",
              "                    --jp-widgets-label-color: white;\n",
              "                    --jp-ui-font-color1: white;\n",
              "                    --jp-layout-color2: #454545;\n",
              "                    background-color: #383838;\n",
              "                }\n",
              "                    \n",
              "                .geemap-dark .jupyter-button {\n",
              "                    --jp-layout-color3: #383838;\n",
              "                }\n",
              "                \n",
              "                .geemap-colab {\n",
              "                    background-color: var(--colab-primary-surface-color, white);\n",
              "                }\n",
              "                    \n",
              "                .geemap-colab .jupyter-button {\n",
              "                    --jp-layout-color3: var(--colab-primary-surface-color, white);\n",
              "                }\n",
              "            </style>\n",
              "            "
            ]
          },
          "metadata": {}
        }
      ]
    },
    {
      "cell_type": "markdown",
      "source": [
        "### **Funciones sobre una colección**"
      ],
      "metadata": {
        "id": "MOdQwrBur07y"
      }
    },
    {
      "cell_type": "markdown",
      "source": [
        "Para aplicar una función sobre todas las imágenes de la colección, debemos construirlas como funciones de Python del tipo:\n",
        "```\n",
        "def function(image):\n",
        "  new_img = image.algoritmo()\n",
        "  return new_img\n",
        "```\n",
        "Y para aplicarlas, usamos la función *ee.ImageCollection.map(function)*. La primera función (*applyScaleAndOffset*) ya la tenemos, que nos aplica correcciones de escalamiento y de offset.\n",
        "\n",
        "Por lo que:\n",
        "\n"
      ],
      "metadata": {
        "id": "TXlmV58sr4tt"
      }
    },
    {
      "cell_type": "code",
      "source": [
        "# Aplica la función applyScaleAndOffset a toda la colección\n",
        "img_col = img_col.map(applyScaleAndOffset)"
      ],
      "metadata": {
        "id": "44Ojg_ips_lm"
      },
      "execution_count": null,
      "outputs": []
    },
    {
      "cell_type": "markdown",
      "source": [
        "### **Imágenes RGB**"
      ],
      "metadata": {
        "id": "7nhUmt-MNQUE"
      }
    },
    {
      "cell_type": "markdown",
      "source": [
        "Ya que sabemos que el *nuevo* RGB nos permite identificar mejor la nube de ceniza volcánica, construiremos 2 colecciones rgb, una normal y la optimizada para poder compararlas. Estas serían de la forma:"
      ],
      "metadata": {
        "id": "hlc3ifFXKfY6"
      }
    },
    {
      "cell_type": "code",
      "source": [
        "Longitude: -98.45397949218751\n",
        "Latitude: 19.606368915776006\n",
        "text_coords = [-98.45397949218751, 19.606368915776006] #[long, lat]\n",
        "# Función que genera imagen RGB\n",
        "def IMGRGB(img):\n",
        "  # Asignamos parámetros de la imagen\n",
        "\n",
        "  img_rgb = img.visualize(\n",
        "      bands = [RED, GREEN, BLUE], # Los definimos desde antes\n",
        "      min = 0,\n",
        "      max = 0.6,\n",
        "      gamma = 1.3\n",
        "  )\n",
        "  return  img_rgb.blend(shapef)\n",
        "\n",
        "# Colección RGB normal\n",
        "rgb_col = img_col.map(IMGRGB)"
      ],
      "metadata": {
        "colab": {
          "base_uri": "https://localhost:8080/",
          "height": 17
        },
        "id": "GIojf2ZELXuz",
        "outputId": "6a223787-8b2f-40cf-f7c2-f285b1e4a154"
      },
      "execution_count": null,
      "outputs": [
        {
          "output_type": "display_data",
          "data": {
            "text/plain": [
              "<IPython.core.display.HTML object>"
            ],
            "text/html": [
              "\n",
              "            <style>\n",
              "                .geemap-dark {\n",
              "                    --jp-widgets-color: white;\n",
              "                    --jp-widgets-label-color: white;\n",
              "                    --jp-ui-font-color1: white;\n",
              "                    --jp-layout-color2: #454545;\n",
              "                    background-color: #383838;\n",
              "                }\n",
              "                    \n",
              "                .geemap-dark .jupyter-button {\n",
              "                    --jp-layout-color3: #383838;\n",
              "                }\n",
              "                \n",
              "                .geemap-colab {\n",
              "                    background-color: var(--colab-primary-surface-color, white);\n",
              "                }\n",
              "                    \n",
              "                .geemap-colab .jupyter-button {\n",
              "                    --jp-layout-color3: var(--colab-primary-surface-color, white);\n",
              "                }\n",
              "            </style>\n",
              "            "
            ]
          },
          "metadata": {}
        }
      ]
    },
    {
      "cell_type": "markdown",
      "source": [
        "Y para el RGB modificado tenemos:"
      ],
      "metadata": {
        "id": "y3zawJGLMYtt"
      }
    },
    {
      "cell_type": "code",
      "source": [
        "# Función que añade las bandas RGB modificadas a la colección de imágenes\n",
        "def NewRGB(img):\n",
        "  NRED = img.select('CMI_C15').subtract(img.select('CMI_C13')).rename('NRED')\n",
        "  NGREEN  = img.select('CMI_C14').subtract(img.select('CMI_C11')).rename('NGREEN')\n",
        "  NBLUE = img.select('CMI_C13').rename('NBLUE')\n",
        "  new_bands = ee.Image([NRED, NGREEN, NBLUE])\n",
        "  return img.addBands(new_bands)\n",
        "\n",
        "# Aplicamos la función de las nuevas bandas\n",
        "newimg_col = img_col.map(NewRGB)\n",
        "\n",
        "\n",
        "# Generamos la colección de imágenes RGB, con la mismas propiedades de la col. original\n",
        "def NewRGBCol(img):\n",
        "  newrgbimg = img.visualize(\n",
        "      bands = ['NRED', 'NGREEN', 'NBLUE'],\n",
        "      min = [-6.7, -6, 243.6],\n",
        "      max = [2.6, 6.3, 302.4],      # Parámetros paraa que resalte lo que queremos\n",
        "      gamma = [1,1,1]\n",
        "      )\n",
        "  return newrgbimg.blend(shapef)\n",
        "\n",
        "# Aplicamos la función para sólo tener la col. de imgs RGB\n",
        "newrgb_col = newimg_col.map(NewRGBCol)"
      ],
      "metadata": {
        "colab": {
          "base_uri": "https://localhost:8080/",
          "height": 17
        },
        "id": "HHYpRyTlMbbp",
        "outputId": "c593a926-53e0-45bc-86e9-90b772fbfd7d"
      },
      "execution_count": null,
      "outputs": [
        {
          "output_type": "display_data",
          "data": {
            "text/plain": [
              "<IPython.core.display.HTML object>"
            ],
            "text/html": [
              "\n",
              "            <style>\n",
              "                .geemap-dark {\n",
              "                    --jp-widgets-color: white;\n",
              "                    --jp-widgets-label-color: white;\n",
              "                    --jp-ui-font-color1: white;\n",
              "                    --jp-layout-color2: #454545;\n",
              "                    background-color: #383838;\n",
              "                }\n",
              "                    \n",
              "                .geemap-dark .jupyter-button {\n",
              "                    --jp-layout-color3: #383838;\n",
              "                }\n",
              "                \n",
              "                .geemap-colab {\n",
              "                    background-color: var(--colab-primary-surface-color, white);\n",
              "                }\n",
              "                    \n",
              "                .geemap-colab .jupyter-button {\n",
              "                    --jp-layout-color3: var(--colab-primary-surface-color, white);\n",
              "                }\n",
              "            </style>\n",
              "            "
            ]
          },
          "metadata": {}
        }
      ]
    },
    {
      "cell_type": "markdown",
      "source": [
        "### **Imágenes RGB + MASK**"
      ],
      "metadata": {
        "id": "0-Jc8z54NX47"
      }
    },
    {
      "cell_type": "markdown",
      "source": [
        "Si queremos conseguir una imagen de la máscara y que en el fondo se vea la imagen RGB, debemos aplicar todas estas condiciones dentro de una misma función para que se pueda hacer una unión **1-1**."
      ],
      "metadata": {
        "id": "khhW8AHbNgsr"
      }
    },
    {
      "cell_type": "markdown",
      "source": [
        "#### **Método 1**"
      ],
      "metadata": {
        "id": "ADlkU3VvXUs-"
      }
    },
    {
      "cell_type": "code",
      "source": [
        "# Función de RGB_mod + MASK 1\n",
        "def RGBMASK1(img):\n",
        "  # Asignamos parámetros a la img rgb modificada\n",
        "  rgbimg = img.visualize(\n",
        "      bands = ['NRED', 'NGREEN', 'NBLUE'],\n",
        "      min = [-6.7, -6, 243.6],\n",
        "      max = [2.6, 6.3, 302.4],\n",
        "      gamma = [1,1,1]\n",
        "      )\n",
        "  # Conseguimos los pixeles de la máscara\n",
        "  methmask1 = img.expression(\n",
        "      \"(BT10-BT12 < 0) ? 1 \"\n",
        "      \": 0\", {\n",
        "         'BT10' : img.select('CMI_C13'),\n",
        "         'BT12' : img.select('CMI_C15')\n",
        "     }).selfMask()\n",
        "  # Asignamos parámetros a la máscara\n",
        "  mask1 = methmask1.visualize(\n",
        "      palette = ['red'],\n",
        "      opacity = 0.5\n",
        "  )\n",
        "  return rgbimg.blend(mask1).set('system:time_start', img.get('system:time_start')).blend(shapef)\n",
        "\n",
        "# Aplicamos la función para conseguir la imagen con rgb+msk1\n",
        "rgbmask1_col = newimg_col.map(RGBMASK1)"
      ],
      "metadata": {
        "colab": {
          "base_uri": "https://localhost:8080/",
          "height": 17
        },
        "id": "9A9LbR9XN5Q1",
        "outputId": "5703eb13-23ab-46b5-86c2-bd3e5c1a7d9f"
      },
      "execution_count": null,
      "outputs": [
        {
          "output_type": "display_data",
          "data": {
            "text/plain": [
              "<IPython.core.display.HTML object>"
            ],
            "text/html": [
              "\n",
              "            <style>\n",
              "                .geemap-dark {\n",
              "                    --jp-widgets-color: white;\n",
              "                    --jp-widgets-label-color: white;\n",
              "                    --jp-ui-font-color1: white;\n",
              "                    --jp-layout-color2: #454545;\n",
              "                    background-color: #383838;\n",
              "                }\n",
              "                    \n",
              "                .geemap-dark .jupyter-button {\n",
              "                    --jp-layout-color3: #383838;\n",
              "                }\n",
              "                \n",
              "                .geemap-colab {\n",
              "                    background-color: var(--colab-primary-surface-color, white);\n",
              "                }\n",
              "                    \n",
              "                .geemap-colab .jupyter-button {\n",
              "                    --jp-layout-color3: var(--colab-primary-surface-color, white);\n",
              "                }\n",
              "            </style>\n",
              "            "
            ]
          },
          "metadata": {}
        }
      ]
    },
    {
      "cell_type": "markdown",
      "source": [
        "#### **Método 2**"
      ],
      "metadata": {
        "id": "XK6PHNp9Xj1-"
      }
    },
    {
      "cell_type": "code",
      "source": [
        "# Función de RGB_mod + MASK 1\n",
        "def RGBMASK2(img):\n",
        "  # Asignamos parámetros a la img rgb modificada\n",
        "  rgbimg = img.visualize(\n",
        "      bands = ['NRED', 'NGREEN', 'NBLUE'],\n",
        "      min = [-6.7, -6, 243.6],\n",
        "      max = [2.6, 6.3, 302.4],\n",
        "      gamma = [1,1,1]\n",
        "      )\n",
        "  # Conseguimos los pixeles de la máscara\n",
        "  methmask2 = img.expression(\n",
        "      \"((BT10-BT12 < 0) && (BT85-BT10 > 0)) ? 1 \"\n",
        "      \": 0\", {\n",
        "         'BT85' : img.select('CMI_C11'),\n",
        "         'BT10' : img.select('CMI_C13'),\n",
        "         'BT12' : img.select('CMI_C15')\n",
        "     }).selfMask()\n",
        "  # Asignamos parámetros a la máscara\n",
        "  mask2 = methmask2.visualize(\n",
        "      palette = ['red'],\n",
        "      opacity = 0.5\n",
        "  )\n",
        "  return rgbimg.blend(mask2).set('system:time_start', img.get('system:time_start')).blend(shapef)\n",
        "\n",
        "# Aplicamos la función para conseguir la imagen con rgb+msk1\n",
        "rgbmask2_col = newimg_col.map(RGBMASK2)"
      ],
      "metadata": {
        "colab": {
          "base_uri": "https://localhost:8080/",
          "height": 17
        },
        "id": "_cigAa30XmBt",
        "outputId": "3005a4e6-5252-473b-964b-8bbd823ca0fc"
      },
      "execution_count": null,
      "outputs": [
        {
          "output_type": "display_data",
          "data": {
            "text/plain": [
              "<IPython.core.display.HTML object>"
            ],
            "text/html": [
              "\n",
              "            <style>\n",
              "                .geemap-dark {\n",
              "                    --jp-widgets-color: white;\n",
              "                    --jp-widgets-label-color: white;\n",
              "                    --jp-ui-font-color1: white;\n",
              "                    --jp-layout-color2: #454545;\n",
              "                    background-color: #383838;\n",
              "                }\n",
              "                    \n",
              "                .geemap-dark .jupyter-button {\n",
              "                    --jp-layout-color3: #383838;\n",
              "                }\n",
              "                \n",
              "                .geemap-colab {\n",
              "                    background-color: var(--colab-primary-surface-color, white);\n",
              "                }\n",
              "                    \n",
              "                .geemap-colab .jupyter-button {\n",
              "                    --jp-layout-color3: var(--colab-primary-surface-color, white);\n",
              "                }\n",
              "            </style>\n",
              "            "
            ]
          },
          "metadata": {}
        }
      ]
    },
    {
      "cell_type": "markdown",
      "source": [
        "#### **Método 2 modificado**"
      ],
      "metadata": {
        "id": "6tKqhsPNYM6C"
      }
    },
    {
      "cell_type": "code",
      "source": [
        "# Función de RGB_mod + MASK 1\n",
        "def RGBMASK2M(img):\n",
        "  # Asignamos parámetros a la img rgb modificada\n",
        "  rgbimg = img.visualize(\n",
        "      bands = ['NRED', 'NGREEN', 'NBLUE'],\n",
        "      min = [-6.7, -6, 243.6],\n",
        "      max = [2.6, 6.3, 302.4],\n",
        "      gamma = [1,1,1]\n",
        "      )\n",
        "  # Conseguimos la máscara\n",
        "  methmask2 = img.expression(\n",
        "      \"((BT10-BT12 < 0) && (BT85-BT10 > 0)) ? 1 \"\n",
        "      \": 0\", {\n",
        "         'BT85' : img.select('CMI_C11'),\n",
        "         'BT10' : img.select('CMI_C13'),\n",
        "         'BT12' : img.select('CMI_C15')\n",
        "     })\n",
        "  # Expandimos la máscara\n",
        "  mask2_ext = methmask2.reduceNeighborhood(\n",
        "      reducer = ee.Reducer.anyNonZero(),\n",
        "      kernel = ee.Kernel.square(4000, units='meters') # 1pixel = 2000meters\n",
        "  )\n",
        "  # Recortamos la imagen\n",
        "  img_ext = img.updateMask(mask2_ext)\n",
        "  # Conseguimos los pixeles de la nueva máscara\n",
        "  methmask2m = img_ext.expression(\n",
        "      \"((BT10-BT12 < 0) && (BT85-BT10 > 0)) ? 1 \" # Cond estrictas\n",
        "      \": ((0 < BT10-BT12 < 1) && (0 > BT85-BT10 > -1)) ? 2 \" # Cond tenues\n",
        "      \": 0\", {\n",
        "          'BT85' : img_ext.select('CMI_C11'),\n",
        "          'BT10' : img_ext.select('CMI_C13'),\n",
        "          'BT12' : img_ext.select('CMI_C15')\n",
        "      }).selfMask()\n",
        "  # Asignamos parámetros a la máscara\n",
        "  mask2m = methmask2m.visualize(\n",
        "      palette = ['black', 'red', 'orange'],\n",
        "      opacity = 0.5\n",
        "  )\n",
        "  return rgbimg.blend(mask2m).set('system:time_start', img.get('system:time_start')).blend(shapef)\n",
        "\n",
        "# Aplicamos la función para conseguir la imagen con rgb+msk1\n",
        "rgbmask2m_col = newimg_col.map(RGBMASK2M)"
      ],
      "metadata": {
        "colab": {
          "base_uri": "https://localhost:8080/",
          "height": 17
        },
        "id": "wWVnVPUcYPSz",
        "outputId": "ad3059e8-a0e2-4492-a33f-a796e4404f89"
      },
      "execution_count": null,
      "outputs": [
        {
          "output_type": "display_data",
          "data": {
            "text/plain": [
              "<IPython.core.display.HTML object>"
            ],
            "text/html": [
              "\n",
              "            <style>\n",
              "                .geemap-dark {\n",
              "                    --jp-widgets-color: white;\n",
              "                    --jp-widgets-label-color: white;\n",
              "                    --jp-ui-font-color1: white;\n",
              "                    --jp-layout-color2: #454545;\n",
              "                    background-color: #383838;\n",
              "                }\n",
              "                    \n",
              "                .geemap-dark .jupyter-button {\n",
              "                    --jp-layout-color3: #383838;\n",
              "                }\n",
              "                \n",
              "                .geemap-colab {\n",
              "                    background-color: var(--colab-primary-surface-color, white);\n",
              "                }\n",
              "                    \n",
              "                .geemap-colab .jupyter-button {\n",
              "                    --jp-layout-color3: var(--colab-primary-surface-color, white);\n",
              "                }\n",
              "            </style>\n",
              "            "
            ]
          },
          "metadata": {}
        }
      ]
    },
    {
      "cell_type": "markdown",
      "source": [
        "### **Generando el GIF**"
      ],
      "metadata": {
        "id": "kZdBxJL2QLot"
      }
    },
    {
      "cell_type": "markdown",
      "source": [
        "Conseguimos coordenadas de las esquinas opuestas que comprenden nuestra *box* del GIF:\n",
        "\n",
        "\n",
        "* Longitude: -99.98657226562501\n",
        "Latitude: 20.179723502765153\n",
        "\n",
        "* Longitude: -96.7236328125\n",
        "Latitude: 18.312810846425457\n",
        "\n",
        "\\\n",
        "Longitude: -96.54785156250001\n",
        "Latitude: 20.179723502765153\n",
        "\n",
        "* Longitude: -98.80004882812501\n",
        "Latitude: 18.838714379258032\n",
        "\n",
        "* Longitude: -96.83898925781251\n",
        "Latitude: 20.195190636474504"
      ],
      "metadata": {
        "id": "xm4-vcu17a0M"
      }
    },
    {
      "cell_type": "code",
      "source": [
        "# Definimos nuestra Area-Of-Interest\n",
        "aoi = ee.Geometry.BBox(-98.80004882812501, 18.838714379258032,\n",
        "                       -96.54785156250001, 20.179723502765153)  # (west, south, east, north)\n",
        "\n",
        "# Le damos parámetros al video\n",
        "videoArgs = {\n",
        "  'dimensions': 768,\n",
        "  'region': aoi,\n",
        "  'framesPerSecond': 3,\n",
        "  'crs': 'EPSG:3857',\n",
        "  }"
      ],
      "metadata": {
        "id": "VUgBxV8f97SS",
        "colab": {
          "base_uri": "https://localhost:8080/",
          "height": 17
        },
        "outputId": "da11a1eb-08c0-4b35-b56b-600f62da54b3"
      },
      "execution_count": null,
      "outputs": [
        {
          "output_type": "display_data",
          "data": {
            "text/plain": [
              "<IPython.core.display.HTML object>"
            ],
            "text/html": [
              "\n",
              "            <style>\n",
              "                .geemap-dark {\n",
              "                    --jp-widgets-color: white;\n",
              "                    --jp-widgets-label-color: white;\n",
              "                    --jp-ui-font-color1: white;\n",
              "                    --jp-layout-color2: #454545;\n",
              "                    background-color: #383838;\n",
              "                }\n",
              "                    \n",
              "                .geemap-dark .jupyter-button {\n",
              "                    --jp-layout-color3: #383838;\n",
              "                }\n",
              "                \n",
              "                .geemap-colab {\n",
              "                    background-color: var(--colab-primary-surface-color, white);\n",
              "                }\n",
              "                    \n",
              "                .geemap-colab .jupyter-button {\n",
              "                    --jp-layout-color3: var(--colab-primary-surface-color, white);\n",
              "                }\n",
              "            </style>\n",
              "            "
            ]
          },
          "metadata": {}
        }
      ]
    },
    {
      "cell_type": "markdown",
      "source": [
        "Mandamos imprimir una URL que nos lleva al video/GIF generado"
      ],
      "metadata": {
        "id": "pI87eWWCeNzG"
      }
    },
    {
      "cell_type": "code",
      "source": [
        "def timelist(img):\n",
        "  #return ee.Date(img).format('H:m', 'America/Mexico_City')\n",
        "  return ee.Feature(None, {'time': img.date().format('H:m', 'America/Mexico_City')})\n",
        "\n",
        "\n",
        "times = img_col.map(timelist).aggregate_array('time').getInfo()\n"
      ],
      "metadata": {
        "colab": {
          "base_uri": "https://localhost:8080/",
          "height": 17
        },
        "id": "l_skHPXag6Te",
        "outputId": "8b3210fa-c8ac-482b-db56-79060fcdb69a"
      },
      "execution_count": null,
      "outputs": [
        {
          "output_type": "display_data",
          "data": {
            "text/plain": [
              "<IPython.core.display.HTML object>"
            ],
            "text/html": [
              "\n",
              "            <style>\n",
              "                .geemap-dark {\n",
              "                    --jp-widgets-color: white;\n",
              "                    --jp-widgets-label-color: white;\n",
              "                    --jp-ui-font-color1: white;\n",
              "                    --jp-layout-color2: #454545;\n",
              "                    background-color: #383838;\n",
              "                }\n",
              "                    \n",
              "                .geemap-dark .jupyter-button {\n",
              "                    --jp-layout-color3: #383838;\n",
              "                }\n",
              "                \n",
              "                .geemap-colab {\n",
              "                    background-color: var(--colab-primary-surface-color, white);\n",
              "                }\n",
              "                    \n",
              "                .geemap-colab .jupyter-button {\n",
              "                    --jp-layout-color3: var(--colab-primary-surface-color, white);\n",
              "                }\n",
              "            </style>\n",
              "            "
            ]
          },
          "metadata": {}
        }
      ]
    },
    {
      "cell_type": "code",
      "source": [
        "saved_gif = 'goes.gif'\n",
        "geemap.download_ee_video(newrgb_col, videoArgs, saved_gif)\n",
        "#geemap.show_image(saved_gif)"
      ],
      "metadata": {
        "colab": {
          "base_uri": "https://localhost:8080/",
          "height": 105
        },
        "id": "ij7ZeX6GFEuV",
        "outputId": "0f6c42a8-0834-494c-a617-646b667fe55f"
      },
      "execution_count": null,
      "outputs": [
        {
          "output_type": "display_data",
          "data": {
            "text/plain": [
              "<IPython.core.display.HTML object>"
            ],
            "text/html": [
              "\n",
              "            <style>\n",
              "                .geemap-dark {\n",
              "                    --jp-widgets-color: white;\n",
              "                    --jp-widgets-label-color: white;\n",
              "                    --jp-ui-font-color1: white;\n",
              "                    --jp-layout-color2: #454545;\n",
              "                    background-color: #383838;\n",
              "                }\n",
              "                    \n",
              "                .geemap-dark .jupyter-button {\n",
              "                    --jp-layout-color3: #383838;\n",
              "                }\n",
              "                \n",
              "                .geemap-colab {\n",
              "                    background-color: var(--colab-primary-surface-color, white);\n",
              "                }\n",
              "                    \n",
              "                .geemap-colab .jupyter-button {\n",
              "                    --jp-layout-color3: var(--colab-primary-surface-color, white);\n",
              "                }\n",
              "            </style>\n",
              "            "
            ]
          },
          "metadata": {}
        },
        {
          "output_type": "stream",
          "name": "stdout",
          "text": [
            "Generating URL...\n",
            "Downloading GIF image from https://earthengine.googleapis.com/v1/projects/earthengine-legacy/videoThumbnails/73c4c7b23b757c3b333bf27b341a287e-52e546ad838c2ceb12c4de27df3def94:getPixels\n",
            "Please wait ...\n",
            "The GIF image has been saved to: /content/goes.gif\n"
          ]
        }
      ]
    },
    {
      "cell_type": "code",
      "source": [
        "text = times\n",
        "out_gif = 'goesrgbm_time.gif'\n",
        "geemap.add_text_to_gif(\n",
        "    saved_gif,\n",
        "    out_gif,\n",
        "    xy=('3%', '5%'),\n",
        "    text_sequence=text,\n",
        "    font_size=30,\n",
        "    font_color='#ffffff',\n",
        ")\n",
        "geemap.show_image(out_gif)"
      ],
      "metadata": {
        "id": "hWpTzk-4HkFx"
      },
      "execution_count": null,
      "outputs": []
    },
    {
      "cell_type": "markdown",
      "source": [
        "### **Generando thumbnails**"
      ],
      "metadata": {
        "id": "eEwKUpcsNfQW"
      }
    },
    {
      "cell_type": "markdown",
      "source": [
        "Aquí, podemos exportar los mapas de la primera sección, donde se vió el efecto de los algoritmos para una sola imagen. Utilizamos la funciones que se aplican a las colecciones de imágenes porque estas nos formatean la imagen con las layers que queremos, lo que facilita el uso de la función *ee.Image.getThumbURL()*.\n",
        "\n",
        "\\\n",
        "\n",
        "Aplicamos las funciones a nuestra imagen, tomando la misma región de interés que la que usamos en la animación."
      ],
      "metadata": {
        "id": "yHx3F84-Q68v"
      }
    },
    {
      "cell_type": "code",
      "source": [
        "# Generamos nuestras imagenes\n",
        "rgb_thumb = IMGRGB(image)\n",
        "newrgb_thumb = NewRGBCol(image)\n",
        "mask1_thumb = RGBMASK1(image)\n",
        "mask2_thumb = RGBMASK2(image)\n",
        "mask2m_thumb = RGBMASK2M(image)\n",
        "\n",
        "# Convertimos las ee.Image en imágenes PNG\n",
        "print(rgb_thumb.getThumbURL({'region': aoi, 'scale': 200, 'format': 'png'}))"
      ],
      "metadata": {
        "colab": {
          "base_uri": "https://localhost:8080/",
          "height": 17
        },
        "id": "tu76uHxvLfSU",
        "outputId": "a39b103f-be88-4d3c-84d4-e827806bce2c"
      },
      "execution_count": null,
      "outputs": [
        {
          "output_type": "display_data",
          "data": {
            "text/plain": [
              "<IPython.core.display.HTML object>"
            ],
            "text/html": [
              "\n",
              "            <style>\n",
              "                .geemap-dark {\n",
              "                    --jp-widgets-color: white;\n",
              "                    --jp-widgets-label-color: white;\n",
              "                    --jp-ui-font-color1: white;\n",
              "                    --jp-layout-color2: #454545;\n",
              "                    background-color: #383838;\n",
              "                }\n",
              "                    \n",
              "                .geemap-dark .jupyter-button {\n",
              "                    --jp-layout-color3: #383838;\n",
              "                }\n",
              "                \n",
              "                .geemap-colab {\n",
              "                    background-color: var(--colab-primary-surface-color, white);\n",
              "                }\n",
              "                    \n",
              "                .geemap-colab .jupyter-button {\n",
              "                    --jp-layout-color3: var(--colab-primary-surface-color, white);\n",
              "                }\n",
              "            </style>\n",
              "            "
            ]
          },
          "metadata": {}
        }
      ]
    }
  ]
}